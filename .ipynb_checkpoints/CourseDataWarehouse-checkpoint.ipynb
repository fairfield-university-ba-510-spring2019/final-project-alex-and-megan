{
 "cells": [
  {
   "cell_type": "code",
   "execution_count": 1,
   "metadata": {},
   "outputs": [],
   "source": [
    "%reload_ext sql"
   ]
  },
  {
   "cell_type": "code",
   "execution_count": 4,
   "metadata": {},
   "outputs": [
    {
     "data": {
      "text/plain": [
       "'Connected: @CourseDataWarehouse1.db'"
      ]
     },
     "execution_count": 4,
     "metadata": {},
     "output_type": "execute_result"
    }
   ],
   "source": [
    "%%sql\n",
    "sqlite:///CourseDataWarehouse1.db"
   ]
  },
  {
   "cell_type": "markdown",
   "metadata": {},
   "source": [
    "CREATE THE LOCATION TABLE"
   ]
  },
  {
   "cell_type": "code",
   "execution_count": 22,
   "metadata": {},
   "outputs": [
    {
     "name": "stdout",
     "output_type": "stream",
     "text": [
      "   sqlite:///CourseDataWarehouse.db\n",
      " * sqlite:///CourseDataWarehouse1.db\n",
      "Done.\n",
      "Done.\n"
     ]
    },
    {
     "data": {
      "text/plain": [
       "[]"
      ]
     },
     "execution_count": 22,
     "metadata": {},
     "output_type": "execute_result"
    }
   ],
   "source": [
    "%%sql\n",
    "DROP TABLE Location;\n",
    "CREATE TABLE Location(\n",
    "    location_ID INTEGER PRIMARY KEY AUTOINCREMENT,\n",
    "    location TEXT NOT NULL\n",
    "    );"
   ]
  },
  {
   "cell_type": "code",
   "execution_count": 23,
   "metadata": {},
   "outputs": [
    {
     "name": "stdout",
     "output_type": "stream",
     "text": [
      "   sqlite:///CourseDataWarehouse.db\n",
      " * sqlite:///CourseDataWarehouse1.db\n",
      "208 rows affected.\n"
     ]
    },
    {
     "data": {
      "text/plain": [
       "[]"
      ]
     },
     "execution_count": 23,
     "metadata": {},
     "output_type": "execute_result"
    }
   ],
   "source": [
    "%%sql\n",
    "INSERT INTO Location (location)\n",
    "SELECT DISTINCT location\n",
    "FROM coursemeetings;"
   ]
  },
  {
   "cell_type": "code",
   "execution_count": 25,
   "metadata": {},
   "outputs": [
    {
     "name": "stdout",
     "output_type": "stream",
     "text": [
      "   sqlite:///CourseDataWarehouse.db\n",
      " * sqlite:///CourseDataWarehouse1.db\n",
      "Done.\n"
     ]
    },
    {
     "data": {
      "text/html": [
       "<table>\n",
       "    <tr>\n",
       "        <th>location_ID</th>\n",
       "        <th>location</th>\n",
       "    </tr>\n",
       "    <tr>\n",
       "        <td>1</td>\n",
       "        <td>DSB 105</td>\n",
       "    </tr>\n",
       "    <tr>\n",
       "        <td>2</td>\n",
       "        <td>DSB 111</td>\n",
       "    </tr>\n",
       "    <tr>\n",
       "        <td>3</td>\n",
       "        <td>DSB 110A</td>\n",
       "    </tr>\n",
       "    <tr>\n",
       "        <td>4</td>\n",
       "        <td>DSB 108</td>\n",
       "    </tr>\n",
       "    <tr>\n",
       "        <td>5</td>\n",
       "        <td>DSB 110B</td>\n",
       "    </tr>\n",
       "    <tr>\n",
       "        <td>6</td>\n",
       "        <td>DSB 104</td>\n",
       "    </tr>\n",
       "    <tr>\n",
       "        <td>7</td>\n",
       "        <td>DSB 112</td>\n",
       "    </tr>\n",
       "    <tr>\n",
       "        <td>8</td>\n",
       "        <td>DSB 109</td>\n",
       "    </tr>\n",
       "    <tr>\n",
       "        <td>9</td>\n",
       "        <td>DSB 115</td>\n",
       "    </tr>\n",
       "    <tr>\n",
       "        <td>10</td>\n",
       "        <td>DSB 2109A</td>\n",
       "    </tr>\n",
       "    <tr>\n",
       "        <td>11</td>\n",
       "        <td>CNS 5</td>\n",
       "    </tr>\n",
       "    <tr>\n",
       "        <td>12</td>\n",
       "        <td>CNS 108</td>\n",
       "    </tr>\n",
       "    <tr>\n",
       "        <td>13</td>\n",
       "        <td>CNS 106</td>\n",
       "    </tr>\n",
       "    <tr>\n",
       "        <td>14</td>\n",
       "        <td>BNW 254</td>\n",
       "    </tr>\n",
       "    <tr>\n",
       "        <td>15</td>\n",
       "        <td>SON 124</td>\n",
       "    </tr>\n",
       "    <tr>\n",
       "        <td>16</td>\n",
       "        <td>CNS 303</td>\n",
       "    </tr>\n",
       "    <tr>\n",
       "        <td>17</td>\n",
       "        <td>CNS 305</td>\n",
       "    </tr>\n",
       "    <tr>\n",
       "        <td>18</td>\n",
       "        <td>BNW 137</td>\n",
       "    </tr>\n",
       "    <tr>\n",
       "        <td>19</td>\n",
       "        <td>CNS 15</td>\n",
       "    </tr>\n",
       "    <tr>\n",
       "        <td>20</td>\n",
       "        <td>CNS 208</td>\n",
       "    </tr>\n",
       "</table>"
      ],
      "text/plain": [
       "[(1, 'DSB 105'),\n",
       " (2, 'DSB 111'),\n",
       " (3, 'DSB 110A'),\n",
       " (4, 'DSB 108'),\n",
       " (5, 'DSB 110B'),\n",
       " (6, 'DSB 104'),\n",
       " (7, 'DSB 112'),\n",
       " (8, 'DSB 109'),\n",
       " (9, 'DSB 115'),\n",
       " (10, 'DSB 2109A'),\n",
       " (11, 'CNS 5'),\n",
       " (12, 'CNS 108'),\n",
       " (13, 'CNS 106'),\n",
       " (14, 'BNW 254'),\n",
       " (15, 'SON 124'),\n",
       " (16, 'CNS 303'),\n",
       " (17, 'CNS 305'),\n",
       " (18, 'BNW 137'),\n",
       " (19, 'CNS 15'),\n",
       " (20, 'CNS 208')]"
      ]
     },
     "execution_count": 25,
     "metadata": {},
     "output_type": "execute_result"
    }
   ],
   "source": [
    "%%sql\n",
    "SELECT *\n",
    "FROM Location\n",
    "LIMIT 20;"
   ]
  },
  {
   "cell_type": "markdown",
   "metadata": {},
   "source": [
    "CREATE THE COURSE INFO TABLE"
   ]
  },
  {
   "cell_type": "code",
   "execution_count": 30,
   "metadata": {},
   "outputs": [
    {
     "name": "stdout",
     "output_type": "stream",
     "text": [
      "   sqlite:///CourseDataWarehouse.db\n",
      " * sqlite:///CourseDataWarehouse1.db\n",
      "Done.\n",
      "Done.\n"
     ]
    },
    {
     "data": {
      "text/plain": [
       "[]"
      ]
     },
     "execution_count": 30,
     "metadata": {},
     "output_type": "execute_result"
    }
   ],
   "source": [
    "%%sql\n",
    "DROP TABLE Course_Info;\n",
    "CREATE TABLE Course_Info (\n",
    "    course_ID INTEGER PRIMARY KEY AUTOINCREMENT,\n",
    "    term TEXT NOT NULL,\n",
    "    section TEXT NOT NULL,\n",
    "    title TEXT NOT NULL,\n",
    "    primary_instructor TEXT NOT NULL\n",
    "    );"
   ]
  },
  {
   "cell_type": "code",
   "execution_count": 32,
   "metadata": {},
   "outputs": [
    {
     "name": "stdout",
     "output_type": "stream",
     "text": [
      "   sqlite:///CourseDataWarehouse.db\n",
      " * sqlite:///CourseDataWarehouse1.db\n",
      "15446 rows affected.\n"
     ]
    },
    {
     "data": {
      "text/plain": [
       "[]"
      ]
     },
     "execution_count": 32,
     "metadata": {},
     "output_type": "execute_result"
    }
   ],
   "source": [
    "%%sql\n",
    "INSERT INTO Course_Info (term, section, title, primary_instructor)\n",
    "SELECT DISTINCT term, section, title, primary_instructor\n",
    "FROM courses;"
   ]
  },
  {
   "cell_type": "code",
   "execution_count": 33,
   "metadata": {},
   "outputs": [
    {
     "name": "stdout",
     "output_type": "stream",
     "text": [
      "   sqlite:///CourseDataWarehouse.db\n",
      " * sqlite:///CourseDataWarehouse1.db\n",
      "Done.\n"
     ]
    },
    {
     "data": {
      "text/html": [
       "<table>\n",
       "    <tr>\n",
       "        <th>course_ID</th>\n",
       "        <th>term</th>\n",
       "        <th>section</th>\n",
       "        <th>title</th>\n",
       "        <th>primary_instructor</th>\n",
       "    </tr>\n",
       "    <tr>\n",
       "        <td>1</td>\n",
       "        <td>Fall2014</td>\n",
       "        <td>C01</td>\n",
       "        <td>Introduction to Financial Accounting</td>\n",
       "        <td>Michael P.  Coyne</td>\n",
       "    </tr>\n",
       "    <tr>\n",
       "        <td>2</td>\n",
       "        <td>Fall2014</td>\n",
       "        <td>C02</td>\n",
       "        <td>Introduction to Financial Accounting</td>\n",
       "        <td>Michael P.  Coyne</td>\n",
       "    </tr>\n",
       "    <tr>\n",
       "        <td>3</td>\n",
       "        <td>Fall2014</td>\n",
       "        <td>C03</td>\n",
       "        <td>Introduction to Financial Accounting</td>\n",
       "        <td>Michael P.  Coyne</td>\n",
       "    </tr>\n",
       "    <tr>\n",
       "        <td>4</td>\n",
       "        <td>Fall2014</td>\n",
       "        <td>C04</td>\n",
       "        <td>Introduction to Financial Accounting</td>\n",
       "        <td>Rebecca I.  Bloch</td>\n",
       "    </tr>\n",
       "    <tr>\n",
       "        <td>5</td>\n",
       "        <td>Fall2014</td>\n",
       "        <td>C05</td>\n",
       "        <td>Introduction to Financial Accounting</td>\n",
       "        <td>Rebecca I.  Bloch</td>\n",
       "    </tr>\n",
       "    <tr>\n",
       "        <td>6</td>\n",
       "        <td>Fall2014</td>\n",
       "        <td>C06</td>\n",
       "        <td>Introduction to Financial Accounting</td>\n",
       "        <td>Rebecca I.  Bloch</td>\n",
       "    </tr>\n",
       "    <tr>\n",
       "        <td>7</td>\n",
       "        <td>Fall2014</td>\n",
       "        <td>G</td>\n",
       "        <td>Introduction to Financial Accounting</td>\n",
       "        <td>Paul   Caster</td>\n",
       "    </tr>\n",
       "    <tr>\n",
       "        <td>8</td>\n",
       "        <td>Fall2014</td>\n",
       "        <td>H</td>\n",
       "        <td>Introduction to Financial Accounting</td>\n",
       "        <td>Jo Ann   Drusbosky</td>\n",
       "    </tr>\n",
       "    <tr>\n",
       "        <td>9</td>\n",
       "        <td>Fall2014</td>\n",
       "        <td>I</td>\n",
       "        <td>Introduction to Financial Accounting</td>\n",
       "        <td>Jo Ann   Drusbosky</td>\n",
       "    </tr>\n",
       "    <tr>\n",
       "        <td>10</td>\n",
       "        <td>Fall2014</td>\n",
       "        <td>J</td>\n",
       "        <td>Introduction to Financial Accounting</td>\n",
       "        <td>Jo Ann   Drusbosky</td>\n",
       "    </tr>\n",
       "</table>"
      ],
      "text/plain": [
       "[(1, 'Fall2014', 'C01', 'Introduction to Financial Accounting', 'Michael P.  Coyne'),\n",
       " (2, 'Fall2014', 'C02', 'Introduction to Financial Accounting', 'Michael P.  Coyne'),\n",
       " (3, 'Fall2014', 'C03', 'Introduction to Financial Accounting', 'Michael P.  Coyne'),\n",
       " (4, 'Fall2014', 'C04', 'Introduction to Financial Accounting', 'Rebecca I.  Bloch'),\n",
       " (5, 'Fall2014', 'C05', 'Introduction to Financial Accounting', 'Rebecca I.  Bloch'),\n",
       " (6, 'Fall2014', 'C06', 'Introduction to Financial Accounting', 'Rebecca I.  Bloch'),\n",
       " (7, 'Fall2014', 'G', 'Introduction to Financial Accounting', 'Paul   Caster'),\n",
       " (8, 'Fall2014', 'H', 'Introduction to Financial Accounting', 'Jo Ann   Drusbosky'),\n",
       " (9, 'Fall2014', 'I', 'Introduction to Financial Accounting', 'Jo Ann   Drusbosky'),\n",
       " (10, 'Fall2014', 'J', 'Introduction to Financial Accounting', 'Jo Ann   Drusbosky')]"
      ]
     },
     "execution_count": 33,
     "metadata": {},
     "output_type": "execute_result"
    }
   ],
   "source": [
    "%%sql\n",
    "SELECT *\n",
    "FROM Course_Info\n",
    "LIMIT 10;"
   ]
  },
  {
   "cell_type": "markdown",
   "metadata": {},
   "source": [
    "CREATE CATALOG_INFO TABLE"
   ]
  },
  {
   "cell_type": "code",
   "execution_count": 57,
   "metadata": {},
   "outputs": [
    {
     "name": "stdout",
     "output_type": "stream",
     "text": [
      "   sqlite:///CourseDataWarehouse.db\n",
      " * sqlite:///CourseDataWarehouse1.db\n",
      "Done.\n",
      "Done.\n"
     ]
    },
    {
     "data": {
      "text/plain": [
       "[]"
      ]
     },
     "execution_count": 57,
     "metadata": {},
     "output_type": "execute_result"
    }
   ],
   "source": [
    "%%sql\n",
    "DROP TABLE Catalog_Info;\n",
    "CREATE TABLE Catalog_Info (\n",
    "    catalog_id INTEGER SURROGATE KEY,\n",
    "    program_code TEXT NOT NULL,\n",
    "    program_name TEXT NOT NULL,\n",
    "    prereqs TEXT NOT NULL,\n",
    "    coreqs TEXT NOT NULL\n",
    "    );"
   ]
  },
  {
   "cell_type": "code",
   "execution_count": 58,
   "metadata": {},
   "outputs": [
    {
     "name": "stdout",
     "output_type": "stream",
     "text": [
      "   sqlite:///CourseDataWarehouse.db\n",
      " * sqlite:///CourseDataWarehouse1.db\n",
      "2220 rows affected.\n"
     ]
    },
    {
     "data": {
      "text/plain": [
       "[]"
      ]
     },
     "execution_count": 58,
     "metadata": {},
     "output_type": "execute_result"
    }
   ],
   "source": [
    "%%sql\n",
    "INSERT INTO Catalog_Info (catalog_id,program_code, program_name, prereqs, coreqs)\n",
    "SELECT DISTINCT catalog_id,program_code, program_name, prereqs, coreqs\n",
    "FROM coursecatalog;"
   ]
  },
  {
   "cell_type": "code",
   "execution_count": 59,
   "metadata": {},
   "outputs": [
    {
     "name": "stdout",
     "output_type": "stream",
     "text": [
      "   sqlite:///CourseDataWarehouse.db\n",
      " * sqlite:///CourseDataWarehouse1.db\n",
      "Done.\n"
     ]
    },
    {
     "data": {
      "text/html": [
       "<table>\n",
       "    <tr>\n",
       "        <th>catalog_id</th>\n",
       "        <th>program_code</th>\n",
       "        <th>program_name</th>\n",
       "        <th>prereqs</th>\n",
       "        <th>coreqs</th>\n",
       "    </tr>\n",
       "    <tr>\n",
       "        <td>AN 0301</td>\n",
       "        <td>AN</td>\n",
       "        <td>Asian Studies</td>\n",
       "        <td></td>\n",
       "        <td></td>\n",
       "    </tr>\n",
       "    <tr>\n",
       "        <td>AN 0310</td>\n",
       "        <td>AN</td>\n",
       "        <td>Asian Studies</td>\n",
       "        <td></td>\n",
       "        <td></td>\n",
       "    </tr>\n",
       "    <tr>\n",
       "        <td>BU 0211</td>\n",
       "        <td>BU</td>\n",
       "        <td>Business</td>\n",
       "        <td>Junior standing.</td>\n",
       "        <td></td>\n",
       "    </tr>\n",
       "    <tr>\n",
       "        <td>BU 0220</td>\n",
       "        <td>BU</td>\n",
       "        <td>Business</td>\n",
       "        <td></td>\n",
       "        <td></td>\n",
       "    </tr>\n",
       "    <tr>\n",
       "        <td>BU 0311</td>\n",
       "        <td>BU</td>\n",
       "        <td>Business</td>\n",
       "        <td>BU 0211.</td>\n",
       "        <td></td>\n",
       "    </tr>\n",
       "    <tr>\n",
       "        <td>BU 0312</td>\n",
       "        <td>BU</td>\n",
       "        <td>Business</td>\n",
       "        <td>BU 0211.</td>\n",
       "        <td></td>\n",
       "    </tr>\n",
       "    <tr>\n",
       "        <td>BU 0320</td>\n",
       "        <td>BU</td>\n",
       "        <td>Business</td>\n",
       "        <td></td>\n",
       "        <td></td>\n",
       "    </tr>\n",
       "    <tr>\n",
       "        <td>BU 0391</td>\n",
       "        <td>BU</td>\n",
       "        <td>Business</td>\n",
       "        <td>AE 0291, BU 0211, two additional courses in law or applied ethics.</td>\n",
       "        <td></td>\n",
       "    </tr>\n",
       "    <tr>\n",
       "        <td>BL 0101</td>\n",
       "        <td>BL</td>\n",
       "        <td>Black Studies</td>\n",
       "        <td></td>\n",
       "        <td></td>\n",
       "    </tr>\n",
       "    <tr>\n",
       "        <td>BL 0398</td>\n",
       "        <td>BL</td>\n",
       "        <td>Black Studies</td>\n",
       "        <td></td>\n",
       "        <td></td>\n",
       "    </tr>\n",
       "</table>"
      ],
      "text/plain": [
       "[('AN 0301', 'AN', 'Asian Studies', '', ''),\n",
       " ('AN 0310', 'AN', 'Asian Studies', '', ''),\n",
       " ('BU 0211', 'BU', 'Business', 'Junior standing.', ''),\n",
       " ('BU 0220', 'BU', 'Business', '', ''),\n",
       " ('BU 0311', 'BU', 'Business', 'BU 0211.', ''),\n",
       " ('BU 0312', 'BU', 'Business', 'BU 0211.', ''),\n",
       " ('BU 0320', 'BU', 'Business', '', ''),\n",
       " ('BU 0391', 'BU', 'Business', 'AE 0291, BU 0211, two additional courses in law or applied ethics.', ''),\n",
       " ('BL 0101', 'BL', 'Black Studies', '', ''),\n",
       " ('BL 0398', 'BL', 'Black Studies', '', '')]"
      ]
     },
     "execution_count": 59,
     "metadata": {},
     "output_type": "execute_result"
    }
   ],
   "source": [
    "%%sql\n",
    "SELECT *\n",
    "FROM Catalog_Info\n",
    "LIMIT 10;"
   ]
  },
  {
   "cell_type": "markdown",
   "metadata": {},
   "source": [
    "CREATE FACT TABLE"
   ]
  },
  {
   "cell_type": "code",
   "execution_count": 68,
   "metadata": {},
   "outputs": [
    {
     "name": "stdout",
     "output_type": "stream",
     "text": [
      "   sqlite:///CourseDataWarehouse.db\n",
      " * sqlite:///CourseDataWarehouse1.db\n",
      "Done.\n",
      "Done.\n"
     ]
    },
    {
     "data": {
      "text/plain": [
       "[]"
      ]
     },
     "execution_count": 68,
     "metadata": {},
     "output_type": "execute_result"
    }
   ],
   "source": [
    "%%sql\n",
    "DROP TABLE Fact;\n",
    "CREATE TABLE Fact (\n",
    "    crn INTEGER NOT NULL,\n",
    "    credits INTEGER NOT NULL,\n",
    "    location_ID INTEGER NOT NULL,\n",
    "    course_ID INTEGER NOT NULL,\n",
    "    catalog_id INTEGER,\n",
    "    fees TEXT,\n",
    "    day TEXT NOT NULL,\n",
    "    start TEXT NOT NULL,\n",
    "    end TEXT NOT NULL,\n",
    "    FOREIGN KEY(location_ID) REFERENCES Location(location_ID),\n",
    "    FOREIGN KEY(course_ID) REFERENCES Course_Info(course_ID),\n",
    "    FOREIGN KEY(catalog_id) REFERENCES Catalog_Info(catalog_id)\n",
    "    );"
   ]
  },
  {
   "cell_type": "code",
   "execution_count": 69,
   "metadata": {},
   "outputs": [
    {
     "name": "stdout",
     "output_type": "stream",
     "text": [
      "   sqlite:///CourseDataWarehouse.db\n",
      " * sqlite:///CourseDataWarehouse1.db\n",
      "Done.\n"
     ]
    },
    {
     "data": {
      "text/html": [
       "<table>\n",
       "    <tr>\n",
       "        <th>crn</th>\n",
       "        <th>credits</th>\n",
       "        <th>location_ID</th>\n",
       "        <th>course_ID</th>\n",
       "        <th>catalog_id</th>\n",
       "        <th>fees</th>\n",
       "        <th>day</th>\n",
       "        <th>start</th>\n",
       "        <th>end</th>\n",
       "    </tr>\n",
       "</table>"
      ],
      "text/plain": [
       "[]"
      ]
     },
     "execution_count": 69,
     "metadata": {},
     "output_type": "execute_result"
    }
   ],
   "source": [
    "%%sql\n",
    "select * \n",
    "from Fact\n",
    "LIMIT 10"
   ]
  },
  {
   "cell_type": "code",
   "execution_count": 70,
   "metadata": {},
   "outputs": [
    {
     "name": "stdout",
     "output_type": "stream",
     "text": [
      "   sqlite:///CourseDataWarehouse.db\n",
      " * sqlite:///CourseDataWarehouse1.db\n",
      "911155 rows affected.\n"
     ]
    },
    {
     "data": {
      "text/plain": [
       "[]"
      ]
     },
     "execution_count": 70,
     "metadata": {},
     "output_type": "execute_result"
    }
   ],
   "source": [
    "%%sql\n",
    "INSERT INTO Fact (crn,credits,location_ID,course_ID,catalog_id,fees,day,start,end)\n",
    "SELECT CM.crn,C.credits,L.location_ID,CSI.course_ID,CAI.catalog_id,fees,day,start,end\n",
    "FROM coursemeetings CM\n",
    "    LEFT JOIN Location L ON CM.location=L.location\n",
    "    LEFT JOIN Courses C ON C.crn=CM.crn\n",
    "    LEFT JOIN coursecatalog CC ON CC.catalog_id = C.catalog_id\n",
    "    LEFT JOIN Course_Info CSI ON CSI.title = C.title \n",
    "                                AND CSI.section = C.section\n",
    "                                AND CSI.term = C.term\n",
    "    LEFT JOIN Catalog_info CAI ON CAI.catalog_id = C.catalog_id;"
   ]
  },
  {
   "cell_type": "code",
   "execution_count": 71,
   "metadata": {},
   "outputs": [
    {
     "name": "stdout",
     "output_type": "stream",
     "text": [
      "   sqlite:///CourseDataWarehouse.db\n",
      " * sqlite:///CourseDataWarehouse1.db\n",
      "Done.\n"
     ]
    },
    {
     "data": {
      "text/html": [
       "<table>\n",
       "    <tr>\n",
       "        <th>crn</th>\n",
       "        <th>credits</th>\n",
       "        <th>location_ID</th>\n",
       "        <th>course_ID</th>\n",
       "        <th>catalog_id</th>\n",
       "        <th>fees</th>\n",
       "        <th>day</th>\n",
       "        <th>start</th>\n",
       "        <th>end</th>\n",
       "    </tr>\n",
       "    <tr>\n",
       "        <td>70384</td>\n",
       "        <td>3</td>\n",
       "        <td>1</td>\n",
       "        <td>1</td>\n",
       "        <td>AC 0011</td>\n",
       "        <td></td>\n",
       "        <td>T</td>\n",
       "        <td>2014-09-02T08:00:00</td>\n",
       "        <td>2014-09-02T09:15:00</td>\n",
       "    </tr>\n",
       "    <tr>\n",
       "        <td>70384</td>\n",
       "        <td>3</td>\n",
       "        <td>1</td>\n",
       "        <td>1</td>\n",
       "        <td>AC 0011</td>\n",
       "        <td></td>\n",
       "        <td>T</td>\n",
       "        <td>2014-09-02T08:00:00</td>\n",
       "        <td>2014-09-02T09:15:00</td>\n",
       "    </tr>\n",
       "    <tr>\n",
       "        <td>70384</td>\n",
       "        <td>3</td>\n",
       "        <td>1</td>\n",
       "        <td>1</td>\n",
       "        <td>AC 0011</td>\n",
       "        <td></td>\n",
       "        <td>F</td>\n",
       "        <td>2014-09-05T08:00:00</td>\n",
       "        <td>2014-09-05T09:15:00</td>\n",
       "    </tr>\n",
       "    <tr>\n",
       "        <td>70384</td>\n",
       "        <td>3</td>\n",
       "        <td>1</td>\n",
       "        <td>1</td>\n",
       "        <td>AC 0011</td>\n",
       "        <td></td>\n",
       "        <td>F</td>\n",
       "        <td>2014-09-05T08:00:00</td>\n",
       "        <td>2014-09-05T09:15:00</td>\n",
       "    </tr>\n",
       "    <tr>\n",
       "        <td>70384</td>\n",
       "        <td>3</td>\n",
       "        <td>1</td>\n",
       "        <td>1</td>\n",
       "        <td>AC 0011</td>\n",
       "        <td></td>\n",
       "        <td>T</td>\n",
       "        <td>2014-09-09T08:00:00</td>\n",
       "        <td>2014-09-09T09:15:00</td>\n",
       "    </tr>\n",
       "    <tr>\n",
       "        <td>70384</td>\n",
       "        <td>3</td>\n",
       "        <td>1</td>\n",
       "        <td>1</td>\n",
       "        <td>AC 0011</td>\n",
       "        <td></td>\n",
       "        <td>T</td>\n",
       "        <td>2014-09-09T08:00:00</td>\n",
       "        <td>2014-09-09T09:15:00</td>\n",
       "    </tr>\n",
       "    <tr>\n",
       "        <td>70384</td>\n",
       "        <td>3</td>\n",
       "        <td>1</td>\n",
       "        <td>1</td>\n",
       "        <td>AC 0011</td>\n",
       "        <td></td>\n",
       "        <td>F</td>\n",
       "        <td>2014-09-12T08:00:00</td>\n",
       "        <td>2014-09-12T09:15:00</td>\n",
       "    </tr>\n",
       "    <tr>\n",
       "        <td>70384</td>\n",
       "        <td>3</td>\n",
       "        <td>1</td>\n",
       "        <td>1</td>\n",
       "        <td>AC 0011</td>\n",
       "        <td></td>\n",
       "        <td>F</td>\n",
       "        <td>2014-09-12T08:00:00</td>\n",
       "        <td>2014-09-12T09:15:00</td>\n",
       "    </tr>\n",
       "    <tr>\n",
       "        <td>70384</td>\n",
       "        <td>3</td>\n",
       "        <td>1</td>\n",
       "        <td>1</td>\n",
       "        <td>AC 0011</td>\n",
       "        <td></td>\n",
       "        <td>T</td>\n",
       "        <td>2014-09-16T08:00:00</td>\n",
       "        <td>2014-09-16T09:15:00</td>\n",
       "    </tr>\n",
       "    <tr>\n",
       "        <td>70384</td>\n",
       "        <td>3</td>\n",
       "        <td>1</td>\n",
       "        <td>1</td>\n",
       "        <td>AC 0011</td>\n",
       "        <td></td>\n",
       "        <td>T</td>\n",
       "        <td>2014-09-16T08:00:00</td>\n",
       "        <td>2014-09-16T09:15:00</td>\n",
       "    </tr>\n",
       "</table>"
      ],
      "text/plain": [
       "[(70384, 3, 1, 1, 'AC 0011', '', 'T', '2014-09-02T08:00:00', '2014-09-02T09:15:00'),\n",
       " (70384, 3, 1, 1, 'AC 0011', '', 'T', '2014-09-02T08:00:00', '2014-09-02T09:15:00'),\n",
       " (70384, 3, 1, 1, 'AC 0011', '', 'F', '2014-09-05T08:00:00', '2014-09-05T09:15:00'),\n",
       " (70384, 3, 1, 1, 'AC 0011', '', 'F', '2014-09-05T08:00:00', '2014-09-05T09:15:00'),\n",
       " (70384, 3, 1, 1, 'AC 0011', '', 'T', '2014-09-09T08:00:00', '2014-09-09T09:15:00'),\n",
       " (70384, 3, 1, 1, 'AC 0011', '', 'T', '2014-09-09T08:00:00', '2014-09-09T09:15:00'),\n",
       " (70384, 3, 1, 1, 'AC 0011', '', 'F', '2014-09-12T08:00:00', '2014-09-12T09:15:00'),\n",
       " (70384, 3, 1, 1, 'AC 0011', '', 'F', '2014-09-12T08:00:00', '2014-09-12T09:15:00'),\n",
       " (70384, 3, 1, 1, 'AC 0011', '', 'T', '2014-09-16T08:00:00', '2014-09-16T09:15:00'),\n",
       " (70384, 3, 1, 1, 'AC 0011', '', 'T', '2014-09-16T08:00:00', '2014-09-16T09:15:00')]"
      ]
     },
     "execution_count": 71,
     "metadata": {},
     "output_type": "execute_result"
    }
   ],
   "source": [
    "%%sql\n",
    "SELECT *\n",
    "FROM Fact\n",
    "LIMIT 10;"
   ]
  },
  {
   "cell_type": "code",
   "execution_count": null,
   "metadata": {},
   "outputs": [],
   "source": []
  }
 ],
 "metadata": {
  "kernelspec": {
   "display_name": "Python 3",
   "language": "python",
   "name": "python3"
  },
  "language_info": {
   "codemirror_mode": {
    "name": "ipython",
    "version": 3
   },
   "file_extension": ".py",
   "mimetype": "text/x-python",
   "name": "python",
   "nbconvert_exporter": "python",
   "pygments_lexer": "ipython3",
   "version": "3.6.5"
  }
 },
 "nbformat": 4,
 "nbformat_minor": 2
}
