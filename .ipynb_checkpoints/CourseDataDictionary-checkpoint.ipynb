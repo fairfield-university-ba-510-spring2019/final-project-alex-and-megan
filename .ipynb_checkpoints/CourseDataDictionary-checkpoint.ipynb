{
 "cells": [
  {
   "cell_type": "markdown",
   "metadata": {},
   "source": [
    "<h2>Courses</h2>\n",
    "\n",
    "| Column             | Description                                                             | DataType |\n",
    "| ------------------ |:-----------------------------------------------------------------------:| --------:|\n",
    "| term               | shows the semester and year of that course offered                      | Text     |\n",
    "| crn                | course id number                                                        | Integer  |\n",
    "| catalog_id         | catalog course id number                                                | Text     |\n",
    "| section            | assigned class section id                                               | Text     |\n",
    "| credits            | number of credits for a class                                           | Integer  |\n",
    "| title              | title of the course offered                                             | Text     |\n",
    "| meetings           | list with a dictionary of days, time, dates, and location of the course | Text     |\n",
    "| timecodes          | list of meetings without dictionary                                     | Text     |\n",
    "| primary_instructor | course instructor                                                       | Text     |\n",
    "| cap                | limit of students that can take the course                              | Integer  |\n",
    "| act                | actual number of students enrolled in the course                        | Integer  |\n",
    "| rem                | difference beween the cap and act                                       | Integer  |"
   ]
  },
  {
   "cell_type": "markdown",
   "metadata": {},
   "source": [
    "<h2>CourseMeetings</h2>\n",
    "\n",
    "| Column             | Description                                                             | DataType |\n",
    "| ------------------ |:-----------------------------------------------------------------------:| --------:|\n",
    "| term               | shows the semester and year of that course offered                      | Text     |\n",
    "| crn                | course id number                                                        | Integer  |\n",
    "| location           | classroom location                                                      | Text     |\n",
    "| day                | day of the course meeting                                               | Text     |\n",
    "| start              | start date, day, time of course                                         | Text     |\n",
    "| end                | end date, day, time of course                                           | Text     |"
   ]
  },
  {
   "cell_type": "markdown",
   "metadata": {},
   "source": [
    "<h2>Course Catalog</h2>\n",
    "\n",
    "| Column             | Description                                                             | DataType |\n",
    "| ------------------ |:-----------------------------------------------------------------------:| --------:|\n",
    "| program_code       | abreviated code for the course department                               | Text     |\n",
    "| program_name       | name of course department                                               | Text     |\n",
    "| catalog_id         | catalog course id number                                                | Text     |\n",
    "| course_title       | title of the course                                                     | Text     |\n",
    "| credits            | number of credits for a class                                           | Integer  |\n",
    "| prereqs            | prerequisites for the course                                            | Text     |\n",
    "| coreqs             | corequisites for the course                                             | Text     |\n",
    "| fees               | list of extra fees for the course                                       | Text     |\n",
    "| attributes         | gives overall list of info about the course                             | Text     |\n",
    "| description        | gives a description about the course                                    | Text     |"
   ]
  }
 ],
 "metadata": {
  "kernelspec": {
   "display_name": "Python 3",
   "language": "python",
   "name": "python3"
  },
  "language_info": {
   "codemirror_mode": {
    "name": "ipython",
    "version": 3
   },
   "file_extension": ".py",
   "mimetype": "text/x-python",
   "name": "python",
   "nbconvert_exporter": "python",
   "pygments_lexer": "ipython3",
   "version": "3.6.5"
  }
 },
 "nbformat": 4,
 "nbformat_minor": 2
}
