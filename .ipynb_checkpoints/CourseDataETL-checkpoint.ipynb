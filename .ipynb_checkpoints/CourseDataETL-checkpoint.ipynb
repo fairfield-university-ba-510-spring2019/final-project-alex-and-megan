{
 "cells": [
  {
   "cell_type": "code",
   "execution_count": 49,
   "metadata": {},
   "outputs": [],
   "source": [
    "%reload_ext sql"
   ]
  },
  {
   "cell_type": "code",
   "execution_count": 50,
   "metadata": {},
   "outputs": [
    {
     "data": {
      "text/plain": [
       "'Connected: @CourseData2.db'"
      ]
     },
     "execution_count": 50,
     "metadata": {},
     "output_type": "execute_result"
    }
   ],
   "source": [
    "%%sql\n",
    "sqlite:///CourseData2.db"
   ]
  },
  {
   "cell_type": "code",
   "execution_count": 51,
   "metadata": {},
   "outputs": [
    {
     "name": "stdout",
     "output_type": "stream",
     "text": [
      "   sqlite:///CourseData.db\n",
      " * sqlite:///CourseData2.db\n",
      "Done.\n"
     ]
    },
    {
     "data": {
      "text/html": [
       "<table>\n",
       "    <tr>\n",
       "        <th>term</th>\n",
       "        <th>crn</th>\n",
       "        <th>location</th>\n",
       "        <th>day</th>\n",
       "        <th>start</th>\n",
       "        <th>end</th>\n",
       "    </tr>\n",
       "    <tr>\n",
       "        <td>Fall2014</td>\n",
       "        <td>70384</td>\n",
       "        <td>DSB 105</td>\n",
       "        <td>T</td>\n",
       "        <td>2014-09-02T08:00:00</td>\n",
       "        <td>2014-09-02T09:15:00</td>\n",
       "    </tr>\n",
       "    <tr>\n",
       "        <td>Fall2014</td>\n",
       "        <td>70384</td>\n",
       "        <td>DSB 105</td>\n",
       "        <td>F</td>\n",
       "        <td>2014-09-05T08:00:00</td>\n",
       "        <td>2014-09-05T09:15:00</td>\n",
       "    </tr>\n",
       "    <tr>\n",
       "        <td>Fall2014</td>\n",
       "        <td>70384</td>\n",
       "        <td>DSB 105</td>\n",
       "        <td>T</td>\n",
       "        <td>2014-09-09T08:00:00</td>\n",
       "        <td>2014-09-09T09:15:00</td>\n",
       "    </tr>\n",
       "    <tr>\n",
       "        <td>Fall2014</td>\n",
       "        <td>70384</td>\n",
       "        <td>DSB 105</td>\n",
       "        <td>F</td>\n",
       "        <td>2014-09-12T08:00:00</td>\n",
       "        <td>2014-09-12T09:15:00</td>\n",
       "    </tr>\n",
       "    <tr>\n",
       "        <td>Fall2014</td>\n",
       "        <td>70384</td>\n",
       "        <td>DSB 105</td>\n",
       "        <td>T</td>\n",
       "        <td>2014-09-16T08:00:00</td>\n",
       "        <td>2014-09-16T09:15:00</td>\n",
       "    </tr>\n",
       "    <tr>\n",
       "        <td>Fall2014</td>\n",
       "        <td>70384</td>\n",
       "        <td>DSB 105</td>\n",
       "        <td>F</td>\n",
       "        <td>2014-09-19T08:00:00</td>\n",
       "        <td>2014-09-19T09:15:00</td>\n",
       "    </tr>\n",
       "    <tr>\n",
       "        <td>Fall2014</td>\n",
       "        <td>70384</td>\n",
       "        <td>DSB 105</td>\n",
       "        <td>T</td>\n",
       "        <td>2014-09-23T08:00:00</td>\n",
       "        <td>2014-09-23T09:15:00</td>\n",
       "    </tr>\n",
       "    <tr>\n",
       "        <td>Fall2014</td>\n",
       "        <td>70384</td>\n",
       "        <td>DSB 105</td>\n",
       "        <td>F</td>\n",
       "        <td>2014-09-26T08:00:00</td>\n",
       "        <td>2014-09-26T09:15:00</td>\n",
       "    </tr>\n",
       "    <tr>\n",
       "        <td>Fall2014</td>\n",
       "        <td>70384</td>\n",
       "        <td>DSB 105</td>\n",
       "        <td>T</td>\n",
       "        <td>2014-09-30T08:00:00</td>\n",
       "        <td>2014-09-30T09:15:00</td>\n",
       "    </tr>\n",
       "    <tr>\n",
       "        <td>Fall2014</td>\n",
       "        <td>70384</td>\n",
       "        <td>DSB 105</td>\n",
       "        <td>F</td>\n",
       "        <td>2014-10-03T08:00:00</td>\n",
       "        <td>2014-10-03T09:15:00</td>\n",
       "    </tr>\n",
       "</table>"
      ],
      "text/plain": [
       "[('Fall2014', '70384', 'DSB 105', 'T', '2014-09-02T08:00:00', '2014-09-02T09:15:00'),\n",
       " ('Fall2014', '70384', 'DSB 105', 'F', '2014-09-05T08:00:00', '2014-09-05T09:15:00'),\n",
       " ('Fall2014', '70384', 'DSB 105', 'T', '2014-09-09T08:00:00', '2014-09-09T09:15:00'),\n",
       " ('Fall2014', '70384', 'DSB 105', 'F', '2014-09-12T08:00:00', '2014-09-12T09:15:00'),\n",
       " ('Fall2014', '70384', 'DSB 105', 'T', '2014-09-16T08:00:00', '2014-09-16T09:15:00'),\n",
       " ('Fall2014', '70384', 'DSB 105', 'F', '2014-09-19T08:00:00', '2014-09-19T09:15:00'),\n",
       " ('Fall2014', '70384', 'DSB 105', 'T', '2014-09-23T08:00:00', '2014-09-23T09:15:00'),\n",
       " ('Fall2014', '70384', 'DSB 105', 'F', '2014-09-26T08:00:00', '2014-09-26T09:15:00'),\n",
       " ('Fall2014', '70384', 'DSB 105', 'T', '2014-09-30T08:00:00', '2014-09-30T09:15:00'),\n",
       " ('Fall2014', '70384', 'DSB 105', 'F', '2014-10-03T08:00:00', '2014-10-03T09:15:00')]"
      ]
     },
     "execution_count": 51,
     "metadata": {},
     "output_type": "execute_result"
    }
   ],
   "source": [
    "%%sql\n",
    "SELECT *\n",
    "FROM import_coursemeetingsF14\n",
    "LIMIT 10"
   ]
  },
  {
   "cell_type": "code",
   "execution_count": 52,
   "metadata": {},
   "outputs": [
    {
     "name": "stdout",
     "output_type": "stream",
     "text": [
      "   sqlite:///CourseData.db\n",
      " * sqlite:///CourseData2.db\n",
      "Done.\n",
      "Done.\n"
     ]
    },
    {
     "data": {
      "text/plain": [
       "[]"
      ]
     },
     "execution_count": 52,
     "metadata": {},
     "output_type": "execute_result"
    }
   ],
   "source": [
    "%%sql\n",
    "DROP TABLE IF EXISTS coursemeetings;\n",
    "CREATE TABLE coursemeetings (\n",
    "    term TEXT NOT NULL,\n",
    "    crn INTEGER NOT NULL,\n",
    "    location TEXT NOT NULL,\n",
    "    day TEXT NOT NULL,\n",
    "    start TEXT NOT NULL,\n",
    "    end TEXT NOT NULL);"
   ]
  },
  {
   "cell_type": "code",
   "execution_count": 53,
   "metadata": {},
   "outputs": [
    {
     "name": "stdout",
     "output_type": "stream",
     "text": [
      "   sqlite:///CourseData.db\n",
      " * sqlite:///CourseData2.db\n",
      "Done.\n"
     ]
    },
    {
     "data": {
      "text/html": [
       "<table>\n",
       "    <tr>\n",
       "        <th>term</th>\n",
       "        <th>crn</th>\n",
       "        <th>location</th>\n",
       "        <th>day</th>\n",
       "        <th>start</th>\n",
       "        <th>end</th>\n",
       "    </tr>\n",
       "</table>"
      ],
      "text/plain": [
       "[]"
      ]
     },
     "execution_count": 53,
     "metadata": {},
     "output_type": "execute_result"
    }
   ],
   "source": [
    "%%sql\n",
    "select * from coursemeetings\n",
    "limit 10;"
   ]
  },
  {
   "cell_type": "code",
   "execution_count": 54,
   "metadata": {},
   "outputs": [
    {
     "name": "stdout",
     "output_type": "stream",
     "text": [
      "   sqlite:///CourseData.db\n",
      " * sqlite:///CourseData2.db\n",
      "31505 rows affected.\n"
     ]
    },
    {
     "data": {
      "text/plain": [
       "[]"
      ]
     },
     "execution_count": 54,
     "metadata": {},
     "output_type": "execute_result"
    }
   ],
   "source": [
    "%%sql\n",
    "INSERT INTO coursemeetings (term,crn,location,day,start,end)\n",
    "SELECT term,crn,location,day,start,end\n",
    "FROM import_coursemeetingsF14"
   ]
  },
  {
   "cell_type": "code",
   "execution_count": 55,
   "metadata": {},
   "outputs": [
    {
     "name": "stdout",
     "output_type": "stream",
     "text": [
      "   sqlite:///CourseData.db\n",
      " * sqlite:///CourseData2.db\n",
      "31456 rows affected.\n"
     ]
    },
    {
     "data": {
      "text/plain": [
       "[]"
      ]
     },
     "execution_count": 55,
     "metadata": {},
     "output_type": "execute_result"
    }
   ],
   "source": [
    "%%sql\n",
    "INSERT INTO coursemeetings (term,crn,location,day,start,end)\n",
    "SELECT term,crn,location,day,start,end\n",
    "FROM import_coursemeetingsF15"
   ]
  },
  {
   "cell_type": "code",
   "execution_count": 56,
   "metadata": {},
   "outputs": [
    {
     "name": "stdout",
     "output_type": "stream",
     "text": [
      "   sqlite:///CourseData.db\n",
      " * sqlite:///CourseData2.db\n",
      "Done.\n"
     ]
    },
    {
     "data": {
      "text/html": [
       "<table>\n",
       "    <tr>\n",
       "        <th>COUNT (*)</th>\n",
       "    </tr>\n",
       "    <tr>\n",
       "        <td>62961</td>\n",
       "    </tr>\n",
       "</table>"
      ],
      "text/plain": [
       "[(62961,)]"
      ]
     },
     "execution_count": 56,
     "metadata": {},
     "output_type": "execute_result"
    }
   ],
   "source": [
    "%%sql\n",
    "SELECT COUNT (*)\n",
    "FROM coursemeetings"
   ]
  },
  {
   "cell_type": "code",
   "execution_count": 57,
   "metadata": {},
   "outputs": [
    {
     "name": "stdout",
     "output_type": "stream",
     "text": [
      "   sqlite:///CourseData.db\n",
      " * sqlite:///CourseData2.db\n",
      "31474 rows affected.\n"
     ]
    },
    {
     "data": {
      "text/plain": [
       "[]"
      ]
     },
     "execution_count": 57,
     "metadata": {},
     "output_type": "execute_result"
    }
   ],
   "source": [
    "%%sql\n",
    "INSERT INTO coursemeetings (term,crn,location,day,start,end)\n",
    "SELECT term,crn,location,day,start,end\n",
    "FROM import_coursemeetingsF16"
   ]
  },
  {
   "cell_type": "code",
   "execution_count": 58,
   "metadata": {},
   "outputs": [
    {
     "name": "stdout",
     "output_type": "stream",
     "text": [
      "   sqlite:///CourseData.db\n",
      " * sqlite:///CourseData2.db\n",
      "Done.\n"
     ]
    },
    {
     "data": {
      "text/html": [
       "<table>\n",
       "    <tr>\n",
       "        <th>COUNT (*)</th>\n",
       "    </tr>\n",
       "    <tr>\n",
       "        <td>94435</td>\n",
       "    </tr>\n",
       "</table>"
      ],
      "text/plain": [
       "[(94435,)]"
      ]
     },
     "execution_count": 58,
     "metadata": {},
     "output_type": "execute_result"
    }
   ],
   "source": [
    "%%sql\n",
    "SELECT COUNT (*)\n",
    "FROM coursemeetings"
   ]
  },
  {
   "cell_type": "code",
   "execution_count": 59,
   "metadata": {},
   "outputs": [
    {
     "name": "stdout",
     "output_type": "stream",
     "text": [
      "   sqlite:///CourseData.db\n",
      " * sqlite:///CourseData2.db\n",
      "31400 rows affected.\n"
     ]
    },
    {
     "data": {
      "text/plain": [
       "[]"
      ]
     },
     "execution_count": 59,
     "metadata": {},
     "output_type": "execute_result"
    }
   ],
   "source": [
    "%%sql\n",
    "INSERT INTO coursemeetings (term,crn,location,day,start,end)\n",
    "SELECT term,crn,location,day,start,end\n",
    "FROM import_coursemeetingsF17"
   ]
  },
  {
   "cell_type": "code",
   "execution_count": 60,
   "metadata": {},
   "outputs": [
    {
     "name": "stdout",
     "output_type": "stream",
     "text": [
      "   sqlite:///CourseData.db\n",
      " * sqlite:///CourseData2.db\n",
      "Done.\n"
     ]
    },
    {
     "data": {
      "text/html": [
       "<table>\n",
       "    <tr>\n",
       "        <th>COUNT (*)</th>\n",
       "    </tr>\n",
       "    <tr>\n",
       "        <td>125835</td>\n",
       "    </tr>\n",
       "</table>"
      ],
      "text/plain": [
       "[(125835,)]"
      ]
     },
     "execution_count": 60,
     "metadata": {},
     "output_type": "execute_result"
    }
   ],
   "source": [
    "%%sql\n",
    "SELECT COUNT (*)\n",
    "FROM coursemeetings"
   ]
  },
  {
   "cell_type": "code",
   "execution_count": 61,
   "metadata": {},
   "outputs": [
    {
     "name": "stdout",
     "output_type": "stream",
     "text": [
      "   sqlite:///CourseData.db\n",
      " * sqlite:///CourseData2.db\n",
      "33440 rows affected.\n"
     ]
    },
    {
     "data": {
      "text/plain": [
       "[]"
      ]
     },
     "execution_count": 61,
     "metadata": {},
     "output_type": "execute_result"
    }
   ],
   "source": [
    "%%sql\n",
    "INSERT INTO coursemeetings (term,crn,location,day,start,end)\n",
    "SELECT term,crn,location,day,start,end\n",
    "FROM import_coursemeetingsF18"
   ]
  },
  {
   "cell_type": "code",
   "execution_count": 62,
   "metadata": {},
   "outputs": [
    {
     "name": "stdout",
     "output_type": "stream",
     "text": [
      "   sqlite:///CourseData.db\n",
      " * sqlite:///CourseData2.db\n",
      "Done.\n"
     ]
    },
    {
     "data": {
      "text/html": [
       "<table>\n",
       "    <tr>\n",
       "        <th>COUNT (*)</th>\n",
       "    </tr>\n",
       "    <tr>\n",
       "        <td>159275</td>\n",
       "    </tr>\n",
       "</table>"
      ],
      "text/plain": [
       "[(159275,)]"
      ]
     },
     "execution_count": 62,
     "metadata": {},
     "output_type": "execute_result"
    }
   ],
   "source": [
    "%%sql\n",
    "SELECT COUNT (*)\n",
    "FROM coursemeetings"
   ]
  },
  {
   "cell_type": "code",
   "execution_count": 63,
   "metadata": {},
   "outputs": [
    {
     "name": "stdout",
     "output_type": "stream",
     "text": [
      "   sqlite:///CourseData.db\n",
      " * sqlite:///CourseData2.db\n",
      "29351 rows affected.\n"
     ]
    },
    {
     "data": {
      "text/plain": [
       "[]"
      ]
     },
     "execution_count": 63,
     "metadata": {},
     "output_type": "execute_result"
    }
   ],
   "source": [
    "%%sql\n",
    "INSERT INTO coursemeetings (term,crn,location,day,start,end)\n",
    "SELECT term,crn,location,day,start,end\n",
    "FROM import_coursemeetingsS15"
   ]
  },
  {
   "cell_type": "code",
   "execution_count": 64,
   "metadata": {},
   "outputs": [
    {
     "name": "stdout",
     "output_type": "stream",
     "text": [
      "   sqlite:///CourseData.db\n",
      " * sqlite:///CourseData2.db\n",
      "Done.\n"
     ]
    },
    {
     "data": {
      "text/html": [
       "<table>\n",
       "    <tr>\n",
       "        <th>COUNT (*)</th>\n",
       "    </tr>\n",
       "    <tr>\n",
       "        <td>188626</td>\n",
       "    </tr>\n",
       "</table>"
      ],
      "text/plain": [
       "[(188626,)]"
      ]
     },
     "execution_count": 64,
     "metadata": {},
     "output_type": "execute_result"
    }
   ],
   "source": [
    "%%sql\n",
    "SELECT COUNT (*)\n",
    "FROM coursemeetings"
   ]
  },
  {
   "cell_type": "code",
   "execution_count": 65,
   "metadata": {},
   "outputs": [
    {
     "name": "stdout",
     "output_type": "stream",
     "text": [
      "   sqlite:///CourseData.db\n",
      " * sqlite:///CourseData2.db\n",
      "30124 rows affected.\n"
     ]
    },
    {
     "data": {
      "text/plain": [
       "[]"
      ]
     },
     "execution_count": 65,
     "metadata": {},
     "output_type": "execute_result"
    }
   ],
   "source": [
    "%%sql\n",
    "INSERT INTO coursemeetings (term,crn,location,day,start,end)\n",
    "SELECT term,crn,location,day,start,end\n",
    "FROM import_coursemeetingsS16"
   ]
  },
  {
   "cell_type": "code",
   "execution_count": 66,
   "metadata": {},
   "outputs": [
    {
     "name": "stdout",
     "output_type": "stream",
     "text": [
      "   sqlite:///CourseData.db\n",
      " * sqlite:///CourseData2.db\n",
      "Done.\n"
     ]
    },
    {
     "data": {
      "text/html": [
       "<table>\n",
       "    <tr>\n",
       "        <th>COUNT (*)</th>\n",
       "    </tr>\n",
       "    <tr>\n",
       "        <td>218750</td>\n",
       "    </tr>\n",
       "</table>"
      ],
      "text/plain": [
       "[(218750,)]"
      ]
     },
     "execution_count": 66,
     "metadata": {},
     "output_type": "execute_result"
    }
   ],
   "source": [
    "%%sql\n",
    "SELECT COUNT (*)\n",
    "FROM coursemeetings"
   ]
  },
  {
   "cell_type": "code",
   "execution_count": 67,
   "metadata": {},
   "outputs": [
    {
     "name": "stdout",
     "output_type": "stream",
     "text": [
      "   sqlite:///CourseData.db\n",
      " * sqlite:///CourseData2.db\n",
      "29738 rows affected.\n"
     ]
    },
    {
     "data": {
      "text/plain": [
       "[]"
      ]
     },
     "execution_count": 67,
     "metadata": {},
     "output_type": "execute_result"
    }
   ],
   "source": [
    "%%sql\n",
    "INSERT INTO coursemeetings (term,crn,location,day,start,end)\n",
    "SELECT term,crn,location,day,start,end\n",
    "FROM import_coursemeetingsS17"
   ]
  },
  {
   "cell_type": "code",
   "execution_count": 68,
   "metadata": {},
   "outputs": [
    {
     "name": "stdout",
     "output_type": "stream",
     "text": [
      "   sqlite:///CourseData.db\n",
      " * sqlite:///CourseData2.db\n",
      "Done.\n"
     ]
    },
    {
     "data": {
      "text/html": [
       "<table>\n",
       "    <tr>\n",
       "        <th>COUNT (*)</th>\n",
       "    </tr>\n",
       "    <tr>\n",
       "        <td>248488</td>\n",
       "    </tr>\n",
       "</table>"
      ],
      "text/plain": [
       "[(248488,)]"
      ]
     },
     "execution_count": 68,
     "metadata": {},
     "output_type": "execute_result"
    }
   ],
   "source": [
    "%%sql\n",
    "SELECT COUNT (*)\n",
    "FROM coursemeetings"
   ]
  },
  {
   "cell_type": "code",
   "execution_count": 69,
   "metadata": {},
   "outputs": [
    {
     "name": "stdout",
     "output_type": "stream",
     "text": [
      "   sqlite:///CourseData.db\n",
      " * sqlite:///CourseData2.db\n",
      "29086 rows affected.\n"
     ]
    },
    {
     "data": {
      "text/plain": [
       "[]"
      ]
     },
     "execution_count": 69,
     "metadata": {},
     "output_type": "execute_result"
    }
   ],
   "source": [
    "%%sql\n",
    "INSERT INTO coursemeetings (term,crn,location,day,start,end)\n",
    "SELECT term,crn,location,day,start,end\n",
    "FROM import_coursemeetingsS18"
   ]
  },
  {
   "cell_type": "code",
   "execution_count": 70,
   "metadata": {},
   "outputs": [
    {
     "name": "stdout",
     "output_type": "stream",
     "text": [
      "   sqlite:///CourseData.db\n",
      " * sqlite:///CourseData2.db\n",
      "Done.\n"
     ]
    },
    {
     "data": {
      "text/html": [
       "<table>\n",
       "    <tr>\n",
       "        <th>COUNT (*)</th>\n",
       "    </tr>\n",
       "    <tr>\n",
       "        <td>277574</td>\n",
       "    </tr>\n",
       "</table>"
      ],
      "text/plain": [
       "[(277574,)]"
      ]
     },
     "execution_count": 70,
     "metadata": {},
     "output_type": "execute_result"
    }
   ],
   "source": [
    "%%sql\n",
    "SELECT COUNT (*)\n",
    "FROM coursemeetings"
   ]
  },
  {
   "cell_type": "code",
   "execution_count": 71,
   "metadata": {},
   "outputs": [
    {
     "name": "stdout",
     "output_type": "stream",
     "text": [
      "   sqlite:///CourseData.db\n",
      " * sqlite:///CourseData2.db\n",
      "28348 rows affected.\n"
     ]
    },
    {
     "data": {
      "text/plain": [
       "[]"
      ]
     },
     "execution_count": 71,
     "metadata": {},
     "output_type": "execute_result"
    }
   ],
   "source": [
    "%%sql\n",
    "INSERT INTO coursemeetings (term,crn,location,day,start,end)\n",
    "SELECT term,crn,location,day,start,end\n",
    "FROM import_coursemeetingsS19"
   ]
  },
  {
   "cell_type": "code",
   "execution_count": 72,
   "metadata": {},
   "outputs": [
    {
     "name": "stdout",
     "output_type": "stream",
     "text": [
      "   sqlite:///CourseData.db\n",
      " * sqlite:///CourseData2.db\n",
      "Done.\n"
     ]
    },
    {
     "data": {
      "text/html": [
       "<table>\n",
       "    <tr>\n",
       "        <th>COUNT (*)</th>\n",
       "    </tr>\n",
       "    <tr>\n",
       "        <td>305922</td>\n",
       "    </tr>\n",
       "</table>"
      ],
      "text/plain": [
       "[(305922,)]"
      ]
     },
     "execution_count": 72,
     "metadata": {},
     "output_type": "execute_result"
    }
   ],
   "source": [
    "%%sql\n",
    "SELECT COUNT (*)\n",
    "FROM coursemeetings"
   ]
  },
  {
   "cell_type": "code",
   "execution_count": 73,
   "metadata": {},
   "outputs": [
    {
     "name": "stdout",
     "output_type": "stream",
     "text": [
      "   sqlite:///CourseData.db\n",
      " * sqlite:///CourseData2.db\n",
      "5 rows affected.\n"
     ]
    },
    {
     "data": {
      "text/plain": [
       "[]"
      ]
     },
     "execution_count": 73,
     "metadata": {},
     "output_type": "execute_result"
    }
   ],
   "source": [
    "%%sql\n",
    "INSERT INTO coursemeetings (term,crn,location,day,start,end)\n",
    "SELECT term,crn,location,day,start,end\n",
    "FROM import_coursemeetingsSB17"
   ]
  },
  {
   "cell_type": "code",
   "execution_count": 74,
   "metadata": {},
   "outputs": [
    {
     "name": "stdout",
     "output_type": "stream",
     "text": [
      "   sqlite:///CourseData.db\n",
      " * sqlite:///CourseData2.db\n",
      "Done.\n"
     ]
    },
    {
     "data": {
      "text/html": [
       "<table>\n",
       "    <tr>\n",
       "        <th>COUNT (*)</th>\n",
       "    </tr>\n",
       "    <tr>\n",
       "        <td>305927</td>\n",
       "    </tr>\n",
       "</table>"
      ],
      "text/plain": [
       "[(305927,)]"
      ]
     },
     "execution_count": 74,
     "metadata": {},
     "output_type": "execute_result"
    }
   ],
   "source": [
    "%%sql\n",
    "SELECT COUNT (*)\n",
    "FROM coursemeetings"
   ]
  },
  {
   "cell_type": "code",
   "execution_count": 75,
   "metadata": {},
   "outputs": [
    {
     "name": "stdout",
     "output_type": "stream",
     "text": [
      "   sqlite:///CourseData.db\n",
      " * sqlite:///CourseData2.db\n",
      "2584 rows affected.\n"
     ]
    },
    {
     "data": {
      "text/plain": [
       "[]"
      ]
     },
     "execution_count": 75,
     "metadata": {},
     "output_type": "execute_result"
    }
   ],
   "source": [
    "%%sql\n",
    "INSERT INTO coursemeetings (term,crn,location,day,start,end)\n",
    "SELECT term,crn,location,day,start,end\n",
    "FROM import_coursemeetingsSU15"
   ]
  },
  {
   "cell_type": "code",
   "execution_count": 76,
   "metadata": {},
   "outputs": [
    {
     "name": "stdout",
     "output_type": "stream",
     "text": [
      "   sqlite:///CourseData.db\n",
      " * sqlite:///CourseData2.db\n",
      "Done.\n"
     ]
    },
    {
     "data": {
      "text/html": [
       "<table>\n",
       "    <tr>\n",
       "        <th>COUNT (*)</th>\n",
       "    </tr>\n",
       "    <tr>\n",
       "        <td>308511</td>\n",
       "    </tr>\n",
       "</table>"
      ],
      "text/plain": [
       "[(308511,)]"
      ]
     },
     "execution_count": 76,
     "metadata": {},
     "output_type": "execute_result"
    }
   ],
   "source": [
    "%%sql\n",
    "SELECT COUNT (*)\n",
    "FROM coursemeetings"
   ]
  },
  {
   "cell_type": "code",
   "execution_count": 77,
   "metadata": {},
   "outputs": [
    {
     "name": "stdout",
     "output_type": "stream",
     "text": [
      "   sqlite:///CourseData.db\n",
      " * sqlite:///CourseData2.db\n",
      "3007 rows affected.\n"
     ]
    },
    {
     "data": {
      "text/plain": [
       "[]"
      ]
     },
     "execution_count": 77,
     "metadata": {},
     "output_type": "execute_result"
    }
   ],
   "source": [
    "%%sql\n",
    "INSERT INTO coursemeetings (term,crn,location,day,start,end)\n",
    "SELECT term,crn,location,day,start,end\n",
    "FROM import_coursemeetingsSU16"
   ]
  },
  {
   "cell_type": "code",
   "execution_count": 78,
   "metadata": {},
   "outputs": [
    {
     "name": "stdout",
     "output_type": "stream",
     "text": [
      "   sqlite:///CourseData.db\n",
      " * sqlite:///CourseData2.db\n",
      "Done.\n"
     ]
    },
    {
     "data": {
      "text/html": [
       "<table>\n",
       "    <tr>\n",
       "        <th>COUNT (*)</th>\n",
       "    </tr>\n",
       "    <tr>\n",
       "        <td>311518</td>\n",
       "    </tr>\n",
       "</table>"
      ],
      "text/plain": [
       "[(311518,)]"
      ]
     },
     "execution_count": 78,
     "metadata": {},
     "output_type": "execute_result"
    }
   ],
   "source": [
    "%%sql\n",
    "SELECT COUNT (*)\n",
    "FROM coursemeetings"
   ]
  },
  {
   "cell_type": "code",
   "execution_count": 79,
   "metadata": {},
   "outputs": [
    {
     "name": "stdout",
     "output_type": "stream",
     "text": [
      "   sqlite:///CourseData.db\n",
      " * sqlite:///CourseData2.db\n",
      "2666 rows affected.\n"
     ]
    },
    {
     "data": {
      "text/plain": [
       "[]"
      ]
     },
     "execution_count": 79,
     "metadata": {},
     "output_type": "execute_result"
    }
   ],
   "source": [
    "%%sql\n",
    "INSERT INTO coursemeetings (term,crn,location,day,start,end)\n",
    "SELECT term,crn,location,day,start,end\n",
    "FROM import_coursemeetingsSU17"
   ]
  },
  {
   "cell_type": "code",
   "execution_count": 80,
   "metadata": {},
   "outputs": [
    {
     "name": "stdout",
     "output_type": "stream",
     "text": [
      "   sqlite:///CourseData.db\n",
      " * sqlite:///CourseData2.db\n",
      "Done.\n"
     ]
    },
    {
     "data": {
      "text/html": [
       "<table>\n",
       "    <tr>\n",
       "        <th>COUNT (*)</th>\n",
       "    </tr>\n",
       "    <tr>\n",
       "        <td>314184</td>\n",
       "    </tr>\n",
       "</table>"
      ],
      "text/plain": [
       "[(314184,)]"
      ]
     },
     "execution_count": 80,
     "metadata": {},
     "output_type": "execute_result"
    }
   ],
   "source": [
    "%%sql\n",
    "SELECT COUNT (*)\n",
    "FROM coursemeetings"
   ]
  },
  {
   "cell_type": "code",
   "execution_count": 81,
   "metadata": {},
   "outputs": [
    {
     "name": "stdout",
     "output_type": "stream",
     "text": [
      "   sqlite:///CourseData.db\n",
      " * sqlite:///CourseData2.db\n",
      "2624 rows affected.\n"
     ]
    },
    {
     "data": {
      "text/plain": [
       "[]"
      ]
     },
     "execution_count": 81,
     "metadata": {},
     "output_type": "execute_result"
    }
   ],
   "source": [
    "%%sql\n",
    "INSERT INTO coursemeetings (term,crn,location,day,start,end)\n",
    "SELECT term,crn,location,day,start,end\n",
    "FROM import_coursemeetingsSU18"
   ]
  },
  {
   "cell_type": "code",
   "execution_count": 82,
   "metadata": {},
   "outputs": [
    {
     "name": "stdout",
     "output_type": "stream",
     "text": [
      "   sqlite:///CourseData.db\n",
      " * sqlite:///CourseData2.db\n",
      "Done.\n"
     ]
    },
    {
     "data": {
      "text/html": [
       "<table>\n",
       "    <tr>\n",
       "        <th>COUNT (*)</th>\n",
       "    </tr>\n",
       "    <tr>\n",
       "        <td>316808</td>\n",
       "    </tr>\n",
       "</table>"
      ],
      "text/plain": [
       "[(316808,)]"
      ]
     },
     "execution_count": 82,
     "metadata": {},
     "output_type": "execute_result"
    }
   ],
   "source": [
    "%%sql\n",
    "SELECT COUNT (*)\n",
    "FROM coursemeetings"
   ]
  },
  {
   "cell_type": "code",
   "execution_count": 83,
   "metadata": {},
   "outputs": [
    {
     "name": "stdout",
     "output_type": "stream",
     "text": [
      "   sqlite:///CourseData.db\n",
      " * sqlite:///CourseData2.db\n",
      "101 rows affected.\n"
     ]
    },
    {
     "data": {
      "text/plain": [
       "[]"
      ]
     },
     "execution_count": 83,
     "metadata": {},
     "output_type": "execute_result"
    }
   ],
   "source": [
    "%%sql\n",
    "INSERT INTO coursemeetings (term,crn,location,day,start,end)\n",
    "SELECT term,crn,location,day,start,end\n",
    "FROM import_coursemeetingsW15"
   ]
  },
  {
   "cell_type": "code",
   "execution_count": 84,
   "metadata": {},
   "outputs": [
    {
     "name": "stdout",
     "output_type": "stream",
     "text": [
      "   sqlite:///CourseData.db\n",
      " * sqlite:///CourseData2.db\n",
      "Done.\n"
     ]
    },
    {
     "data": {
      "text/html": [
       "<table>\n",
       "    <tr>\n",
       "        <th>COUNT (*)</th>\n",
       "    </tr>\n",
       "    <tr>\n",
       "        <td>316909</td>\n",
       "    </tr>\n",
       "</table>"
      ],
      "text/plain": [
       "[(316909,)]"
      ]
     },
     "execution_count": 84,
     "metadata": {},
     "output_type": "execute_result"
    }
   ],
   "source": [
    "%%sql\n",
    "SELECT COUNT (*)\n",
    "FROM coursemeetings"
   ]
  },
  {
   "cell_type": "code",
   "execution_count": 85,
   "metadata": {},
   "outputs": [
    {
     "name": "stdout",
     "output_type": "stream",
     "text": [
      "   sqlite:///CourseData.db\n",
      " * sqlite:///CourseData2.db\n",
      "106 rows affected.\n"
     ]
    },
    {
     "data": {
      "text/plain": [
       "[]"
      ]
     },
     "execution_count": 85,
     "metadata": {},
     "output_type": "execute_result"
    }
   ],
   "source": [
    "%%sql\n",
    "INSERT INTO coursemeetings (term,crn,location,day,start,end)\n",
    "SELECT term,crn,location,day,start,end\n",
    "FROM import_coursemeetingsW16"
   ]
  },
  {
   "cell_type": "code",
   "execution_count": 86,
   "metadata": {},
   "outputs": [
    {
     "name": "stdout",
     "output_type": "stream",
     "text": [
      "   sqlite:///CourseData.db\n",
      " * sqlite:///CourseData2.db\n",
      "Done.\n"
     ]
    },
    {
     "data": {
      "text/html": [
       "<table>\n",
       "    <tr>\n",
       "        <th>COUNT (*)</th>\n",
       "    </tr>\n",
       "    <tr>\n",
       "        <td>317015</td>\n",
       "    </tr>\n",
       "</table>"
      ],
      "text/plain": [
       "[(317015,)]"
      ]
     },
     "execution_count": 86,
     "metadata": {},
     "output_type": "execute_result"
    }
   ],
   "source": [
    "%%sql\n",
    "SELECT COUNT (*)\n",
    "FROM coursemeetings"
   ]
  },
  {
   "cell_type": "code",
   "execution_count": 87,
   "metadata": {},
   "outputs": [
    {
     "name": "stdout",
     "output_type": "stream",
     "text": [
      "   sqlite:///CourseData.db\n",
      " * sqlite:///CourseData2.db\n",
      "213 rows affected.\n"
     ]
    },
    {
     "data": {
      "text/plain": [
       "[]"
      ]
     },
     "execution_count": 87,
     "metadata": {},
     "output_type": "execute_result"
    }
   ],
   "source": [
    "%%sql\n",
    "INSERT INTO coursemeetings (term,crn,location,day,start,end)\n",
    "SELECT term,crn,location,day,start,end\n",
    "FROM import_coursemeetingsW17"
   ]
  },
  {
   "cell_type": "code",
   "execution_count": 88,
   "metadata": {},
   "outputs": [
    {
     "name": "stdout",
     "output_type": "stream",
     "text": [
      "   sqlite:///CourseData.db\n",
      " * sqlite:///CourseData2.db\n",
      "Done.\n"
     ]
    },
    {
     "data": {
      "text/html": [
       "<table>\n",
       "    <tr>\n",
       "        <th>COUNT (*)</th>\n",
       "    </tr>\n",
       "    <tr>\n",
       "        <td>317228</td>\n",
       "    </tr>\n",
       "</table>"
      ],
      "text/plain": [
       "[(317228,)]"
      ]
     },
     "execution_count": 88,
     "metadata": {},
     "output_type": "execute_result"
    }
   ],
   "source": [
    "%%sql\n",
    "SELECT COUNT (*)\n",
    "FROM coursemeetings"
   ]
  },
  {
   "cell_type": "code",
   "execution_count": 89,
   "metadata": {},
   "outputs": [
    {
     "name": "stdout",
     "output_type": "stream",
     "text": [
      "   sqlite:///CourseData.db\n",
      " * sqlite:///CourseData2.db\n",
      "93 rows affected.\n"
     ]
    },
    {
     "data": {
      "text/plain": [
       "[]"
      ]
     },
     "execution_count": 89,
     "metadata": {},
     "output_type": "execute_result"
    }
   ],
   "source": [
    "%%sql\n",
    "INSERT INTO coursemeetings (term,crn,location,day,start,end)\n",
    "SELECT term,crn,location,day,start,end\n",
    "FROM import_coursemeetingsW18"
   ]
  },
  {
   "cell_type": "code",
   "execution_count": 90,
   "metadata": {},
   "outputs": [
    {
     "name": "stdout",
     "output_type": "stream",
     "text": [
      "   sqlite:///CourseData.db\n",
      " * sqlite:///CourseData2.db\n",
      "Done.\n"
     ]
    },
    {
     "data": {
      "text/html": [
       "<table>\n",
       "    <tr>\n",
       "        <th>COUNT (*)</th>\n",
       "    </tr>\n",
       "    <tr>\n",
       "        <td>317321</td>\n",
       "    </tr>\n",
       "</table>"
      ],
      "text/plain": [
       "[(317321,)]"
      ]
     },
     "execution_count": 90,
     "metadata": {},
     "output_type": "execute_result"
    }
   ],
   "source": [
    "%%sql\n",
    "SELECT COUNT (*)\n",
    "FROM coursemeetings"
   ]
  },
  {
   "cell_type": "code",
   "execution_count": 94,
   "metadata": {},
   "outputs": [
    {
     "name": "stdout",
     "output_type": "stream",
     "text": [
      "   sqlite:///CourseData.db\n",
      " * sqlite:///CourseData2.db\n",
      "Done.\n"
     ]
    },
    {
     "data": {
      "text/plain": [
       "[]"
      ]
     },
     "execution_count": 94,
     "metadata": {},
     "output_type": "execute_result"
    }
   ],
   "source": [
    "%%sql\n",
    "CREATE TABLE courses (\n",
    "    term TEXT NOT NULL,\n",
    "    crn INTEGER NOT NULL,\n",
    "    catalog_id TEXT NOT NULL,\n",
    "    section TEXT NOT NULL,\n",
    "    credits FLOAT NOT NULL,\n",
    "    title TEXT NOT NULL,\n",
    "    meetings TEXT NOT NULL,\n",
    "    timecodes TEXT NOT NULL,\n",
    "    primary_instructor TEXT NOT NULL,\n",
    "    cap INTEGER NOT NULL,\n",
    "    act INTEGER NOT NULL,\n",
    "    rem INTEGER NOT NULL);"
   ]
  },
  {
   "cell_type": "code",
   "execution_count": 95,
   "metadata": {},
   "outputs": [
    {
     "name": "stdout",
     "output_type": "stream",
     "text": [
      "   sqlite:///CourseData.db\n",
      " * sqlite:///CourseData2.db\n",
      "1522 rows affected.\n"
     ]
    },
    {
     "data": {
      "text/plain": [
       "[]"
      ]
     },
     "execution_count": 95,
     "metadata": {},
     "output_type": "execute_result"
    }
   ],
   "source": [
    "%%sql\n",
    "INSERT INTO courses (term,crn,catalog_id,section,credits,title,meetings,timecodes,primary_instructor,cap,act,rem)\n",
    "SELECT term,crn,catalog_id,section,credits,title,meetings,timecodes,primary_instructor,cap,act,rem\n",
    "FROM import_coursesF14"
   ]
  },
  {
   "cell_type": "code",
   "execution_count": 96,
   "metadata": {},
   "outputs": [
    {
     "name": "stdout",
     "output_type": "stream",
     "text": [
      "   sqlite:///CourseData.db\n",
      " * sqlite:///CourseData2.db\n",
      "1475 rows affected.\n"
     ]
    },
    {
     "data": {
      "text/plain": [
       "[]"
      ]
     },
     "execution_count": 96,
     "metadata": {},
     "output_type": "execute_result"
    }
   ],
   "source": [
    "%%sql\n",
    "INSERT INTO courses (term,crn,catalog_id,section,credits,title,meetings,timecodes,primary_instructor,cap,act,rem)\n",
    "SELECT term,crn,catalog_id,section,credits,title,meetings,timecodes,primary_instructor,cap,act,rem\n",
    "FROM import_coursesF15"
   ]
  },
  {
   "cell_type": "code",
   "execution_count": 97,
   "metadata": {},
   "outputs": [
    {
     "name": "stdout",
     "output_type": "stream",
     "text": [
      "   sqlite:///CourseData.db\n",
      " * sqlite:///CourseData2.db\n",
      "Done.\n"
     ]
    },
    {
     "data": {
      "text/html": [
       "<table>\n",
       "    <tr>\n",
       "        <th>COUNT (*)</th>\n",
       "    </tr>\n",
       "    <tr>\n",
       "        <td>2997</td>\n",
       "    </tr>\n",
       "</table>"
      ],
      "text/plain": [
       "[(2997,)]"
      ]
     },
     "execution_count": 97,
     "metadata": {},
     "output_type": "execute_result"
    }
   ],
   "source": [
    "%%sql\n",
    "SELECT COUNT (*)\n",
    "FROM courses"
   ]
  },
  {
   "cell_type": "code",
   "execution_count": 98,
   "metadata": {},
   "outputs": [
    {
     "name": "stdout",
     "output_type": "stream",
     "text": [
      "   sqlite:///CourseData.db\n",
      " * sqlite:///CourseData2.db\n",
      "1491 rows affected.\n"
     ]
    },
    {
     "data": {
      "text/plain": [
       "[]"
      ]
     },
     "execution_count": 98,
     "metadata": {},
     "output_type": "execute_result"
    }
   ],
   "source": [
    "%%sql\n",
    "INSERT INTO courses (term,crn,catalog_id,section,credits,title,meetings,timecodes,primary_instructor,cap,act,rem)\n",
    "SELECT term,crn,catalog_id,section,credits,title,meetings,timecodes,primary_instructor,cap,act,rem\n",
    "FROM import_coursesF16"
   ]
  },
  {
   "cell_type": "code",
   "execution_count": 99,
   "metadata": {},
   "outputs": [
    {
     "name": "stdout",
     "output_type": "stream",
     "text": [
      "   sqlite:///CourseData.db\n",
      " * sqlite:///CourseData2.db\n",
      "Done.\n"
     ]
    },
    {
     "data": {
      "text/html": [
       "<table>\n",
       "    <tr>\n",
       "        <th>COUNT (*)</th>\n",
       "    </tr>\n",
       "    <tr>\n",
       "        <td>4488</td>\n",
       "    </tr>\n",
       "</table>"
      ],
      "text/plain": [
       "[(4488,)]"
      ]
     },
     "execution_count": 99,
     "metadata": {},
     "output_type": "execute_result"
    }
   ],
   "source": [
    "%%sql\n",
    "SELECT COUNT (*)\n",
    "FROM courses"
   ]
  },
  {
   "cell_type": "code",
   "execution_count": 100,
   "metadata": {},
   "outputs": [
    {
     "name": "stdout",
     "output_type": "stream",
     "text": [
      "   sqlite:///CourseData.db\n",
      " * sqlite:///CourseData2.db\n",
      "1479 rows affected.\n"
     ]
    },
    {
     "data": {
      "text/plain": [
       "[]"
      ]
     },
     "execution_count": 100,
     "metadata": {},
     "output_type": "execute_result"
    }
   ],
   "source": [
    "%%sql\n",
    "INSERT INTO courses (term,crn,catalog_id,section,credits,title,meetings,timecodes,primary_instructor,cap,act,rem)\n",
    "SELECT term,crn,catalog_id,section,credits,title,meetings,timecodes,primary_instructor,cap,act,rem\n",
    "FROM import_coursesF17"
   ]
  },
  {
   "cell_type": "code",
   "execution_count": 101,
   "metadata": {},
   "outputs": [
    {
     "name": "stdout",
     "output_type": "stream",
     "text": [
      "   sqlite:///CourseData.db\n",
      " * sqlite:///CourseData2.db\n",
      "1519 rows affected.\n"
     ]
    },
    {
     "data": {
      "text/plain": [
       "[]"
      ]
     },
     "execution_count": 101,
     "metadata": {},
     "output_type": "execute_result"
    }
   ],
   "source": [
    "%%sql\n",
    "INSERT INTO courses (term,crn,catalog_id,section,credits,title,meetings,timecodes,primary_instructor,cap,act,rem)\n",
    "SELECT term,crn,catalog_id,section,credits,title,meetings,timecodes,primary_instructor,cap,act,rem\n",
    "FROM import_coursesF18"
   ]
  },
  {
   "cell_type": "code",
   "execution_count": 102,
   "metadata": {},
   "outputs": [
    {
     "name": "stdout",
     "output_type": "stream",
     "text": [
      "   sqlite:///CourseData.db\n",
      " * sqlite:///CourseData2.db\n",
      "Done.\n"
     ]
    },
    {
     "data": {
      "text/html": [
       "<table>\n",
       "    <tr>\n",
       "        <th>COUNT (*)</th>\n",
       "    </tr>\n",
       "    <tr>\n",
       "        <td>7486</td>\n",
       "    </tr>\n",
       "</table>"
      ],
      "text/plain": [
       "[(7486,)]"
      ]
     },
     "execution_count": 102,
     "metadata": {},
     "output_type": "execute_result"
    }
   ],
   "source": [
    "%%sql\n",
    "SELECT COUNT (*)\n",
    "FROM courses"
   ]
  },
  {
   "cell_type": "code",
   "execution_count": 103,
   "metadata": {},
   "outputs": [
    {
     "name": "stdout",
     "output_type": "stream",
     "text": [
      "   sqlite:///CourseData.db\n",
      " * sqlite:///CourseData2.db\n",
      "1421 rows affected.\n"
     ]
    },
    {
     "data": {
      "text/plain": [
       "[]"
      ]
     },
     "execution_count": 103,
     "metadata": {},
     "output_type": "execute_result"
    }
   ],
   "source": [
    "%%sql\n",
    "INSERT INTO courses (term,crn,catalog_id,section,credits,title,meetings,timecodes,primary_instructor,cap,act,rem)\n",
    "SELECT term,crn,catalog_id,section,credits,title,meetings,timecodes,primary_instructor,cap,act,rem\n",
    "FROM import_coursesS15"
   ]
  },
  {
   "cell_type": "code",
   "execution_count": 104,
   "metadata": {},
   "outputs": [
    {
     "name": "stdout",
     "output_type": "stream",
     "text": [
      "   sqlite:///CourseData.db\n",
      " * sqlite:///CourseData2.db\n",
      "1387 rows affected.\n"
     ]
    },
    {
     "data": {
      "text/plain": [
       "[]"
      ]
     },
     "execution_count": 104,
     "metadata": {},
     "output_type": "execute_result"
    }
   ],
   "source": [
    "%%sql\n",
    "INSERT INTO courses (term,crn,catalog_id,section,credits,title,meetings,timecodes,primary_instructor,cap,act,rem)\n",
    "SELECT term,crn,catalog_id,section,credits,title,meetings,timecodes,primary_instructor,cap,act,rem\n",
    "FROM import_coursesS16"
   ]
  },
  {
   "cell_type": "code",
   "execution_count": 105,
   "metadata": {},
   "outputs": [
    {
     "name": "stdout",
     "output_type": "stream",
     "text": [
      "   sqlite:///CourseData.db\n",
      " * sqlite:///CourseData2.db\n",
      "1435 rows affected.\n"
     ]
    },
    {
     "data": {
      "text/plain": [
       "[]"
      ]
     },
     "execution_count": 105,
     "metadata": {},
     "output_type": "execute_result"
    }
   ],
   "source": [
    "%%sql\n",
    "INSERT INTO courses (term,crn,catalog_id,section,credits,title,meetings,timecodes,primary_instructor,cap,act,rem)\n",
    "SELECT term,crn,catalog_id,section,credits,title,meetings,timecodes,primary_instructor,cap,act,rem\n",
    "FROM import_coursesS17"
   ]
  },
  {
   "cell_type": "code",
   "execution_count": 106,
   "metadata": {},
   "outputs": [
    {
     "name": "stdout",
     "output_type": "stream",
     "text": [
      "   sqlite:///CourseData.db\n",
      " * sqlite:///CourseData2.db\n",
      "1405 rows affected.\n"
     ]
    },
    {
     "data": {
      "text/plain": [
       "[]"
      ]
     },
     "execution_count": 106,
     "metadata": {},
     "output_type": "execute_result"
    }
   ],
   "source": [
    "%%sql\n",
    "INSERT INTO courses (term,crn,catalog_id,section,credits,title,meetings,timecodes,primary_instructor,cap,act,rem)\n",
    "SELECT term,crn,catalog_id,section,credits,title,meetings,timecodes,primary_instructor,cap,act,rem\n",
    "FROM import_coursesS18"
   ]
  },
  {
   "cell_type": "code",
   "execution_count": 107,
   "metadata": {},
   "outputs": [
    {
     "name": "stdout",
     "output_type": "stream",
     "text": [
      "   sqlite:///CourseData.db\n",
      " * sqlite:///CourseData2.db\n",
      "Done.\n"
     ]
    },
    {
     "data": {
      "text/html": [
       "<table>\n",
       "    <tr>\n",
       "        <th>COUNT (*)</th>\n",
       "    </tr>\n",
       "    <tr>\n",
       "        <td>13134</td>\n",
       "    </tr>\n",
       "</table>"
      ],
      "text/plain": [
       "[(13134,)]"
      ]
     },
     "execution_count": 107,
     "metadata": {},
     "output_type": "execute_result"
    }
   ],
   "source": [
    "%%sql\n",
    "SELECT COUNT (*)\n",
    "FROM courses"
   ]
  },
  {
   "cell_type": "code",
   "execution_count": 108,
   "metadata": {},
   "outputs": [
    {
     "name": "stdout",
     "output_type": "stream",
     "text": [
      "   sqlite:///CourseData.db\n",
      " * sqlite:///CourseData2.db\n",
      "1473 rows affected.\n"
     ]
    },
    {
     "data": {
      "text/plain": [
       "[]"
      ]
     },
     "execution_count": 108,
     "metadata": {},
     "output_type": "execute_result"
    }
   ],
   "source": [
    "%%sql\n",
    "INSERT INTO courses (term,crn,catalog_id,section,credits,title,meetings,timecodes,primary_instructor,cap,act,rem)\n",
    "SELECT term,crn,catalog_id,section,credits,title,meetings,timecodes,primary_instructor,cap,act,rem\n",
    "FROM import_coursesS19"
   ]
  },
  {
   "cell_type": "code",
   "execution_count": 109,
   "metadata": {},
   "outputs": [
    {
     "name": "stdout",
     "output_type": "stream",
     "text": [
      "   sqlite:///CourseData.db\n",
      " * sqlite:///CourseData2.db\n",
      "Done.\n"
     ]
    },
    {
     "data": {
      "text/html": [
       "<table>\n",
       "    <tr>\n",
       "        <th>COUNT (*)</th>\n",
       "    </tr>\n",
       "    <tr>\n",
       "        <td>14607</td>\n",
       "    </tr>\n",
       "</table>"
      ],
      "text/plain": [
       "[(14607,)]"
      ]
     },
     "execution_count": 109,
     "metadata": {},
     "output_type": "execute_result"
    }
   ],
   "source": [
    "%%sql\n",
    "SELECT COUNT (*)\n",
    "FROM courses"
   ]
  },
  {
   "cell_type": "code",
   "execution_count": 110,
   "metadata": {},
   "outputs": [
    {
     "name": "stdout",
     "output_type": "stream",
     "text": [
      "   sqlite:///CourseData.db\n",
      " * sqlite:///CourseData2.db\n",
      "1 rows affected.\n"
     ]
    },
    {
     "data": {
      "text/plain": [
       "[]"
      ]
     },
     "execution_count": 110,
     "metadata": {},
     "output_type": "execute_result"
    }
   ],
   "source": [
    "%%sql\n",
    "INSERT INTO courses (term,crn,catalog_id,section,credits,title,meetings,timecodes,primary_instructor,cap,act,rem)\n",
    "SELECT term,crn,catalog_id,section,credits,title,meetings,timecodes,primary_instructor,cap,act,rem\n",
    "FROM import_coursesSB17"
   ]
  },
  {
   "cell_type": "code",
   "execution_count": 111,
   "metadata": {},
   "outputs": [
    {
     "name": "stdout",
     "output_type": "stream",
     "text": [
      "   sqlite:///CourseData.db\n",
      " * sqlite:///CourseData2.db\n",
      "316 rows affected.\n"
     ]
    },
    {
     "data": {
      "text/plain": [
       "[]"
      ]
     },
     "execution_count": 111,
     "metadata": {},
     "output_type": "execute_result"
    }
   ],
   "source": [
    "%%sql\n",
    "INSERT INTO courses (term,crn,catalog_id,section,credits,title,meetings,timecodes,primary_instructor,cap,act,rem)\n",
    "SELECT term,crn,catalog_id,section,credits,title,meetings,timecodes,primary_instructor,cap,act,rem\n",
    "FROM import_coursesSU15"
   ]
  },
  {
   "cell_type": "code",
   "execution_count": 112,
   "metadata": {},
   "outputs": [
    {
     "name": "stdout",
     "output_type": "stream",
     "text": [
      "   sqlite:///CourseData.db\n",
      " * sqlite:///CourseData2.db\n",
      "310 rows affected.\n"
     ]
    },
    {
     "data": {
      "text/plain": [
       "[]"
      ]
     },
     "execution_count": 112,
     "metadata": {},
     "output_type": "execute_result"
    }
   ],
   "source": [
    "%%sql\n",
    "INSERT INTO courses (term,crn,catalog_id,section,credits,title,meetings,timecodes,primary_instructor,cap,act,rem)\n",
    "SELECT term,crn,catalog_id,section,credits,title,meetings,timecodes,primary_instructor,cap,act,rem\n",
    "FROM import_coursesSU16"
   ]
  },
  {
   "cell_type": "code",
   "execution_count": 113,
   "metadata": {},
   "outputs": [
    {
     "name": "stdout",
     "output_type": "stream",
     "text": [
      "   sqlite:///CourseData.db\n",
      " * sqlite:///CourseData2.db\n",
      "285 rows affected.\n"
     ]
    },
    {
     "data": {
      "text/plain": [
       "[]"
      ]
     },
     "execution_count": 113,
     "metadata": {},
     "output_type": "execute_result"
    }
   ],
   "source": [
    "%%sql\n",
    "INSERT INTO courses (term,crn,catalog_id,section,credits,title,meetings,timecodes,primary_instructor,cap,act,rem)\n",
    "SELECT term,crn,catalog_id,section,credits,title,meetings,timecodes,primary_instructor,cap,act,rem\n",
    "FROM import_coursesSU17"
   ]
  },
  {
   "cell_type": "code",
   "execution_count": 114,
   "metadata": {},
   "outputs": [
    {
     "name": "stdout",
     "output_type": "stream",
     "text": [
      "   sqlite:///CourseData.db\n",
      " * sqlite:///CourseData2.db\n",
      "313 rows affected.\n"
     ]
    },
    {
     "data": {
      "text/plain": [
       "[]"
      ]
     },
     "execution_count": 114,
     "metadata": {},
     "output_type": "execute_result"
    }
   ],
   "source": [
    "%%sql\n",
    "INSERT INTO courses (term,crn,catalog_id,section,credits,title,meetings,timecodes,primary_instructor,cap,act,rem)\n",
    "SELECT term,crn,catalog_id,section,credits,title,meetings,timecodes,primary_instructor,cap,act,rem\n",
    "FROM import_coursesSU18"
   ]
  },
  {
   "cell_type": "code",
   "execution_count": 115,
   "metadata": {},
   "outputs": [
    {
     "name": "stdout",
     "output_type": "stream",
     "text": [
      "   sqlite:///CourseData.db\n",
      " * sqlite:///CourseData2.db\n",
      "Done.\n"
     ]
    },
    {
     "data": {
      "text/html": [
       "<table>\n",
       "    <tr>\n",
       "        <th>COUNT (*)</th>\n",
       "    </tr>\n",
       "    <tr>\n",
       "        <td>15832</td>\n",
       "    </tr>\n",
       "</table>"
      ],
      "text/plain": [
       "[(15832,)]"
      ]
     },
     "execution_count": 115,
     "metadata": {},
     "output_type": "execute_result"
    }
   ],
   "source": [
    "%%sql\n",
    "SELECT COUNT (*)\n",
    "FROM courses"
   ]
  },
  {
   "cell_type": "code",
   "execution_count": 116,
   "metadata": {},
   "outputs": [
    {
     "name": "stdout",
     "output_type": "stream",
     "text": [
      "   sqlite:///CourseData.db\n",
      " * sqlite:///CourseData2.db\n",
      "25 rows affected.\n"
     ]
    },
    {
     "data": {
      "text/plain": [
       "[]"
      ]
     },
     "execution_count": 116,
     "metadata": {},
     "output_type": "execute_result"
    }
   ],
   "source": [
    "%%sql\n",
    "INSERT INTO courses (term,crn,catalog_id,section,credits,title,meetings,timecodes,primary_instructor,cap,act,rem)\n",
    "SELECT term,crn,catalog_id,section,credits,title,meetings,timecodes,primary_instructor,cap,act,rem\n",
    "FROM import_coursesW15"
   ]
  },
  {
   "cell_type": "code",
   "execution_count": 117,
   "metadata": {},
   "outputs": [
    {
     "name": "stdout",
     "output_type": "stream",
     "text": [
      "   sqlite:///CourseData.db\n",
      " * sqlite:///CourseData2.db\n",
      "28 rows affected.\n"
     ]
    },
    {
     "data": {
      "text/plain": [
       "[]"
      ]
     },
     "execution_count": 117,
     "metadata": {},
     "output_type": "execute_result"
    }
   ],
   "source": [
    "%%sql\n",
    "INSERT INTO courses (term,crn,catalog_id,section,credits,title,meetings,timecodes,primary_instructor,cap,act,rem)\n",
    "SELECT term,crn,catalog_id,section,credits,title,meetings,timecodes,primary_instructor,cap,act,rem\n",
    "FROM import_coursesW16"
   ]
  },
  {
   "cell_type": "code",
   "execution_count": 118,
   "metadata": {},
   "outputs": [
    {
     "name": "stdout",
     "output_type": "stream",
     "text": [
      "   sqlite:///CourseData.db\n",
      " * sqlite:///CourseData2.db\n",
      "24 rows affected.\n"
     ]
    },
    {
     "data": {
      "text/plain": [
       "[]"
      ]
     },
     "execution_count": 118,
     "metadata": {},
     "output_type": "execute_result"
    }
   ],
   "source": [
    "%%sql\n",
    "INSERT INTO courses (term,crn,catalog_id,section,credits,title,meetings,timecodes,primary_instructor,cap,act,rem)\n",
    "SELECT term,crn,catalog_id,section,credits,title,meetings,timecodes,primary_instructor,cap,act,rem\n",
    "FROM import_coursesW17"
   ]
  },
  {
   "cell_type": "code",
   "execution_count": 119,
   "metadata": {},
   "outputs": [
    {
     "name": "stdout",
     "output_type": "stream",
     "text": [
      "   sqlite:///CourseData.db\n",
      " * sqlite:///CourseData2.db\n",
      "28 rows affected.\n"
     ]
    },
    {
     "data": {
      "text/plain": [
       "[]"
      ]
     },
     "execution_count": 119,
     "metadata": {},
     "output_type": "execute_result"
    }
   ],
   "source": [
    "%%sql\n",
    "INSERT INTO courses (term,crn,catalog_id,section,credits,title,meetings,timecodes,primary_instructor,cap,act,rem)\n",
    "SELECT term,crn,catalog_id,section,credits,title,meetings,timecodes,primary_instructor,cap,act,rem\n",
    "FROM import_coursesW18"
   ]
  },
  {
   "cell_type": "code",
   "execution_count": 120,
   "metadata": {},
   "outputs": [
    {
     "name": "stdout",
     "output_type": "stream",
     "text": [
      "   sqlite:///CourseData.db\n",
      " * sqlite:///CourseData2.db\n",
      "Done.\n"
     ]
    },
    {
     "data": {
      "text/html": [
       "<table>\n",
       "    <tr>\n",
       "        <th>COUNT (*)</th>\n",
       "    </tr>\n",
       "    <tr>\n",
       "        <td>15937</td>\n",
       "    </tr>\n",
       "</table>"
      ],
      "text/plain": [
       "[(15937,)]"
      ]
     },
     "execution_count": 120,
     "metadata": {},
     "output_type": "execute_result"
    }
   ],
   "source": [
    "%%sql\n",
    "SELECT COUNT (*)\n",
    "FROM courses"
   ]
  },
  {
   "cell_type": "code",
   "execution_count": null,
   "metadata": {},
   "outputs": [],
   "source": []
  },
  {
   "cell_type": "code",
   "execution_count": null,
   "metadata": {},
   "outputs": [],
   "source": []
  }
 ],
 "metadata": {
  "kernelspec": {
   "display_name": "Python 3",
   "language": "python",
   "name": "python3"
  },
  "language_info": {
   "codemirror_mode": {
    "name": "ipython",
    "version": 3
   },
   "file_extension": ".py",
   "mimetype": "text/x-python",
   "name": "python",
   "nbconvert_exporter": "python",
   "pygments_lexer": "ipython3",
   "version": "3.6.5"
  }
 },
 "nbformat": 4,
 "nbformat_minor": 2
}
