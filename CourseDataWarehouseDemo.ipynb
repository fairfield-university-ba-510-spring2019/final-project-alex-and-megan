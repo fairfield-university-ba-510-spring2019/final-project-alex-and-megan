{
 "cells": [
  {
   "cell_type": "code",
   "execution_count": 1,
   "metadata": {},
   "outputs": [],
   "source": [
    "%reload_ext sql"
   ]
  },
  {
   "cell_type": "code",
   "execution_count": 2,
   "metadata": {},
   "outputs": [
    {
     "data": {
      "text/plain": [
       "'Connected: @CourseDataWarehouse1.db'"
      ]
     },
     "execution_count": 2,
     "metadata": {},
     "output_type": "execute_result"
    }
   ],
   "source": [
    "%%sql\n",
    "sqlite:///CourseDataWarehouse1.db"
   ]
  },
  {
   "cell_type": "markdown",
   "metadata": {},
   "source": [
    "We are able to use the Course_Info dimension table to show all of the different courses that Professor Walker has taught in this time period. We also use the LIKE function to find this information without knowing his middle initial. "
   ]
  },
  {
   "cell_type": "code",
   "execution_count": 3,
   "metadata": {},
   "outputs": [
    {
     "name": "stdout",
     "output_type": "stream",
     "text": [
      " * sqlite:///CourseDataWarehouse1.db\n",
      "Done.\n"
     ]
    },
    {
     "data": {
      "text/html": [
       "<table>\n",
       "    <tr>\n",
       "        <th>primary_instructor</th>\n",
       "        <th>title</th>\n",
       "    </tr>\n",
       "    <tr>\n",
       "        <td>Brian G.  Walker</td>\n",
       "        <td>General Biology III Lab</td>\n",
       "    </tr>\n",
       "    <tr>\n",
       "        <td>Brian G.  Walker</td>\n",
       "        <td>Special Topics in Biology</td>\n",
       "    </tr>\n",
       "    <tr>\n",
       "        <td>Brian G.  Walker</td>\n",
       "        <td>General Biology I Lab</td>\n",
       "    </tr>\n",
       "    <tr>\n",
       "        <td>Brian G.  Walker</td>\n",
       "        <td>Independent Study</td>\n",
       "    </tr>\n",
       "    <tr>\n",
       "        <td>Brian G.  Walker</td>\n",
       "        <td>Human Physiology Lab</td>\n",
       "    </tr>\n",
       "    <tr>\n",
       "        <td>Brian G.  Walker</td>\n",
       "        <td>Biology Teaching Practicum</td>\n",
       "    </tr>\n",
       "    <tr>\n",
       "        <td>Brian G.  Walker</td>\n",
       "        <td>Endocrinology</td>\n",
       "    </tr>\n",
       "    <tr>\n",
       "        <td>Brian G.  Walker</td>\n",
       "        <td>Internship</td>\n",
       "    </tr>\n",
       "    <tr>\n",
       "        <td>Brian G.  Walker</td>\n",
       "        <td>Health Studies Capstone</td>\n",
       "    </tr>\n",
       "    <tr>\n",
       "        <td>Brian G.  Walker</td>\n",
       "        <td>General Biology II</td>\n",
       "    </tr>\n",
       "</table>"
      ],
      "text/plain": [
       "[('Brian G.  Walker', 'General Biology III Lab'),\n",
       " ('Brian G.  Walker', 'Special Topics in Biology'),\n",
       " ('Brian G.  Walker', 'General Biology I Lab'),\n",
       " ('Brian G.  Walker', 'Independent Study'),\n",
       " ('Brian G.  Walker', 'Human Physiology Lab'),\n",
       " ('Brian G.  Walker', 'Biology Teaching Practicum'),\n",
       " ('Brian G.  Walker', 'Endocrinology'),\n",
       " ('Brian G.  Walker', 'Internship'),\n",
       " ('Brian G.  Walker', 'Health Studies Capstone'),\n",
       " ('Brian G.  Walker', 'General Biology II')]"
      ]
     },
     "execution_count": 3,
     "metadata": {},
     "output_type": "execute_result"
    }
   ],
   "source": [
    "%%sql\n",
    "SELECT DISTINCT primary_instructor, title\n",
    "FROM Course_Info\n",
    "WHERE primary_instructor LIKE \"Brian%Walker\""
   ]
  },
  {
   "cell_type": "markdown",
   "metadata": {},
   "source": [
    "We added in the term column to show the different courses that Professor Walker will be teaching this semester and will therefore have to create separate lesson plans for."
   ]
  },
  {
   "cell_type": "code",
   "execution_count": 42,
   "metadata": {},
   "outputs": [
    {
     "name": "stdout",
     "output_type": "stream",
     "text": [
      " * sqlite:///CourseDataWarehouse1.db\n",
      "Done.\n"
     ]
    },
    {
     "data": {
      "text/html": [
       "<table>\n",
       "    <tr>\n",
       "        <th>primary_instructor</th>\n",
       "        <th>title</th>\n",
       "        <th>term</th>\n",
       "    </tr>\n",
       "    <tr>\n",
       "        <td>Brian G.  Walker</td>\n",
       "        <td>General Biology II</td>\n",
       "        <td>Spring2019</td>\n",
       "    </tr>\n",
       "    <tr>\n",
       "        <td>Brian G.  Walker</td>\n",
       "        <td>Biology Teaching Practicum</td>\n",
       "        <td>Spring2019</td>\n",
       "    </tr>\n",
       "    <tr>\n",
       "        <td>Brian G.  Walker</td>\n",
       "        <td>Internship</td>\n",
       "        <td>Spring2019</td>\n",
       "    </tr>\n",
       "    <tr>\n",
       "        <td>Brian G.  Walker</td>\n",
       "        <td>Health Studies Capstone</td>\n",
       "        <td>Spring2019</td>\n",
       "    </tr>\n",
       "</table>"
      ],
      "text/plain": [
       "[('Brian G.  Walker', 'General Biology II', 'Spring2019'),\n",
       " ('Brian G.  Walker', 'Biology Teaching Practicum', 'Spring2019'),\n",
       " ('Brian G.  Walker', 'Internship', 'Spring2019'),\n",
       " ('Brian G.  Walker', 'Health Studies Capstone', 'Spring2019')]"
      ]
     },
     "execution_count": 42,
     "metadata": {},
     "output_type": "execute_result"
    }
   ],
   "source": [
    "%%sql\n",
    "SELECT DISTINCT primary_instructor, title, term\n",
    "FROM Course_Info\n",
    "WHERE primary_instructor LIKE \"Brian%Walker\" AND term = \"Spring2019\""
   ]
  },
  {
   "cell_type": "markdown",
   "metadata": {},
   "source": [
    "We were able to join the Course_Info and the Location tables with the Fact table to show that of the 6 times that Professor Walker has taught Health Studies Capstone, they were all taught in different classrooms except one time."
   ]
  },
  {
   "cell_type": "code",
   "execution_count": 26,
   "metadata": {},
   "outputs": [
    {
     "name": "stdout",
     "output_type": "stream",
     "text": [
      " * sqlite:///CourseDataWarehouse1.db\n",
      "Done.\n"
     ]
    },
    {
     "data": {
      "text/html": [
       "<table>\n",
       "    <tr>\n",
       "        <th>primary_instructor</th>\n",
       "        <th>title</th>\n",
       "        <th>location</th>\n",
       "        <th>term</th>\n",
       "    </tr>\n",
       "    <tr>\n",
       "        <td>Brian G.  Walker</td>\n",
       "        <td>Health Studies Capstone</td>\n",
       "        <td>BNW 333</td>\n",
       "        <td>Fall2018</td>\n",
       "    </tr>\n",
       "    <tr>\n",
       "        <td>Brian G.  Walker</td>\n",
       "        <td>Health Studies Capstone</td>\n",
       "        <td>BNW 361</td>\n",
       "        <td>Spring2019</td>\n",
       "    </tr>\n",
       "    <tr>\n",
       "        <td>Brian G.  Walker</td>\n",
       "        <td>Health Studies Capstone</td>\n",
       "        <td>BNW 254A</td>\n",
       "        <td>Spring2016</td>\n",
       "    </tr>\n",
       "    <tr>\n",
       "        <td>Brian G.  Walker</td>\n",
       "        <td>Health Studies Capstone</td>\n",
       "        <td>BNW 139</td>\n",
       "        <td>Spring2017</td>\n",
       "    </tr>\n",
       "    <tr>\n",
       "        <td>Brian G.  Walker</td>\n",
       "        <td>Health Studies Capstone</td>\n",
       "        <td>BNW 333</td>\n",
       "        <td>Spring2019</td>\n",
       "    </tr>\n",
       "    <tr>\n",
       "        <td>Brian G.  Walker</td>\n",
       "        <td>Health Studies Capstone</td>\n",
       "        <td>BNW 137</td>\n",
       "        <td>Spring2016</td>\n",
       "    </tr>\n",
       "</table>"
      ],
      "text/plain": [
       "[('Brian G.  Walker', 'Health Studies Capstone', 'BNW 333', 'Fall2018'),\n",
       " ('Brian G.  Walker', 'Health Studies Capstone', 'BNW 361', 'Spring2019'),\n",
       " ('Brian G.  Walker', 'Health Studies Capstone', 'BNW 254A', 'Spring2016'),\n",
       " ('Brian G.  Walker', 'Health Studies Capstone', 'BNW 139', 'Spring2017'),\n",
       " ('Brian G.  Walker', 'Health Studies Capstone', 'BNW 333', 'Spring2019'),\n",
       " ('Brian G.  Walker', 'Health Studies Capstone', 'BNW 137', 'Spring2016')]"
      ]
     },
     "execution_count": 26,
     "metadata": {},
     "output_type": "execute_result"
    }
   ],
   "source": [
    "%%sql\n",
    "SELECT DISTINCT primary_instructor, title, location, term\n",
    "FROM Fact F Join Course_Info CI ON F.course_ID = CI.course_ID\n",
    "        JOIN Location L ON L.location_ID = F.location_ID\n",
    "WHERE primary_instructor LIKE \"Brian%Walker\" AND title = \"Health Studies Capstone\""
   ]
  },
  {
   "cell_type": "markdown",
   "metadata": {},
   "source": [
    "We joined together the Course_Info and the Catalog_Info tables with the Fact table to show the prereqs that are required for the Health Studies Capstone Class are HS 0101 and the completion of at least two health studies electives. "
   ]
  },
  {
   "cell_type": "code",
   "execution_count": 49,
   "metadata": {},
   "outputs": [
    {
     "name": "stdout",
     "output_type": "stream",
     "text": [
      " * sqlite:///CourseDataWarehouse1.db\n",
      "Done.\n"
     ]
    },
    {
     "data": {
      "text/html": [
       "<table>\n",
       "    <tr>\n",
       "        <th>primary_instructor</th>\n",
       "        <th>title</th>\n",
       "        <th>prereqs</th>\n",
       "    </tr>\n",
       "    <tr>\n",
       "        <td>Brian G.  Walker</td>\n",
       "        <td>Health Studies Capstone</td>\n",
       "        <td>HS 0101; completion of at least two health studies electives.</td>\n",
       "    </tr>\n",
       "</table>"
      ],
      "text/plain": [
       "[('Brian G.  Walker', 'Health Studies Capstone', 'HS 0101; completion of at least two health studies electives.')]"
      ]
     },
     "execution_count": 49,
     "metadata": {},
     "output_type": "execute_result"
    }
   ],
   "source": [
    "%%sql\n",
    "SELECT DISTINCT primary_instructor, title, prereqs\n",
    "FROM Fact F Join Course_Info CI ON F.course_ID = CI.course_ID\n",
    "        JOIN Catalog_Info CA ON CA.catalog_id = F.catalog_id\n",
    "WHERE primary_instructor LIKE \"Brian%Walker\" AND title = \"Health Studies Capstone\""
   ]
  },
  {
   "cell_type": "markdown",
   "metadata": {},
   "source": [
    "Because we learned about the prereqs to the Health Studies Capstone, we wanted to look up what HS 0101 was and the professor that teaches it in Fall of 2018."
   ]
  },
  {
   "cell_type": "code",
   "execution_count": 60,
   "metadata": {},
   "outputs": [
    {
     "name": "stdout",
     "output_type": "stream",
     "text": [
      " * sqlite:///CourseDataWarehouse1.db\n",
      "Done.\n"
     ]
    },
    {
     "data": {
      "text/html": [
       "<table>\n",
       "    <tr>\n",
       "        <th>primary_instructor</th>\n",
       "        <th>title</th>\n",
       "    </tr>\n",
       "    <tr>\n",
       "        <td>Patrick W.  Kelley</td>\n",
       "        <td>Introduction to Health Studies</td>\n",
       "    </tr>\n",
       "</table>"
      ],
      "text/plain": [
       "[('Patrick W.  Kelley', 'Introduction to Health Studies')]"
      ]
     },
     "execution_count": 60,
     "metadata": {},
     "output_type": "execute_result"
    }
   ],
   "source": [
    "%%sql\n",
    "SELECT primary_instructor, title\n",
    "FROM Fact F Join Course_Info CI ON F.course_ID = CI.course_ID\n",
    "        JOIN Catalog_Info CA ON CA.catalog_id = F.catalog_id\n",
    "WHERE CA.catalog_id = \"HS 0101\" AND term = \"Fall2018\"\n",
    "LIMIT 1;"
   ]
  },
  {
   "cell_type": "code",
   "execution_count": null,
   "metadata": {},
   "outputs": [],
   "source": []
  }
 ],
 "metadata": {
  "kernelspec": {
   "display_name": "Python 3",
   "language": "python",
   "name": "python3"
  },
  "language_info": {
   "codemirror_mode": {
    "name": "ipython",
    "version": 3
   },
   "file_extension": ".py",
   "mimetype": "text/x-python",
   "name": "python",
   "nbconvert_exporter": "python",
   "pygments_lexer": "ipython3",
   "version": "3.6.5"
  }
 },
 "nbformat": 4,
 "nbformat_minor": 2
}
