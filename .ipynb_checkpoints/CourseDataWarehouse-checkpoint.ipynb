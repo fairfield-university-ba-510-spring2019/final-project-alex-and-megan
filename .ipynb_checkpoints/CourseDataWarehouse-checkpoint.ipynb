{
 "cells": [
  {
   "cell_type": "code",
   "execution_count": 1,
   "metadata": {},
   "outputs": [],
   "source": [
    "%reload_ext sql"
   ]
  },
  {
   "cell_type": "code",
   "execution_count": 2,
   "metadata": {},
   "outputs": [
    {
     "data": {
      "text/plain": [
       "'Connected: @CourseDataWarehouse.db'"
      ]
     },
     "execution_count": 2,
     "metadata": {},
     "output_type": "execute_result"
    }
   ],
   "source": [
    "%%sql\n",
    "sqlite:///CourseDataWarehouse.db"
   ]
  },
  {
   "cell_type": "code",
   "execution_count": 3,
   "metadata": {},
   "outputs": [
    {
     "name": "stdout",
     "output_type": "stream",
     "text": [
      " * sqlite:///CourseDataWarehouse.db\n",
      "(sqlite3.OperationalError) no such table: import_coursemeetingsF14 [SQL: 'DROP TABLE import_coursemeetingsF14;'] (Background on this error at: http://sqlalche.me/e/e3q8)\n"
     ]
    }
   ],
   "source": [
    "%%sql\n",
    "DROP TABLE import_coursemeetingsF14;  \n",
    "DROP TABLE import_coursemeetingsF15;  \n",
    "DROP TABLE import_coursemeetingsF16;   \n",
    "DROP TABLE import_coursemeetingsF17;   \n",
    "DROP TABLE import_coursemeetingsF18;   \n",
    "DROP TABLE import_coursemeetingsS15;   \n",
    "DROP TABLE import_coursemeetingsS16;   \n",
    "DROP TABLE import_coursemeetingsS17;   \n",
    "DROP TABLE import_coursemeetingsS18;  \n",
    "DROP TABLE import_coursemeetingsS19;   \n",
    "DROP TABLE import_coursemeetingsSB17;  \n",
    "DROP TABLE import_coursemeetingsSU15;  \n",
    "DROP TABLE import_coursemeetingsSU16;  \n",
    "DROP TABLE import_coursemeetingsSU17;  \n",
    "DROP TABLE import_coursemeetingsSU18;  \n",
    "DROP TABLE import_coursemeetingsW15;   \n",
    "DROP TABLE import_coursemeetingsW16;  \n",
    "DROP TABLE import_coursemeetingsW17;   \n",
    "DROP TABLE import_coursesF15;\n",
    "DROP TABLE import_coursesF16;\n",
    "DROP TABLE import_coursesF17;\n",
    "DROP TABLE import_coursesF18;\n",
    "DROP TABLE import_coursesS15;\n",
    "DROP TABLE import_coursesS16;\n",
    "DROP TABLE import_coursesS17;\n",
    "DROP TABLE import_coursesS18;\n",
    "DROP TABLE import_coursesS19;\n",
    "DROP TABLE import_coursesSB17;\n",
    "DROP TABLE import_coursesSU15;\n",
    "DROP TABLE import_coursesSU16;\n",
    "DROP TABLE import_coursesSU17;\n",
    "DROP TABLE import_coursesSU18;\n",
    "DROP TABLE import_coursesW15;\n",
    "DROP TABLE import_coursesW16;\n",
    "DROP TABLE import_coursesW17;\n",
    "DROP TABLE import_coursesW18;"
   ]
  },
  {
   "cell_type": "code",
   "execution_count": 4,
   "metadata": {},
   "outputs": [
    {
     "name": "stdout",
     "output_type": "stream",
     "text": [
      " * sqlite:///CourseDataWarehouse.db\n",
      "Done.\n"
     ]
    },
    {
     "data": {
      "text/plain": [
       "[]"
      ]
     },
     "execution_count": 4,
     "metadata": {},
     "output_type": "execute_result"
    }
   ],
   "source": [
    "%%sql\n",
    "CREATE TABLE CourseNum(\n",
    "    term TEXT NOT NULL,\n",
    "    crn INTEGER SURROGATE KEY,\n",
    "    catalog_id TEXT NOT NULL\n",
    "    );"
   ]
  },
  {
   "cell_type": "code",
   "execution_count": 5,
   "metadata": {},
   "outputs": [
    {
     "name": "stdout",
     "output_type": "stream",
     "text": [
      " * sqlite:///CourseDataWarehouse.db\n",
      "15937 rows affected.\n"
     ]
    },
    {
     "data": {
      "text/plain": [
       "[]"
      ]
     },
     "execution_count": 5,
     "metadata": {},
     "output_type": "execute_result"
    }
   ],
   "source": [
    "%%sql\n",
    "INSERT INTO CourseNum (term,crn,catalog_id)\n",
    "SELECT DISTINCT term,crn,catalog_id\n",
    "FROM courses;"
   ]
  },
  {
   "cell_type": "code",
   "execution_count": 6,
   "metadata": {},
   "outputs": [
    {
     "name": "stdout",
     "output_type": "stream",
     "text": [
      " * sqlite:///CourseDataWarehouse.db\n",
      "Done.\n"
     ]
    },
    {
     "data": {
      "text/html": [
       "<table>\n",
       "    <tr>\n",
       "        <th>term</th>\n",
       "        <th>crn</th>\n",
       "        <th>catalog_id</th>\n",
       "    </tr>\n",
       "    <tr>\n",
       "        <td>Fall2014</td>\n",
       "        <td>70384</td>\n",
       "        <td>AC 0011</td>\n",
       "    </tr>\n",
       "    <tr>\n",
       "        <td>Fall2014</td>\n",
       "        <td>70385</td>\n",
       "        <td>AC 0011</td>\n",
       "    </tr>\n",
       "    <tr>\n",
       "        <td>Fall2014</td>\n",
       "        <td>70382</td>\n",
       "        <td>AC 0011</td>\n",
       "    </tr>\n",
       "    <tr>\n",
       "        <td>Fall2014</td>\n",
       "        <td>70291</td>\n",
       "        <td>AC 0011</td>\n",
       "    </tr>\n",
       "    <tr>\n",
       "        <td>Fall2014</td>\n",
       "        <td>70350</td>\n",
       "        <td>AC 0011</td>\n",
       "    </tr>\n",
       "    <tr>\n",
       "        <td>Fall2014</td>\n",
       "        <td>70381</td>\n",
       "        <td>AC 0011</td>\n",
       "    </tr>\n",
       "    <tr>\n",
       "        <td>Fall2014</td>\n",
       "        <td>70383</td>\n",
       "        <td>AC 0011</td>\n",
       "    </tr>\n",
       "    <tr>\n",
       "        <td>Fall2014</td>\n",
       "        <td>70391</td>\n",
       "        <td>AC 0011</td>\n",
       "    </tr>\n",
       "    <tr>\n",
       "        <td>Fall2014</td>\n",
       "        <td>71105</td>\n",
       "        <td>AC 0011</td>\n",
       "    </tr>\n",
       "    <tr>\n",
       "        <td>Fall2014</td>\n",
       "        <td>71123</td>\n",
       "        <td>AC 0011</td>\n",
       "    </tr>\n",
       "</table>"
      ],
      "text/plain": [
       "[('Fall2014', 70384, 'AC 0011'),\n",
       " ('Fall2014', 70385, 'AC 0011'),\n",
       " ('Fall2014', 70382, 'AC 0011'),\n",
       " ('Fall2014', 70291, 'AC 0011'),\n",
       " ('Fall2014', 70350, 'AC 0011'),\n",
       " ('Fall2014', 70381, 'AC 0011'),\n",
       " ('Fall2014', 70383, 'AC 0011'),\n",
       " ('Fall2014', 70391, 'AC 0011'),\n",
       " ('Fall2014', 71105, 'AC 0011'),\n",
       " ('Fall2014', 71123, 'AC 0011')]"
      ]
     },
     "execution_count": 6,
     "metadata": {},
     "output_type": "execute_result"
    }
   ],
   "source": [
    "%%sql\n",
    "SELECT *\n",
    "FROM CourseNum\n",
    "LIMIT 10;"
   ]
  },
  {
   "cell_type": "code",
   "execution_count": 8,
   "metadata": {},
   "outputs": [
    {
     "name": "stdout",
     "output_type": "stream",
     "text": [
      " * sqlite:///CourseDataWarehouse.db\n",
      "Done.\n"
     ]
    },
    {
     "data": {
      "text/plain": [
       "[]"
      ]
     },
     "execution_count": 8,
     "metadata": {},
     "output_type": "execute_result"
    }
   ],
   "source": [
    "%%sql\n",
    "CREATE TABLE CourseTitle(\n",
    "    catalog_id TEXT SURROGATE KEY,\n",
    "    credits INTEGER NOT NULL,\n",
    "    title TEXT NOT NULL);"
   ]
  },
  {
   "cell_type": "code",
   "execution_count": 9,
   "metadata": {},
   "outputs": [
    {
     "name": "stdout",
     "output_type": "stream",
     "text": [
      " * sqlite:///CourseDataWarehouse.db\n",
      "15937 rows affected.\n"
     ]
    },
    {
     "data": {
      "text/plain": [
       "[]"
      ]
     },
     "execution_count": 9,
     "metadata": {},
     "output_type": "execute_result"
    }
   ],
   "source": [
    "%%sql\n",
    "INSERT INTO CourseTitle (catalog_id, credits, title)\n",
    "SELECT catalog_id, credits, title\n",
    "FROM courses;"
   ]
  },
  {
   "cell_type": "code",
   "execution_count": 10,
   "metadata": {},
   "outputs": [
    {
     "name": "stdout",
     "output_type": "stream",
     "text": [
      " * sqlite:///CourseDataWarehouse.db\n",
      "(sqlite3.OperationalError) no such table: CourseDay [SQL: 'DROP TABLE CourseDay;'] (Background on this error at: http://sqlalche.me/e/e3q8)\n"
     ]
    }
   ],
   "source": [
    "%%sql\n",
    "DROP TABLE CourseDay;"
   ]
  },
  {
   "cell_type": "code",
   "execution_count": 11,
   "metadata": {},
   "outputs": [
    {
     "name": "stdout",
     "output_type": "stream",
     "text": [
      " * sqlite:///CourseDataWarehouse.db\n",
      "Done.\n"
     ]
    },
    {
     "data": {
      "text/plain": [
       "[]"
      ]
     },
     "execution_count": 11,
     "metadata": {},
     "output_type": "execute_result"
    }
   ],
   "source": [
    "%%sql\n",
    "CREATE TABLE CourseInfo(\n",
    "    crn INTEGER SURROGATE, \n",
    "    section TEXT NOT NULL,\n",
    "    primary_instructor TEXT NOT NULL,\n",
    "    cap INTEGER NOT NULL,\n",
    "    act INTEGER NOT NULL);"
   ]
  },
  {
   "cell_type": "code",
   "execution_count": 12,
   "metadata": {},
   "outputs": [
    {
     "name": "stdout",
     "output_type": "stream",
     "text": [
      " * sqlite:///CourseDataWarehouse.db\n",
      "15937 rows affected.\n"
     ]
    },
    {
     "data": {
      "text/plain": [
       "[]"
      ]
     },
     "execution_count": 12,
     "metadata": {},
     "output_type": "execute_result"
    }
   ],
   "source": [
    "%%sql\n",
    "INSERT INTO CourseInfo (crn,section, primary_instructor, cap, act)\n",
    "SELECT crn,section, primary_instructor, cap, act\n",
    "FROM courses;"
   ]
  },
  {
   "cell_type": "code",
   "execution_count": 13,
   "metadata": {},
   "outputs": [
    {
     "name": "stdout",
     "output_type": "stream",
     "text": [
      " * sqlite:///CourseDataWarehouse.db\n",
      "Done.\n"
     ]
    },
    {
     "data": {
      "text/html": [
       "<table>\n",
       "    <tr>\n",
       "        <th>crn</th>\n",
       "        <th>section</th>\n",
       "        <th>primary_instructor</th>\n",
       "        <th>cap</th>\n",
       "        <th>act</th>\n",
       "    </tr>\n",
       "    <tr>\n",
       "        <td>70384</td>\n",
       "        <td>C01</td>\n",
       "        <td>Michael P.  Coyne</td>\n",
       "        <td>0</td>\n",
       "        <td>31</td>\n",
       "    </tr>\n",
       "    <tr>\n",
       "        <td>70385</td>\n",
       "        <td>C02</td>\n",
       "        <td>Michael P.  Coyne</td>\n",
       "        <td>0</td>\n",
       "        <td>31</td>\n",
       "    </tr>\n",
       "    <tr>\n",
       "        <td>70382</td>\n",
       "        <td>C03</td>\n",
       "        <td>Michael P.  Coyne</td>\n",
       "        <td>0</td>\n",
       "        <td>31</td>\n",
       "    </tr>\n",
       "    <tr>\n",
       "        <td>70291</td>\n",
       "        <td>C04</td>\n",
       "        <td>Rebecca I.  Bloch</td>\n",
       "        <td>0</td>\n",
       "        <td>29</td>\n",
       "    </tr>\n",
       "    <tr>\n",
       "        <td>70350</td>\n",
       "        <td>C05</td>\n",
       "        <td>Rebecca I.  Bloch</td>\n",
       "        <td>0</td>\n",
       "        <td>30</td>\n",
       "    </tr>\n",
       "    <tr>\n",
       "        <td>70381</td>\n",
       "        <td>C06</td>\n",
       "        <td>Rebecca I.  Bloch</td>\n",
       "        <td>0</td>\n",
       "        <td>31</td>\n",
       "    </tr>\n",
       "    <tr>\n",
       "        <td>70383</td>\n",
       "        <td>G</td>\n",
       "        <td>Paul   Caster</td>\n",
       "        <td>30</td>\n",
       "        <td>31</td>\n",
       "    </tr>\n",
       "    <tr>\n",
       "        <td>70391</td>\n",
       "        <td>H</td>\n",
       "        <td>Jo Ann   Drusbosky</td>\n",
       "        <td>30</td>\n",
       "        <td>32</td>\n",
       "    </tr>\n",
       "    <tr>\n",
       "        <td>71105</td>\n",
       "        <td>I</td>\n",
       "        <td>Jo Ann   Drusbosky</td>\n",
       "        <td>30</td>\n",
       "        <td>33</td>\n",
       "    </tr>\n",
       "    <tr>\n",
       "        <td>71123</td>\n",
       "        <td>J</td>\n",
       "        <td>Jo Ann   Drusbosky</td>\n",
       "        <td>30</td>\n",
       "        <td>32</td>\n",
       "    </tr>\n",
       "</table>"
      ],
      "text/plain": [
       "[(70384, 'C01', 'Michael P.  Coyne', 0, 31),\n",
       " (70385, 'C02', 'Michael P.  Coyne', 0, 31),\n",
       " (70382, 'C03', 'Michael P.  Coyne', 0, 31),\n",
       " (70291, 'C04', 'Rebecca I.  Bloch', 0, 29),\n",
       " (70350, 'C05', 'Rebecca I.  Bloch', 0, 30),\n",
       " (70381, 'C06', 'Rebecca I.  Bloch', 0, 31),\n",
       " (70383, 'G', 'Paul   Caster', 30, 31),\n",
       " (70391, 'H', 'Jo Ann   Drusbosky', 30, 32),\n",
       " (71105, 'I', 'Jo Ann   Drusbosky', 30, 33),\n",
       " (71123, 'J', 'Jo Ann   Drusbosky', 30, 32)]"
      ]
     },
     "execution_count": 13,
     "metadata": {},
     "output_type": "execute_result"
    }
   ],
   "source": [
    "%%sql\n",
    "SELECT *\n",
    "FROM CourseInfo\n",
    "LIMIT 10;"
   ]
  },
  {
   "cell_type": "code",
   "execution_count": 14,
   "metadata": {},
   "outputs": [
    {
     "name": "stdout",
     "output_type": "stream",
     "text": [
      " * sqlite:///CourseDataWarehouse.db\n",
      "Done.\n"
     ]
    },
    {
     "data": {
      "text/plain": [
       "[]"
      ]
     },
     "execution_count": 14,
     "metadata": {},
     "output_type": "execute_result"
    }
   ],
   "source": [
    "%%sql\n",
    "DROP TABLE import_coursemeetingsW18;"
   ]
  },
  {
   "cell_type": "code",
   "execution_count": 15,
   "metadata": {},
   "outputs": [
    {
     "name": "stdout",
     "output_type": "stream",
     "text": [
      " * sqlite:///CourseDataWarehouse.db\n",
      "Done.\n"
     ]
    },
    {
     "data": {
      "text/plain": [
       "[]"
      ]
     },
     "execution_count": 15,
     "metadata": {},
     "output_type": "execute_result"
    }
   ],
   "source": [
    "%%sql\n",
    "DROP TABLE import_coursesF14;"
   ]
  },
  {
   "cell_type": "code",
   "execution_count": null,
   "metadata": {},
   "outputs": [],
   "source": []
  }
 ],
 "metadata": {
  "kernelspec": {
   "display_name": "Python 3",
   "language": "python",
   "name": "python3"
  },
  "language_info": {
   "codemirror_mode": {
    "name": "ipython",
    "version": 3
   },
   "file_extension": ".py",
   "mimetype": "text/x-python",
   "name": "python",
   "nbconvert_exporter": "python",
   "pygments_lexer": "ipython3",
   "version": "3.6.5"
  }
 },
 "nbformat": 4,
 "nbformat_minor": 2
}
