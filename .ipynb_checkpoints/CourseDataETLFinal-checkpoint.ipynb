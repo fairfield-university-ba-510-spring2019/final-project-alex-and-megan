{
 "cells": [
  {
   "cell_type": "code",
   "execution_count": 1,
   "metadata": {},
   "outputs": [],
   "source": [
    "%reload_ext sql"
   ]
  },
  {
   "cell_type": "code",
   "execution_count": 2,
   "metadata": {},
   "outputs": [
    {
     "data": {
      "text/plain": [
       "'Connected: @CourseData2.db'"
      ]
     },
     "execution_count": 2,
     "metadata": {},
     "output_type": "execute_result"
    }
   ],
   "source": [
    "%%sql\n",
    "sqlite:///CourseData2.db"
   ]
  },
  {
   "cell_type": "markdown",
   "metadata": {},
   "source": [
    "Create CourseNum Table"
   ]
  },
  {
   "cell_type": "code",
   "execution_count": 84,
   "metadata": {},
   "outputs": [
    {
     "name": "stdout",
     "output_type": "stream",
     "text": [
      " * sqlite:///CourseData2.db\n",
      "Done.\n"
     ]
    },
    {
     "data": {
      "text/plain": [
       "[]"
      ]
     },
     "execution_count": 84,
     "metadata": {},
     "output_type": "execute_result"
    }
   ],
   "source": [
    "%%sql\n",
    "CREATE TABLE CourseNum(\n",
    "    term TEXT NOT NULL,\n",
    "    crn INTEGER SURROGATE KEY,\n",
    "    catalog_id TEXT NOT NULL\n",
    "    );"
   ]
  },
  {
   "cell_type": "markdown",
   "metadata": {},
   "source": [
    "Insert into the CourseNum Table"
   ]
  },
  {
   "cell_type": "code",
   "execution_count": 85,
   "metadata": {},
   "outputs": [
    {
     "name": "stdout",
     "output_type": "stream",
     "text": [
      " * sqlite:///CourseData2.db\n",
      "15937 rows affected.\n"
     ]
    },
    {
     "data": {
      "text/plain": [
       "[]"
      ]
     },
     "execution_count": 85,
     "metadata": {},
     "output_type": "execute_result"
    }
   ],
   "source": [
    "%%sql\n",
    "INSERT INTO CourseNum (term,crn,catalog_id)\n",
    "SELECT DISTINCT term,crn,catalog_id\n",
    "FROM courses;"
   ]
  },
  {
   "cell_type": "code",
   "execution_count": 86,
   "metadata": {},
   "outputs": [
    {
     "name": "stdout",
     "output_type": "stream",
     "text": [
      " * sqlite:///CourseData2.db\n",
      "Done.\n"
     ]
    },
    {
     "data": {
      "text/html": [
       "<table>\n",
       "    <tr>\n",
       "        <th>term</th>\n",
       "        <th>crn</th>\n",
       "        <th>catalog_id</th>\n",
       "    </tr>\n",
       "    <tr>\n",
       "        <td>Fall2014</td>\n",
       "        <td>70384</td>\n",
       "        <td>AC 0011</td>\n",
       "    </tr>\n",
       "    <tr>\n",
       "        <td>Fall2014</td>\n",
       "        <td>70385</td>\n",
       "        <td>AC 0011</td>\n",
       "    </tr>\n",
       "    <tr>\n",
       "        <td>Fall2014</td>\n",
       "        <td>70382</td>\n",
       "        <td>AC 0011</td>\n",
       "    </tr>\n",
       "    <tr>\n",
       "        <td>Fall2014</td>\n",
       "        <td>70291</td>\n",
       "        <td>AC 0011</td>\n",
       "    </tr>\n",
       "    <tr>\n",
       "        <td>Fall2014</td>\n",
       "        <td>70350</td>\n",
       "        <td>AC 0011</td>\n",
       "    </tr>\n",
       "    <tr>\n",
       "        <td>Fall2014</td>\n",
       "        <td>70381</td>\n",
       "        <td>AC 0011</td>\n",
       "    </tr>\n",
       "    <tr>\n",
       "        <td>Fall2014</td>\n",
       "        <td>70383</td>\n",
       "        <td>AC 0011</td>\n",
       "    </tr>\n",
       "    <tr>\n",
       "        <td>Fall2014</td>\n",
       "        <td>70391</td>\n",
       "        <td>AC 0011</td>\n",
       "    </tr>\n",
       "    <tr>\n",
       "        <td>Fall2014</td>\n",
       "        <td>71105</td>\n",
       "        <td>AC 0011</td>\n",
       "    </tr>\n",
       "    <tr>\n",
       "        <td>Fall2014</td>\n",
       "        <td>71123</td>\n",
       "        <td>AC 0011</td>\n",
       "    </tr>\n",
       "</table>"
      ],
      "text/plain": [
       "[('Fall2014', 70384, 'AC 0011'),\n",
       " ('Fall2014', 70385, 'AC 0011'),\n",
       " ('Fall2014', 70382, 'AC 0011'),\n",
       " ('Fall2014', 70291, 'AC 0011'),\n",
       " ('Fall2014', 70350, 'AC 0011'),\n",
       " ('Fall2014', 70381, 'AC 0011'),\n",
       " ('Fall2014', 70383, 'AC 0011'),\n",
       " ('Fall2014', 70391, 'AC 0011'),\n",
       " ('Fall2014', 71105, 'AC 0011'),\n",
       " ('Fall2014', 71123, 'AC 0011')]"
      ]
     },
     "execution_count": 86,
     "metadata": {},
     "output_type": "execute_result"
    }
   ],
   "source": [
    "%%sql\n",
    "SELECT *\n",
    "FROM CourseNum\n",
    "LIMIT 10;"
   ]
  },
  {
   "cell_type": "markdown",
   "metadata": {},
   "source": [
    "Create CourseTitle Table"
   ]
  },
  {
   "cell_type": "code",
   "execution_count": 88,
   "metadata": {},
   "outputs": [
    {
     "name": "stdout",
     "output_type": "stream",
     "text": [
      " * sqlite:///CourseData2.db\n",
      "Done.\n"
     ]
    },
    {
     "data": {
      "text/plain": [
       "[]"
      ]
     },
     "execution_count": 88,
     "metadata": {},
     "output_type": "execute_result"
    }
   ],
   "source": [
    "%%sql\n",
    "CREATE TABLE CourseTitle(\n",
    "    catalog_id TEXT SURROGATE KEY,\n",
    "    credits INTEGER NOT NULL,\n",
    "    course_title TEXT NOT NULL,\n",
    "    description TEXT NOT NULL);"
   ]
  },
  {
   "cell_type": "markdown",
   "metadata": {},
   "source": [
    "Insert into the CourseTitle Table"
   ]
  },
  {
   "cell_type": "code",
   "execution_count": 89,
   "metadata": {},
   "outputs": [
    {
     "name": "stdout",
     "output_type": "stream",
     "text": [
      " * sqlite:///CourseData2.db\n",
      "0 rows affected.\n"
     ]
    },
    {
     "data": {
      "text/plain": [
       "[]"
      ]
     },
     "execution_count": 89,
     "metadata": {},
     "output_type": "execute_result"
    }
   ],
   "source": [
    "%%sql\n",
    "INSERT INTO CourseTitle (catalog_id, credits, course_title, description)\n",
    "SELECT CC.catalog_id AS Catalog_ID, CC.credits AS Credits, CC.course_title AS Title,\n",
    "CC.description AS Description\n",
    "FROM coursecatalog CC \n",
    "    JOIN (SELECT description FROM coursecatalog \n",
    "          GROUP BY description) on CC.description = CC.description;"
   ]
  },
  {
   "cell_type": "markdown",
   "metadata": {},
   "source": [
    "Create CourseDay Table"
   ]
  },
  {
   "cell_type": "code",
   "execution_count": 91,
   "metadata": {},
   "outputs": [
    {
     "name": "stdout",
     "output_type": "stream",
     "text": [
      " * sqlite:///CourseData2.db\n",
      "Done.\n"
     ]
    },
    {
     "data": {
      "text/plain": [
       "[]"
      ]
     },
     "execution_count": 91,
     "metadata": {},
     "output_type": "execute_result"
    }
   ],
   "source": [
    "%%sql\n",
    "CREATE TABLE CourseDay(\n",
    "    crn INTEGER SURROGATE KEY,\n",
    "    day TEXT NOT NULL,\n",
    "    start TEXT NOT NULL,\n",
    "    end TEXT NOT NULL);"
   ]
  },
  {
   "cell_type": "markdown",
   "metadata": {},
   "source": [
    "Insert into CourseDat Table"
   ]
  },
  {
   "cell_type": "code",
   "execution_count": 92,
   "metadata": {},
   "outputs": [
    {
     "name": "stdout",
     "output_type": "stream",
     "text": [
      " * sqlite:///CourseData2.db\n",
      "317321 rows affected.\n"
     ]
    },
    {
     "data": {
      "text/plain": [
       "[]"
      ]
     },
     "execution_count": 92,
     "metadata": {},
     "output_type": "execute_result"
    }
   ],
   "source": [
    "%%sql\n",
    "INSERT INTO CourseDay (crn,day,start,end)\n",
    "SELECT crn,day,start,end\n",
    "FROM coursemeetings;"
   ]
  },
  {
   "cell_type": "code",
   "execution_count": 93,
   "metadata": {},
   "outputs": [
    {
     "name": "stdout",
     "output_type": "stream",
     "text": [
      " * sqlite:///CourseData2.db\n",
      "Done.\n"
     ]
    },
    {
     "data": {
      "text/html": [
       "<table>\n",
       "    <tr>\n",
       "        <th>crn</th>\n",
       "        <th>day</th>\n",
       "        <th>start</th>\n",
       "        <th>end</th>\n",
       "    </tr>\n",
       "    <tr>\n",
       "        <td>70384</td>\n",
       "        <td>T</td>\n",
       "        <td>2014-09-02T08:00:00</td>\n",
       "        <td>2014-09-02T09:15:00</td>\n",
       "    </tr>\n",
       "    <tr>\n",
       "        <td>70384</td>\n",
       "        <td>F</td>\n",
       "        <td>2014-09-05T08:00:00</td>\n",
       "        <td>2014-09-05T09:15:00</td>\n",
       "    </tr>\n",
       "    <tr>\n",
       "        <td>70384</td>\n",
       "        <td>T</td>\n",
       "        <td>2014-09-09T08:00:00</td>\n",
       "        <td>2014-09-09T09:15:00</td>\n",
       "    </tr>\n",
       "    <tr>\n",
       "        <td>70384</td>\n",
       "        <td>F</td>\n",
       "        <td>2014-09-12T08:00:00</td>\n",
       "        <td>2014-09-12T09:15:00</td>\n",
       "    </tr>\n",
       "    <tr>\n",
       "        <td>70384</td>\n",
       "        <td>T</td>\n",
       "        <td>2014-09-16T08:00:00</td>\n",
       "        <td>2014-09-16T09:15:00</td>\n",
       "    </tr>\n",
       "    <tr>\n",
       "        <td>70384</td>\n",
       "        <td>F</td>\n",
       "        <td>2014-09-19T08:00:00</td>\n",
       "        <td>2014-09-19T09:15:00</td>\n",
       "    </tr>\n",
       "    <tr>\n",
       "        <td>70384</td>\n",
       "        <td>T</td>\n",
       "        <td>2014-09-23T08:00:00</td>\n",
       "        <td>2014-09-23T09:15:00</td>\n",
       "    </tr>\n",
       "    <tr>\n",
       "        <td>70384</td>\n",
       "        <td>F</td>\n",
       "        <td>2014-09-26T08:00:00</td>\n",
       "        <td>2014-09-26T09:15:00</td>\n",
       "    </tr>\n",
       "    <tr>\n",
       "        <td>70384</td>\n",
       "        <td>T</td>\n",
       "        <td>2014-09-30T08:00:00</td>\n",
       "        <td>2014-09-30T09:15:00</td>\n",
       "    </tr>\n",
       "    <tr>\n",
       "        <td>70384</td>\n",
       "        <td>F</td>\n",
       "        <td>2014-10-03T08:00:00</td>\n",
       "        <td>2014-10-03T09:15:00</td>\n",
       "    </tr>\n",
       "</table>"
      ],
      "text/plain": [
       "[(70384, 'T', '2014-09-02T08:00:00', '2014-09-02T09:15:00'),\n",
       " (70384, 'F', '2014-09-05T08:00:00', '2014-09-05T09:15:00'),\n",
       " (70384, 'T', '2014-09-09T08:00:00', '2014-09-09T09:15:00'),\n",
       " (70384, 'F', '2014-09-12T08:00:00', '2014-09-12T09:15:00'),\n",
       " (70384, 'T', '2014-09-16T08:00:00', '2014-09-16T09:15:00'),\n",
       " (70384, 'F', '2014-09-19T08:00:00', '2014-09-19T09:15:00'),\n",
       " (70384, 'T', '2014-09-23T08:00:00', '2014-09-23T09:15:00'),\n",
       " (70384, 'F', '2014-09-26T08:00:00', '2014-09-26T09:15:00'),\n",
       " (70384, 'T', '2014-09-30T08:00:00', '2014-09-30T09:15:00'),\n",
       " (70384, 'F', '2014-10-03T08:00:00', '2014-10-03T09:15:00')]"
      ]
     },
     "execution_count": 93,
     "metadata": {},
     "output_type": "execute_result"
    }
   ],
   "source": [
    "%%sql\n",
    "SELECT *\n",
    "FROM CourseDay\n",
    "LIMIT 10;"
   ]
  },
  {
   "cell_type": "markdown",
   "metadata": {},
   "source": [
    "Create CatalogCourse Table"
   ]
  },
  {
   "cell_type": "code",
   "execution_count": 95,
   "metadata": {},
   "outputs": [
    {
     "name": "stdout",
     "output_type": "stream",
     "text": [
      " * sqlite:///CourseData2.db\n",
      "Done.\n"
     ]
    },
    {
     "data": {
      "text/plain": [
       "[]"
      ]
     },
     "execution_count": 95,
     "metadata": {},
     "output_type": "execute_result"
    }
   ],
   "source": [
    "%%sql\n",
    "CREATE TABLE CatalogCourse(\n",
    "    catalog_id TEXT SURROGATE KEY,\n",
    "    program_code TEXT NOT NULL,\n",
    "    program_name TEXT NOT NULL,\n",
    "    prereqs TEXT NOT NULL,\n",
    "    coreqs TEXT NOT NULL,\n",
    "    fees TEXT NOT NULL\n",
    "    );"
   ]
  },
  {
   "cell_type": "markdown",
   "metadata": {},
   "source": [
    "Insert into CatalogCourse Table"
   ]
  },
  {
   "cell_type": "code",
   "execution_count": 96,
   "metadata": {},
   "outputs": [
    {
     "name": "stdout",
     "output_type": "stream",
     "text": [
      " * sqlite:///CourseData2.db\n",
      "0 rows affected.\n"
     ]
    },
    {
     "data": {
      "text/plain": [
       "[]"
      ]
     },
     "execution_count": 96,
     "metadata": {},
     "output_type": "execute_result"
    }
   ],
   "source": [
    "%%sql\n",
    "INSERT INTO CatalogCourse (catalog_id, program_code, program_name, prereqs, coreqs, fees)\n",
    "SELECT catalog_id, program_code, program_name, prereqs, coreqs, fees\n",
    "FROM coursecatalog;"
   ]
  },
  {
   "cell_type": "code",
   "execution_count": 97,
   "metadata": {},
   "outputs": [
    {
     "name": "stdout",
     "output_type": "stream",
     "text": [
      " * sqlite:///CourseData2.db\n",
      "Done.\n"
     ]
    },
    {
     "data": {
      "text/html": [
       "<table>\n",
       "    <tr>\n",
       "        <th>catalog_id</th>\n",
       "        <th>program_code</th>\n",
       "        <th>program_name</th>\n",
       "        <th>prereqs</th>\n",
       "        <th>coreqs</th>\n",
       "        <th>fees</th>\n",
       "    </tr>\n",
       "</table>"
      ],
      "text/plain": [
       "[]"
      ]
     },
     "execution_count": 97,
     "metadata": {},
     "output_type": "execute_result"
    }
   ],
   "source": [
    "%%sql\n",
    "SELECT *\n",
    "FROM CatalogCourse\n",
    "LIMIT 10;"
   ]
  },
  {
   "cell_type": "markdown",
   "metadata": {},
   "source": [
    "Create the CourseInfo Table"
   ]
  },
  {
   "cell_type": "code",
   "execution_count": 99,
   "metadata": {},
   "outputs": [
    {
     "name": "stdout",
     "output_type": "stream",
     "text": [
      " * sqlite:///CourseData2.db\n",
      "Done.\n"
     ]
    },
    {
     "data": {
      "text/plain": [
       "[]"
      ]
     },
     "execution_count": 99,
     "metadata": {},
     "output_type": "execute_result"
    }
   ],
   "source": [
    "%%sql\n",
    "CREATE TABLE CourseInfo(\n",
    "    crn INTEGER SURROGATE, \n",
    "    section TEXT NOT NULL,\n",
    "    primary_instructor TEXT NOT NULL,\n",
    "    location TEXT NOT NULL,\n",
    "    cap INTEGER NOT NULL,\n",
    "    act INTEGER NOT NULL,\n",
    "    rem INTEGER NOT NULL);"
   ]
  },
  {
   "cell_type": "markdown",
   "metadata": {},
   "source": [
    "Insert into CourseInfo Table"
   ]
  },
  {
   "cell_type": "code",
   "execution_count": 100,
   "metadata": {},
   "outputs": [
    {
     "name": "stdout",
     "output_type": "stream",
     "text": [
      " * sqlite:///CourseData2.db\n",
      "18795 rows affected.\n"
     ]
    },
    {
     "data": {
      "text/plain": [
       "[]"
      ]
     },
     "execution_count": 100,
     "metadata": {},
     "output_type": "execute_result"
    }
   ],
   "source": [
    "%%sql\n",
    "INSERT INTO CourseInfo (crn,section, primary_instructor, location, cap, act, rem)\n",
    "SELECT C.crn AS CourseNumber, C.section AS Section, C.primary_instructor AS Teacher,\n",
    "M.location AS Room, C.cap AS Capacity, C.act AS NumberOfStudents, C.rem AS SeatsOpen\n",
    "FROM courses C \n",
    "    JOIN (SELECT crn,location FROM coursemeetings \n",
    "          GROUP BY crn,location) M on C.crn = M.crn; "
   ]
  },
  {
   "cell_type": "code",
   "execution_count": 101,
   "metadata": {},
   "outputs": [
    {
     "name": "stdout",
     "output_type": "stream",
     "text": [
      " * sqlite:///CourseData2.db\n",
      "Done.\n"
     ]
    },
    {
     "data": {
      "text/html": [
       "<table>\n",
       "    <tr>\n",
       "        <th>crn</th>\n",
       "        <th>section</th>\n",
       "        <th>primary_instructor</th>\n",
       "        <th>location</th>\n",
       "        <th>cap</th>\n",
       "        <th>act</th>\n",
       "        <th>rem</th>\n",
       "    </tr>\n",
       "    <tr>\n",
       "        <td>70384</td>\n",
       "        <td>C01</td>\n",
       "        <td>Michael P.  Coyne</td>\n",
       "        <td>DSB 105</td>\n",
       "        <td>0</td>\n",
       "        <td>31</td>\n",
       "        <td>-31</td>\n",
       "    </tr>\n",
       "    <tr>\n",
       "        <td>70385</td>\n",
       "        <td>C02</td>\n",
       "        <td>Michael P.  Coyne</td>\n",
       "        <td>DSB 105</td>\n",
       "        <td>0</td>\n",
       "        <td>31</td>\n",
       "        <td>-31</td>\n",
       "    </tr>\n",
       "    <tr>\n",
       "        <td>70382</td>\n",
       "        <td>C03</td>\n",
       "        <td>Michael P.  Coyne</td>\n",
       "        <td>DSB 105</td>\n",
       "        <td>0</td>\n",
       "        <td>31</td>\n",
       "        <td>-31</td>\n",
       "    </tr>\n",
       "    <tr>\n",
       "        <td>70291</td>\n",
       "        <td>C04</td>\n",
       "        <td>Rebecca I.  Bloch</td>\n",
       "        <td>DSB 111</td>\n",
       "        <td>0</td>\n",
       "        <td>29</td>\n",
       "        <td>-29</td>\n",
       "    </tr>\n",
       "    <tr>\n",
       "        <td>70350</td>\n",
       "        <td>C05</td>\n",
       "        <td>Rebecca I.  Bloch</td>\n",
       "        <td>DSB 111</td>\n",
       "        <td>0</td>\n",
       "        <td>30</td>\n",
       "        <td>-30</td>\n",
       "    </tr>\n",
       "    <tr>\n",
       "        <td>70381</td>\n",
       "        <td>C06</td>\n",
       "        <td>Rebecca I.  Bloch</td>\n",
       "        <td>DSB 110A</td>\n",
       "        <td>0</td>\n",
       "        <td>31</td>\n",
       "        <td>-31</td>\n",
       "    </tr>\n",
       "    <tr>\n",
       "        <td>70383</td>\n",
       "        <td>G</td>\n",
       "        <td>Paul   Caster</td>\n",
       "        <td>DSB 111</td>\n",
       "        <td>30</td>\n",
       "        <td>31</td>\n",
       "        <td>-1</td>\n",
       "    </tr>\n",
       "    <tr>\n",
       "        <td>70391</td>\n",
       "        <td>H</td>\n",
       "        <td>Jo Ann   Drusbosky</td>\n",
       "        <td>DSB 110A</td>\n",
       "        <td>30</td>\n",
       "        <td>32</td>\n",
       "        <td>-2</td>\n",
       "    </tr>\n",
       "    <tr>\n",
       "        <td>71105</td>\n",
       "        <td>I</td>\n",
       "        <td>Jo Ann   Drusbosky</td>\n",
       "        <td>DSB 110A</td>\n",
       "        <td>30</td>\n",
       "        <td>33</td>\n",
       "        <td>-3</td>\n",
       "    </tr>\n",
       "    <tr>\n",
       "        <td>71123</td>\n",
       "        <td>J</td>\n",
       "        <td>Jo Ann   Drusbosky</td>\n",
       "        <td>DMH 149</td>\n",
       "        <td>30</td>\n",
       "        <td>32</td>\n",
       "        <td>-2</td>\n",
       "    </tr>\n",
       "</table>"
      ],
      "text/plain": [
       "[(70384, 'C01', 'Michael P.  Coyne', 'DSB 105', 0, 31, -31),\n",
       " (70385, 'C02', 'Michael P.  Coyne', 'DSB 105', 0, 31, -31),\n",
       " (70382, 'C03', 'Michael P.  Coyne', 'DSB 105', 0, 31, -31),\n",
       " (70291, 'C04', 'Rebecca I.  Bloch', 'DSB 111', 0, 29, -29),\n",
       " (70350, 'C05', 'Rebecca I.  Bloch', 'DSB 111', 0, 30, -30),\n",
       " (70381, 'C06', 'Rebecca I.  Bloch', 'DSB 110A', 0, 31, -31),\n",
       " (70383, 'G', 'Paul   Caster', 'DSB 111', 30, 31, -1),\n",
       " (70391, 'H', 'Jo Ann   Drusbosky', 'DSB 110A', 30, 32, -2),\n",
       " (71105, 'I', 'Jo Ann   Drusbosky', 'DSB 110A', 30, 33, -3),\n",
       " (71123, 'J', 'Jo Ann   Drusbosky', 'DMH 149', 30, 32, -2)]"
      ]
     },
     "execution_count": 101,
     "metadata": {},
     "output_type": "execute_result"
    }
   ],
   "source": [
    "%%sql\n",
    "SELECT *\n",
    "FROM CourseInfo\n",
    "LIMIT 10;"
   ]
  },
  {
   "cell_type": "markdown",
   "metadata": {},
   "source": [
    "Creating large tables for Courses, CourseMeetings, and CourseCatalog"
   ]
  },
  {
   "cell_type": "code",
   "execution_count": 102,
   "metadata": {},
   "outputs": [
    {
     "name": "stdout",
     "output_type": "stream",
     "text": [
      " * sqlite:///CourseData2.db\n",
      "Done.\n"
     ]
    },
    {
     "data": {
      "text/html": [
       "<table>\n",
       "    <tr>\n",
       "        <th>term</th>\n",
       "        <th>crn</th>\n",
       "        <th>location</th>\n",
       "        <th>day</th>\n",
       "        <th>start</th>\n",
       "        <th>end</th>\n",
       "    </tr>\n",
       "    <tr>\n",
       "        <td>Fall2014</td>\n",
       "        <td>70384</td>\n",
       "        <td>DSB 105</td>\n",
       "        <td>T</td>\n",
       "        <td>2014-09-02T08:00:00</td>\n",
       "        <td>2014-09-02T09:15:00</td>\n",
       "    </tr>\n",
       "    <tr>\n",
       "        <td>Fall2014</td>\n",
       "        <td>70384</td>\n",
       "        <td>DSB 105</td>\n",
       "        <td>F</td>\n",
       "        <td>2014-09-05T08:00:00</td>\n",
       "        <td>2014-09-05T09:15:00</td>\n",
       "    </tr>\n",
       "    <tr>\n",
       "        <td>Fall2014</td>\n",
       "        <td>70384</td>\n",
       "        <td>DSB 105</td>\n",
       "        <td>T</td>\n",
       "        <td>2014-09-09T08:00:00</td>\n",
       "        <td>2014-09-09T09:15:00</td>\n",
       "    </tr>\n",
       "    <tr>\n",
       "        <td>Fall2014</td>\n",
       "        <td>70384</td>\n",
       "        <td>DSB 105</td>\n",
       "        <td>F</td>\n",
       "        <td>2014-09-12T08:00:00</td>\n",
       "        <td>2014-09-12T09:15:00</td>\n",
       "    </tr>\n",
       "    <tr>\n",
       "        <td>Fall2014</td>\n",
       "        <td>70384</td>\n",
       "        <td>DSB 105</td>\n",
       "        <td>T</td>\n",
       "        <td>2014-09-16T08:00:00</td>\n",
       "        <td>2014-09-16T09:15:00</td>\n",
       "    </tr>\n",
       "    <tr>\n",
       "        <td>Fall2014</td>\n",
       "        <td>70384</td>\n",
       "        <td>DSB 105</td>\n",
       "        <td>F</td>\n",
       "        <td>2014-09-19T08:00:00</td>\n",
       "        <td>2014-09-19T09:15:00</td>\n",
       "    </tr>\n",
       "    <tr>\n",
       "        <td>Fall2014</td>\n",
       "        <td>70384</td>\n",
       "        <td>DSB 105</td>\n",
       "        <td>T</td>\n",
       "        <td>2014-09-23T08:00:00</td>\n",
       "        <td>2014-09-23T09:15:00</td>\n",
       "    </tr>\n",
       "    <tr>\n",
       "        <td>Fall2014</td>\n",
       "        <td>70384</td>\n",
       "        <td>DSB 105</td>\n",
       "        <td>F</td>\n",
       "        <td>2014-09-26T08:00:00</td>\n",
       "        <td>2014-09-26T09:15:00</td>\n",
       "    </tr>\n",
       "    <tr>\n",
       "        <td>Fall2014</td>\n",
       "        <td>70384</td>\n",
       "        <td>DSB 105</td>\n",
       "        <td>T</td>\n",
       "        <td>2014-09-30T08:00:00</td>\n",
       "        <td>2014-09-30T09:15:00</td>\n",
       "    </tr>\n",
       "    <tr>\n",
       "        <td>Fall2014</td>\n",
       "        <td>70384</td>\n",
       "        <td>DSB 105</td>\n",
       "        <td>F</td>\n",
       "        <td>2014-10-03T08:00:00</td>\n",
       "        <td>2014-10-03T09:15:00</td>\n",
       "    </tr>\n",
       "</table>"
      ],
      "text/plain": [
       "[('Fall2014', '70384', 'DSB 105', 'T', '2014-09-02T08:00:00', '2014-09-02T09:15:00'),\n",
       " ('Fall2014', '70384', 'DSB 105', 'F', '2014-09-05T08:00:00', '2014-09-05T09:15:00'),\n",
       " ('Fall2014', '70384', 'DSB 105', 'T', '2014-09-09T08:00:00', '2014-09-09T09:15:00'),\n",
       " ('Fall2014', '70384', 'DSB 105', 'F', '2014-09-12T08:00:00', '2014-09-12T09:15:00'),\n",
       " ('Fall2014', '70384', 'DSB 105', 'T', '2014-09-16T08:00:00', '2014-09-16T09:15:00'),\n",
       " ('Fall2014', '70384', 'DSB 105', 'F', '2014-09-19T08:00:00', '2014-09-19T09:15:00'),\n",
       " ('Fall2014', '70384', 'DSB 105', 'T', '2014-09-23T08:00:00', '2014-09-23T09:15:00'),\n",
       " ('Fall2014', '70384', 'DSB 105', 'F', '2014-09-26T08:00:00', '2014-09-26T09:15:00'),\n",
       " ('Fall2014', '70384', 'DSB 105', 'T', '2014-09-30T08:00:00', '2014-09-30T09:15:00'),\n",
       " ('Fall2014', '70384', 'DSB 105', 'F', '2014-10-03T08:00:00', '2014-10-03T09:15:00')]"
      ]
     },
     "execution_count": 102,
     "metadata": {},
     "output_type": "execute_result"
    }
   ],
   "source": [
    "%%sql\n",
    "SELECT *\n",
    "FROM import_coursemeetingsF14\n",
    "LIMIT 10"
   ]
  },
  {
   "cell_type": "code",
   "execution_count": 103,
   "metadata": {},
   "outputs": [
    {
     "name": "stdout",
     "output_type": "stream",
     "text": [
      " * sqlite:///CourseData2.db\n",
      "Done.\n",
      "Done.\n"
     ]
    },
    {
     "data": {
      "text/plain": [
       "[]"
      ]
     },
     "execution_count": 103,
     "metadata": {},
     "output_type": "execute_result"
    }
   ],
   "source": [
    "%%sql\n",
    "DROP TABLE IF EXISTS coursemeetings;\n",
    "CREATE TABLE coursemeetings (\n",
    "    term TEXT NOT NULL,\n",
    "    crn INTEGER SURROGATE KEY,\n",
    "    location TEXT NOT NULL,\n",
    "    day TEXT SURROGATE KEY,\n",
    "    start TEXT NOT NULL,\n",
    "    end TEXT NOT NULL);"
   ]
  },
  {
   "cell_type": "code",
   "execution_count": 104,
   "metadata": {},
   "outputs": [
    {
     "name": "stdout",
     "output_type": "stream",
     "text": [
      " * sqlite:///CourseData2.db\n",
      "Done.\n"
     ]
    },
    {
     "data": {
      "text/html": [
       "<table>\n",
       "    <tr>\n",
       "        <th>term</th>\n",
       "        <th>crn</th>\n",
       "        <th>location</th>\n",
       "        <th>day</th>\n",
       "        <th>start</th>\n",
       "        <th>end</th>\n",
       "    </tr>\n",
       "</table>"
      ],
      "text/plain": [
       "[]"
      ]
     },
     "execution_count": 104,
     "metadata": {},
     "output_type": "execute_result"
    }
   ],
   "source": [
    "%%sql\n",
    "select * from coursemeetings\n",
    "limit 10;"
   ]
  },
  {
   "cell_type": "code",
   "execution_count": 105,
   "metadata": {},
   "outputs": [
    {
     "name": "stdout",
     "output_type": "stream",
     "text": [
      " * sqlite:///CourseData2.db\n",
      "31505 rows affected.\n"
     ]
    },
    {
     "data": {
      "text/plain": [
       "[]"
      ]
     },
     "execution_count": 105,
     "metadata": {},
     "output_type": "execute_result"
    }
   ],
   "source": [
    "%%sql\n",
    "INSERT INTO coursemeetings (term,crn,location,day,start,end)\n",
    "SELECT term,crn,location,day,start,end\n",
    "FROM import_coursemeetingsF14"
   ]
  },
  {
   "cell_type": "code",
   "execution_count": 106,
   "metadata": {},
   "outputs": [
    {
     "name": "stdout",
     "output_type": "stream",
     "text": [
      " * sqlite:///CourseData2.db\n",
      "31456 rows affected.\n"
     ]
    },
    {
     "data": {
      "text/plain": [
       "[]"
      ]
     },
     "execution_count": 106,
     "metadata": {},
     "output_type": "execute_result"
    }
   ],
   "source": [
    "%%sql\n",
    "INSERT INTO coursemeetings (term,crn,location,day,start,end)\n",
    "SELECT term,crn,location,day,start,end\n",
    "FROM import_coursemeetingsF15"
   ]
  },
  {
   "cell_type": "code",
   "execution_count": 107,
   "metadata": {},
   "outputs": [
    {
     "name": "stdout",
     "output_type": "stream",
     "text": [
      " * sqlite:///CourseData2.db\n",
      "Done.\n"
     ]
    },
    {
     "data": {
      "text/html": [
       "<table>\n",
       "    <tr>\n",
       "        <th>COUNT (*)</th>\n",
       "    </tr>\n",
       "    <tr>\n",
       "        <td>62961</td>\n",
       "    </tr>\n",
       "</table>"
      ],
      "text/plain": [
       "[(62961,)]"
      ]
     },
     "execution_count": 107,
     "metadata": {},
     "output_type": "execute_result"
    }
   ],
   "source": [
    "%%sql\n",
    "SELECT COUNT (*)\n",
    "FROM coursemeetings"
   ]
  },
  {
   "cell_type": "code",
   "execution_count": 108,
   "metadata": {},
   "outputs": [
    {
     "name": "stdout",
     "output_type": "stream",
     "text": [
      " * sqlite:///CourseData2.db\n",
      "31474 rows affected.\n"
     ]
    },
    {
     "data": {
      "text/plain": [
       "[]"
      ]
     },
     "execution_count": 108,
     "metadata": {},
     "output_type": "execute_result"
    }
   ],
   "source": [
    "%%sql\n",
    "INSERT INTO coursemeetings (term,crn,location,day,start,end)\n",
    "SELECT term,crn,location,day,start,end\n",
    "FROM import_coursemeetingsF16"
   ]
  },
  {
   "cell_type": "code",
   "execution_count": 109,
   "metadata": {},
   "outputs": [
    {
     "name": "stdout",
     "output_type": "stream",
     "text": [
      " * sqlite:///CourseData2.db\n",
      "Done.\n"
     ]
    },
    {
     "data": {
      "text/html": [
       "<table>\n",
       "    <tr>\n",
       "        <th>COUNT (*)</th>\n",
       "    </tr>\n",
       "    <tr>\n",
       "        <td>94435</td>\n",
       "    </tr>\n",
       "</table>"
      ],
      "text/plain": [
       "[(94435,)]"
      ]
     },
     "execution_count": 109,
     "metadata": {},
     "output_type": "execute_result"
    }
   ],
   "source": [
    "%%sql\n",
    "SELECT COUNT (*)\n",
    "FROM coursemeetings"
   ]
  },
  {
   "cell_type": "code",
   "execution_count": 110,
   "metadata": {},
   "outputs": [
    {
     "name": "stdout",
     "output_type": "stream",
     "text": [
      " * sqlite:///CourseData2.db\n",
      "31400 rows affected.\n"
     ]
    },
    {
     "data": {
      "text/plain": [
       "[]"
      ]
     },
     "execution_count": 110,
     "metadata": {},
     "output_type": "execute_result"
    }
   ],
   "source": [
    "%%sql\n",
    "INSERT INTO coursemeetings (term,crn,location,day,start,end)\n",
    "SELECT term,crn,location,day,start,end\n",
    "FROM import_coursemeetingsF17"
   ]
  },
  {
   "cell_type": "code",
   "execution_count": 111,
   "metadata": {},
   "outputs": [
    {
     "name": "stdout",
     "output_type": "stream",
     "text": [
      " * sqlite:///CourseData2.db\n",
      "Done.\n"
     ]
    },
    {
     "data": {
      "text/html": [
       "<table>\n",
       "    <tr>\n",
       "        <th>COUNT (*)</th>\n",
       "    </tr>\n",
       "    <tr>\n",
       "        <td>125835</td>\n",
       "    </tr>\n",
       "</table>"
      ],
      "text/plain": [
       "[(125835,)]"
      ]
     },
     "execution_count": 111,
     "metadata": {},
     "output_type": "execute_result"
    }
   ],
   "source": [
    "%%sql\n",
    "SELECT COUNT (*)\n",
    "FROM coursemeetings"
   ]
  },
  {
   "cell_type": "code",
   "execution_count": 112,
   "metadata": {},
   "outputs": [
    {
     "name": "stdout",
     "output_type": "stream",
     "text": [
      " * sqlite:///CourseData2.db\n",
      "33440 rows affected.\n"
     ]
    },
    {
     "data": {
      "text/plain": [
       "[]"
      ]
     },
     "execution_count": 112,
     "metadata": {},
     "output_type": "execute_result"
    }
   ],
   "source": [
    "%%sql\n",
    "INSERT INTO coursemeetings (term,crn,location,day,start,end)\n",
    "SELECT term,crn,location,day,start,end\n",
    "FROM import_coursemeetingsF18"
   ]
  },
  {
   "cell_type": "code",
   "execution_count": 113,
   "metadata": {},
   "outputs": [
    {
     "name": "stdout",
     "output_type": "stream",
     "text": [
      " * sqlite:///CourseData2.db\n",
      "Done.\n"
     ]
    },
    {
     "data": {
      "text/html": [
       "<table>\n",
       "    <tr>\n",
       "        <th>COUNT (*)</th>\n",
       "    </tr>\n",
       "    <tr>\n",
       "        <td>159275</td>\n",
       "    </tr>\n",
       "</table>"
      ],
      "text/plain": [
       "[(159275,)]"
      ]
     },
     "execution_count": 113,
     "metadata": {},
     "output_type": "execute_result"
    }
   ],
   "source": [
    "%%sql\n",
    "SELECT COUNT (*)\n",
    "FROM coursemeetings"
   ]
  },
  {
   "cell_type": "code",
   "execution_count": 114,
   "metadata": {},
   "outputs": [
    {
     "name": "stdout",
     "output_type": "stream",
     "text": [
      " * sqlite:///CourseData2.db\n",
      "29351 rows affected.\n"
     ]
    },
    {
     "data": {
      "text/plain": [
       "[]"
      ]
     },
     "execution_count": 114,
     "metadata": {},
     "output_type": "execute_result"
    }
   ],
   "source": [
    "%%sql\n",
    "INSERT INTO coursemeetings (term,crn,location,day,start,end)\n",
    "SELECT term,crn,location,day,start,end\n",
    "FROM import_coursemeetingsS15"
   ]
  },
  {
   "cell_type": "code",
   "execution_count": 115,
   "metadata": {},
   "outputs": [
    {
     "name": "stdout",
     "output_type": "stream",
     "text": [
      " * sqlite:///CourseData2.db\n",
      "Done.\n"
     ]
    },
    {
     "data": {
      "text/html": [
       "<table>\n",
       "    <tr>\n",
       "        <th>COUNT (*)</th>\n",
       "    </tr>\n",
       "    <tr>\n",
       "        <td>188626</td>\n",
       "    </tr>\n",
       "</table>"
      ],
      "text/plain": [
       "[(188626,)]"
      ]
     },
     "execution_count": 115,
     "metadata": {},
     "output_type": "execute_result"
    }
   ],
   "source": [
    "%%sql\n",
    "SELECT COUNT (*)\n",
    "FROM coursemeetings"
   ]
  },
  {
   "cell_type": "code",
   "execution_count": 116,
   "metadata": {},
   "outputs": [
    {
     "name": "stdout",
     "output_type": "stream",
     "text": [
      " * sqlite:///CourseData2.db\n",
      "30124 rows affected.\n"
     ]
    },
    {
     "data": {
      "text/plain": [
       "[]"
      ]
     },
     "execution_count": 116,
     "metadata": {},
     "output_type": "execute_result"
    }
   ],
   "source": [
    "%%sql\n",
    "INSERT INTO coursemeetings (term,crn,location,day,start,end)\n",
    "SELECT term,crn,location,day,start,end\n",
    "FROM import_coursemeetingsS16"
   ]
  },
  {
   "cell_type": "code",
   "execution_count": 117,
   "metadata": {},
   "outputs": [
    {
     "name": "stdout",
     "output_type": "stream",
     "text": [
      " * sqlite:///CourseData2.db\n",
      "Done.\n"
     ]
    },
    {
     "data": {
      "text/html": [
       "<table>\n",
       "    <tr>\n",
       "        <th>COUNT (*)</th>\n",
       "    </tr>\n",
       "    <tr>\n",
       "        <td>218750</td>\n",
       "    </tr>\n",
       "</table>"
      ],
      "text/plain": [
       "[(218750,)]"
      ]
     },
     "execution_count": 117,
     "metadata": {},
     "output_type": "execute_result"
    }
   ],
   "source": [
    "%%sql\n",
    "SELECT COUNT (*)\n",
    "FROM coursemeetings"
   ]
  },
  {
   "cell_type": "code",
   "execution_count": 118,
   "metadata": {},
   "outputs": [
    {
     "name": "stdout",
     "output_type": "stream",
     "text": [
      " * sqlite:///CourseData2.db\n",
      "29738 rows affected.\n"
     ]
    },
    {
     "data": {
      "text/plain": [
       "[]"
      ]
     },
     "execution_count": 118,
     "metadata": {},
     "output_type": "execute_result"
    }
   ],
   "source": [
    "%%sql\n",
    "INSERT INTO coursemeetings (term,crn,location,day,start,end)\n",
    "SELECT term,crn,location,day,start,end\n",
    "FROM import_coursemeetingsS17"
   ]
  },
  {
   "cell_type": "code",
   "execution_count": 119,
   "metadata": {},
   "outputs": [
    {
     "name": "stdout",
     "output_type": "stream",
     "text": [
      " * sqlite:///CourseData2.db\n",
      "Done.\n"
     ]
    },
    {
     "data": {
      "text/html": [
       "<table>\n",
       "    <tr>\n",
       "        <th>COUNT (*)</th>\n",
       "    </tr>\n",
       "    <tr>\n",
       "        <td>248488</td>\n",
       "    </tr>\n",
       "</table>"
      ],
      "text/plain": [
       "[(248488,)]"
      ]
     },
     "execution_count": 119,
     "metadata": {},
     "output_type": "execute_result"
    }
   ],
   "source": [
    "%%sql\n",
    "SELECT COUNT (*)\n",
    "FROM coursemeetings"
   ]
  },
  {
   "cell_type": "code",
   "execution_count": 120,
   "metadata": {},
   "outputs": [
    {
     "name": "stdout",
     "output_type": "stream",
     "text": [
      " * sqlite:///CourseData2.db\n",
      "29086 rows affected.\n"
     ]
    },
    {
     "data": {
      "text/plain": [
       "[]"
      ]
     },
     "execution_count": 120,
     "metadata": {},
     "output_type": "execute_result"
    }
   ],
   "source": [
    "%%sql\n",
    "INSERT INTO coursemeetings (term,crn,location,day,start,end)\n",
    "SELECT term,crn,location,day,start,end\n",
    "FROM import_coursemeetingsS18"
   ]
  },
  {
   "cell_type": "code",
   "execution_count": 121,
   "metadata": {},
   "outputs": [
    {
     "name": "stdout",
     "output_type": "stream",
     "text": [
      " * sqlite:///CourseData2.db\n",
      "Done.\n"
     ]
    },
    {
     "data": {
      "text/html": [
       "<table>\n",
       "    <tr>\n",
       "        <th>COUNT (*)</th>\n",
       "    </tr>\n",
       "    <tr>\n",
       "        <td>277574</td>\n",
       "    </tr>\n",
       "</table>"
      ],
      "text/plain": [
       "[(277574,)]"
      ]
     },
     "execution_count": 121,
     "metadata": {},
     "output_type": "execute_result"
    }
   ],
   "source": [
    "%%sql\n",
    "SELECT COUNT (*)\n",
    "FROM coursemeetings"
   ]
  },
  {
   "cell_type": "code",
   "execution_count": 122,
   "metadata": {},
   "outputs": [
    {
     "name": "stdout",
     "output_type": "stream",
     "text": [
      " * sqlite:///CourseData2.db\n",
      "28348 rows affected.\n"
     ]
    },
    {
     "data": {
      "text/plain": [
       "[]"
      ]
     },
     "execution_count": 122,
     "metadata": {},
     "output_type": "execute_result"
    }
   ],
   "source": [
    "%%sql\n",
    "INSERT INTO coursemeetings (term,crn,location,day,start,end)\n",
    "SELECT term,crn,location,day,start,end\n",
    "FROM import_coursemeetingsS19"
   ]
  },
  {
   "cell_type": "code",
   "execution_count": 123,
   "metadata": {},
   "outputs": [
    {
     "name": "stdout",
     "output_type": "stream",
     "text": [
      " * sqlite:///CourseData2.db\n",
      "Done.\n"
     ]
    },
    {
     "data": {
      "text/html": [
       "<table>\n",
       "    <tr>\n",
       "        <th>COUNT (*)</th>\n",
       "    </tr>\n",
       "    <tr>\n",
       "        <td>305922</td>\n",
       "    </tr>\n",
       "</table>"
      ],
      "text/plain": [
       "[(305922,)]"
      ]
     },
     "execution_count": 123,
     "metadata": {},
     "output_type": "execute_result"
    }
   ],
   "source": [
    "%%sql\n",
    "SELECT COUNT (*)\n",
    "FROM coursemeetings"
   ]
  },
  {
   "cell_type": "code",
   "execution_count": 124,
   "metadata": {},
   "outputs": [
    {
     "name": "stdout",
     "output_type": "stream",
     "text": [
      " * sqlite:///CourseData2.db\n",
      "5 rows affected.\n"
     ]
    },
    {
     "data": {
      "text/plain": [
       "[]"
      ]
     },
     "execution_count": 124,
     "metadata": {},
     "output_type": "execute_result"
    }
   ],
   "source": [
    "%%sql\n",
    "INSERT INTO coursemeetings (term,crn,location,day,start,end)\n",
    "SELECT term,crn,location,day,start,end\n",
    "FROM import_coursemeetingsSB17"
   ]
  },
  {
   "cell_type": "code",
   "execution_count": 125,
   "metadata": {},
   "outputs": [
    {
     "name": "stdout",
     "output_type": "stream",
     "text": [
      " * sqlite:///CourseData2.db\n",
      "Done.\n"
     ]
    },
    {
     "data": {
      "text/html": [
       "<table>\n",
       "    <tr>\n",
       "        <th>COUNT (*)</th>\n",
       "    </tr>\n",
       "    <tr>\n",
       "        <td>305927</td>\n",
       "    </tr>\n",
       "</table>"
      ],
      "text/plain": [
       "[(305927,)]"
      ]
     },
     "execution_count": 125,
     "metadata": {},
     "output_type": "execute_result"
    }
   ],
   "source": [
    "%%sql\n",
    "SELECT COUNT (*)\n",
    "FROM coursemeetings"
   ]
  },
  {
   "cell_type": "code",
   "execution_count": 126,
   "metadata": {},
   "outputs": [
    {
     "name": "stdout",
     "output_type": "stream",
     "text": [
      " * sqlite:///CourseData2.db\n",
      "2584 rows affected.\n"
     ]
    },
    {
     "data": {
      "text/plain": [
       "[]"
      ]
     },
     "execution_count": 126,
     "metadata": {},
     "output_type": "execute_result"
    }
   ],
   "source": [
    "%%sql\n",
    "INSERT INTO coursemeetings (term,crn,location,day,start,end)\n",
    "SELECT term,crn,location,day,start,end\n",
    "FROM import_coursemeetingsSU15"
   ]
  },
  {
   "cell_type": "code",
   "execution_count": 127,
   "metadata": {},
   "outputs": [
    {
     "name": "stdout",
     "output_type": "stream",
     "text": [
      " * sqlite:///CourseData2.db\n",
      "Done.\n"
     ]
    },
    {
     "data": {
      "text/html": [
       "<table>\n",
       "    <tr>\n",
       "        <th>COUNT (*)</th>\n",
       "    </tr>\n",
       "    <tr>\n",
       "        <td>308511</td>\n",
       "    </tr>\n",
       "</table>"
      ],
      "text/plain": [
       "[(308511,)]"
      ]
     },
     "execution_count": 127,
     "metadata": {},
     "output_type": "execute_result"
    }
   ],
   "source": [
    "%%sql\n",
    "SELECT COUNT (*)\n",
    "FROM coursemeetings"
   ]
  },
  {
   "cell_type": "code",
   "execution_count": 128,
   "metadata": {},
   "outputs": [
    {
     "name": "stdout",
     "output_type": "stream",
     "text": [
      " * sqlite:///CourseData2.db\n",
      "3007 rows affected.\n"
     ]
    },
    {
     "data": {
      "text/plain": [
       "[]"
      ]
     },
     "execution_count": 128,
     "metadata": {},
     "output_type": "execute_result"
    }
   ],
   "source": [
    "%%sql\n",
    "INSERT INTO coursemeetings (term,crn,location,day,start,end)\n",
    "SELECT term,crn,location,day,start,end\n",
    "FROM import_coursemeetingsSU16"
   ]
  },
  {
   "cell_type": "code",
   "execution_count": 129,
   "metadata": {},
   "outputs": [
    {
     "name": "stdout",
     "output_type": "stream",
     "text": [
      " * sqlite:///CourseData2.db\n",
      "Done.\n"
     ]
    },
    {
     "data": {
      "text/html": [
       "<table>\n",
       "    <tr>\n",
       "        <th>COUNT (*)</th>\n",
       "    </tr>\n",
       "    <tr>\n",
       "        <td>311518</td>\n",
       "    </tr>\n",
       "</table>"
      ],
      "text/plain": [
       "[(311518,)]"
      ]
     },
     "execution_count": 129,
     "metadata": {},
     "output_type": "execute_result"
    }
   ],
   "source": [
    "%%sql\n",
    "SELECT COUNT (*)\n",
    "FROM coursemeetings"
   ]
  },
  {
   "cell_type": "code",
   "execution_count": 130,
   "metadata": {},
   "outputs": [
    {
     "name": "stdout",
     "output_type": "stream",
     "text": [
      " * sqlite:///CourseData2.db\n",
      "2666 rows affected.\n"
     ]
    },
    {
     "data": {
      "text/plain": [
       "[]"
      ]
     },
     "execution_count": 130,
     "metadata": {},
     "output_type": "execute_result"
    }
   ],
   "source": [
    "%%sql\n",
    "INSERT INTO coursemeetings (term,crn,location,day,start,end)\n",
    "SELECT term,crn,location,day,start,end\n",
    "FROM import_coursemeetingsSU17"
   ]
  },
  {
   "cell_type": "code",
   "execution_count": 131,
   "metadata": {},
   "outputs": [
    {
     "name": "stdout",
     "output_type": "stream",
     "text": [
      " * sqlite:///CourseData2.db\n",
      "Done.\n"
     ]
    },
    {
     "data": {
      "text/html": [
       "<table>\n",
       "    <tr>\n",
       "        <th>COUNT (*)</th>\n",
       "    </tr>\n",
       "    <tr>\n",
       "        <td>314184</td>\n",
       "    </tr>\n",
       "</table>"
      ],
      "text/plain": [
       "[(314184,)]"
      ]
     },
     "execution_count": 131,
     "metadata": {},
     "output_type": "execute_result"
    }
   ],
   "source": [
    "%%sql\n",
    "SELECT COUNT (*)\n",
    "FROM coursemeetings"
   ]
  },
  {
   "cell_type": "code",
   "execution_count": 132,
   "metadata": {},
   "outputs": [
    {
     "name": "stdout",
     "output_type": "stream",
     "text": [
      " * sqlite:///CourseData2.db\n",
      "2624 rows affected.\n"
     ]
    },
    {
     "data": {
      "text/plain": [
       "[]"
      ]
     },
     "execution_count": 132,
     "metadata": {},
     "output_type": "execute_result"
    }
   ],
   "source": [
    "%%sql\n",
    "INSERT INTO coursemeetings (term,crn,location,day,start,end)\n",
    "SELECT term,crn,location,day,start,end\n",
    "FROM import_coursemeetingsSU18"
   ]
  },
  {
   "cell_type": "code",
   "execution_count": 133,
   "metadata": {},
   "outputs": [
    {
     "name": "stdout",
     "output_type": "stream",
     "text": [
      " * sqlite:///CourseData2.db\n",
      "Done.\n"
     ]
    },
    {
     "data": {
      "text/html": [
       "<table>\n",
       "    <tr>\n",
       "        <th>COUNT (*)</th>\n",
       "    </tr>\n",
       "    <tr>\n",
       "        <td>316808</td>\n",
       "    </tr>\n",
       "</table>"
      ],
      "text/plain": [
       "[(316808,)]"
      ]
     },
     "execution_count": 133,
     "metadata": {},
     "output_type": "execute_result"
    }
   ],
   "source": [
    "%%sql\n",
    "SELECT COUNT (*)\n",
    "FROM coursemeetings"
   ]
  },
  {
   "cell_type": "code",
   "execution_count": 134,
   "metadata": {},
   "outputs": [
    {
     "name": "stdout",
     "output_type": "stream",
     "text": [
      " * sqlite:///CourseData2.db\n",
      "101 rows affected.\n"
     ]
    },
    {
     "data": {
      "text/plain": [
       "[]"
      ]
     },
     "execution_count": 134,
     "metadata": {},
     "output_type": "execute_result"
    }
   ],
   "source": [
    "%%sql\n",
    "INSERT INTO coursemeetings (term,crn,location,day,start,end)\n",
    "SELECT term,crn,location,day,start,end\n",
    "FROM import_coursemeetingsW15"
   ]
  },
  {
   "cell_type": "code",
   "execution_count": 135,
   "metadata": {},
   "outputs": [
    {
     "name": "stdout",
     "output_type": "stream",
     "text": [
      " * sqlite:///CourseData2.db\n",
      "Done.\n"
     ]
    },
    {
     "data": {
      "text/html": [
       "<table>\n",
       "    <tr>\n",
       "        <th>COUNT (*)</th>\n",
       "    </tr>\n",
       "    <tr>\n",
       "        <td>316909</td>\n",
       "    </tr>\n",
       "</table>"
      ],
      "text/plain": [
       "[(316909,)]"
      ]
     },
     "execution_count": 135,
     "metadata": {},
     "output_type": "execute_result"
    }
   ],
   "source": [
    "%%sql\n",
    "SELECT COUNT (*)\n",
    "FROM coursemeetings"
   ]
  },
  {
   "cell_type": "code",
   "execution_count": 136,
   "metadata": {},
   "outputs": [
    {
     "name": "stdout",
     "output_type": "stream",
     "text": [
      " * sqlite:///CourseData2.db\n",
      "106 rows affected.\n"
     ]
    },
    {
     "data": {
      "text/plain": [
       "[]"
      ]
     },
     "execution_count": 136,
     "metadata": {},
     "output_type": "execute_result"
    }
   ],
   "source": [
    "%%sql\n",
    "INSERT INTO coursemeetings (term,crn,location,day,start,end)\n",
    "SELECT term,crn,location,day,start,end\n",
    "FROM import_coursemeetingsW16"
   ]
  },
  {
   "cell_type": "code",
   "execution_count": 137,
   "metadata": {},
   "outputs": [
    {
     "name": "stdout",
     "output_type": "stream",
     "text": [
      " * sqlite:///CourseData2.db\n",
      "Done.\n"
     ]
    },
    {
     "data": {
      "text/html": [
       "<table>\n",
       "    <tr>\n",
       "        <th>COUNT (*)</th>\n",
       "    </tr>\n",
       "    <tr>\n",
       "        <td>317015</td>\n",
       "    </tr>\n",
       "</table>"
      ],
      "text/plain": [
       "[(317015,)]"
      ]
     },
     "execution_count": 137,
     "metadata": {},
     "output_type": "execute_result"
    }
   ],
   "source": [
    "%%sql\n",
    "SELECT COUNT (*)\n",
    "FROM coursemeetings"
   ]
  },
  {
   "cell_type": "code",
   "execution_count": 138,
   "metadata": {},
   "outputs": [
    {
     "name": "stdout",
     "output_type": "stream",
     "text": [
      " * sqlite:///CourseData2.db\n",
      "213 rows affected.\n"
     ]
    },
    {
     "data": {
      "text/plain": [
       "[]"
      ]
     },
     "execution_count": 138,
     "metadata": {},
     "output_type": "execute_result"
    }
   ],
   "source": [
    "%%sql\n",
    "INSERT INTO coursemeetings (term,crn,location,day,start,end)\n",
    "SELECT term,crn,location,day,start,end\n",
    "FROM import_coursemeetingsW17"
   ]
  },
  {
   "cell_type": "code",
   "execution_count": 139,
   "metadata": {},
   "outputs": [
    {
     "name": "stdout",
     "output_type": "stream",
     "text": [
      " * sqlite:///CourseData2.db\n",
      "Done.\n"
     ]
    },
    {
     "data": {
      "text/html": [
       "<table>\n",
       "    <tr>\n",
       "        <th>COUNT (*)</th>\n",
       "    </tr>\n",
       "    <tr>\n",
       "        <td>317228</td>\n",
       "    </tr>\n",
       "</table>"
      ],
      "text/plain": [
       "[(317228,)]"
      ]
     },
     "execution_count": 139,
     "metadata": {},
     "output_type": "execute_result"
    }
   ],
   "source": [
    "%%sql\n",
    "SELECT COUNT (*)\n",
    "FROM coursemeetings"
   ]
  },
  {
   "cell_type": "code",
   "execution_count": 140,
   "metadata": {},
   "outputs": [
    {
     "name": "stdout",
     "output_type": "stream",
     "text": [
      " * sqlite:///CourseData2.db\n",
      "93 rows affected.\n"
     ]
    },
    {
     "data": {
      "text/plain": [
       "[]"
      ]
     },
     "execution_count": 140,
     "metadata": {},
     "output_type": "execute_result"
    }
   ],
   "source": [
    "%%sql\n",
    "INSERT INTO coursemeetings (term,crn,location,day,start,end)\n",
    "SELECT term,crn,location,day,start,end\n",
    "FROM import_coursemeetingsW18"
   ]
  },
  {
   "cell_type": "code",
   "execution_count": 141,
   "metadata": {},
   "outputs": [
    {
     "name": "stdout",
     "output_type": "stream",
     "text": [
      " * sqlite:///CourseData2.db\n",
      "Done.\n"
     ]
    },
    {
     "data": {
      "text/html": [
       "<table>\n",
       "    <tr>\n",
       "        <th>COUNT (*)</th>\n",
       "    </tr>\n",
       "    <tr>\n",
       "        <td>317321</td>\n",
       "    </tr>\n",
       "</table>"
      ],
      "text/plain": [
       "[(317321,)]"
      ]
     },
     "execution_count": 141,
     "metadata": {},
     "output_type": "execute_result"
    }
   ],
   "source": [
    "%%sql\n",
    "SELECT COUNT (*)\n",
    "FROM coursemeetings"
   ]
  },
  {
   "cell_type": "code",
   "execution_count": 142,
   "metadata": {},
   "outputs": [
    {
     "name": "stdout",
     "output_type": "stream",
     "text": [
      " * sqlite:///CourseData2.db\n",
      "Done.\n",
      "Done.\n"
     ]
    },
    {
     "data": {
      "text/plain": [
       "[]"
      ]
     },
     "execution_count": 142,
     "metadata": {},
     "output_type": "execute_result"
    }
   ],
   "source": [
    "%%sql\n",
    "DROP TABLE courses;\n",
    "CREATE TABLE courses (\n",
    "    term TEXT NOT NULL,\n",
    "    crn INTEGER SURROGATE KEY,\n",
    "    catalog_id TEXT NOT NULL,\n",
    "    section TEXT NOT NULL,\n",
    "    credits FLOAT NOT NULL,\n",
    "    title TEXT NOT NULL,\n",
    "    meetings TEXT NOT NULL,\n",
    "    timecodes TEXT NOT NULL,\n",
    "    primary_instructor TEXT NOT NULL,\n",
    "    cap INTEGER NOT NULL,\n",
    "    act INTEGER NOT NULL,\n",
    "    rem INTEGER NOT NULL);"
   ]
  },
  {
   "cell_type": "code",
   "execution_count": 143,
   "metadata": {},
   "outputs": [
    {
     "name": "stdout",
     "output_type": "stream",
     "text": [
      " * sqlite:///CourseData2.db\n",
      "1522 rows affected.\n"
     ]
    },
    {
     "data": {
      "text/plain": [
       "[]"
      ]
     },
     "execution_count": 143,
     "metadata": {},
     "output_type": "execute_result"
    }
   ],
   "source": [
    "%%sql\n",
    "INSERT INTO courses (term,crn,catalog_id,section,credits,title,meetings,timecodes,primary_instructor,cap,act,rem)\n",
    "SELECT term,crn,catalog_id,section,credits,title,meetings,timecodes,primary_instructor,cap,act,rem\n",
    "FROM import_coursesF14"
   ]
  },
  {
   "cell_type": "code",
   "execution_count": 144,
   "metadata": {},
   "outputs": [
    {
     "name": "stdout",
     "output_type": "stream",
     "text": [
      " * sqlite:///CourseData2.db\n",
      "1475 rows affected.\n"
     ]
    },
    {
     "data": {
      "text/plain": [
       "[]"
      ]
     },
     "execution_count": 144,
     "metadata": {},
     "output_type": "execute_result"
    }
   ],
   "source": [
    "%%sql\n",
    "INSERT INTO courses (term,crn,catalog_id,section,credits,title,meetings,timecodes,primary_instructor,cap,act,rem)\n",
    "SELECT term,crn,catalog_id,section,credits,title,meetings,timecodes,primary_instructor,cap,act,rem\n",
    "FROM import_coursesF15"
   ]
  },
  {
   "cell_type": "code",
   "execution_count": 145,
   "metadata": {},
   "outputs": [
    {
     "name": "stdout",
     "output_type": "stream",
     "text": [
      " * sqlite:///CourseData2.db\n",
      "Done.\n"
     ]
    },
    {
     "data": {
      "text/html": [
       "<table>\n",
       "    <tr>\n",
       "        <th>COUNT (*)</th>\n",
       "    </tr>\n",
       "    <tr>\n",
       "        <td>2997</td>\n",
       "    </tr>\n",
       "</table>"
      ],
      "text/plain": [
       "[(2997,)]"
      ]
     },
     "execution_count": 145,
     "metadata": {},
     "output_type": "execute_result"
    }
   ],
   "source": [
    "%%sql\n",
    "SELECT COUNT (*)\n",
    "FROM courses"
   ]
  },
  {
   "cell_type": "code",
   "execution_count": 146,
   "metadata": {},
   "outputs": [
    {
     "name": "stdout",
     "output_type": "stream",
     "text": [
      " * sqlite:///CourseData2.db\n",
      "1491 rows affected.\n"
     ]
    },
    {
     "data": {
      "text/plain": [
       "[]"
      ]
     },
     "execution_count": 146,
     "metadata": {},
     "output_type": "execute_result"
    }
   ],
   "source": [
    "%%sql\n",
    "INSERT INTO courses (term,crn,catalog_id,section,credits,title,meetings,timecodes,primary_instructor,cap,act,rem)\n",
    "SELECT term,crn,catalog_id,section,credits,title,meetings,timecodes,primary_instructor,cap,act,rem\n",
    "FROM import_coursesF16"
   ]
  },
  {
   "cell_type": "code",
   "execution_count": 147,
   "metadata": {},
   "outputs": [
    {
     "name": "stdout",
     "output_type": "stream",
     "text": [
      " * sqlite:///CourseData2.db\n",
      "Done.\n"
     ]
    },
    {
     "data": {
      "text/html": [
       "<table>\n",
       "    <tr>\n",
       "        <th>COUNT (*)</th>\n",
       "    </tr>\n",
       "    <tr>\n",
       "        <td>4488</td>\n",
       "    </tr>\n",
       "</table>"
      ],
      "text/plain": [
       "[(4488,)]"
      ]
     },
     "execution_count": 147,
     "metadata": {},
     "output_type": "execute_result"
    }
   ],
   "source": [
    "%%sql\n",
    "SELECT COUNT (*)\n",
    "FROM courses"
   ]
  },
  {
   "cell_type": "code",
   "execution_count": 148,
   "metadata": {},
   "outputs": [
    {
     "name": "stdout",
     "output_type": "stream",
     "text": [
      " * sqlite:///CourseData2.db\n",
      "1479 rows affected.\n"
     ]
    },
    {
     "data": {
      "text/plain": [
       "[]"
      ]
     },
     "execution_count": 148,
     "metadata": {},
     "output_type": "execute_result"
    }
   ],
   "source": [
    "%%sql\n",
    "INSERT INTO courses (term,crn,catalog_id,section,credits,title,meetings,timecodes,primary_instructor,cap,act,rem)\n",
    "SELECT term,crn,catalog_id,section,credits,title,meetings,timecodes,primary_instructor,cap,act,rem\n",
    "FROM import_coursesF17"
   ]
  },
  {
   "cell_type": "code",
   "execution_count": 149,
   "metadata": {},
   "outputs": [
    {
     "name": "stdout",
     "output_type": "stream",
     "text": [
      " * sqlite:///CourseData2.db\n",
      "1519 rows affected.\n"
     ]
    },
    {
     "data": {
      "text/plain": [
       "[]"
      ]
     },
     "execution_count": 149,
     "metadata": {},
     "output_type": "execute_result"
    }
   ],
   "source": [
    "%%sql\n",
    "INSERT INTO courses (term,crn,catalog_id,section,credits,title,meetings,timecodes,primary_instructor,cap,act,rem)\n",
    "SELECT term,crn,catalog_id,section,credits,title,meetings,timecodes,primary_instructor,cap,act,rem\n",
    "FROM import_coursesF18"
   ]
  },
  {
   "cell_type": "code",
   "execution_count": 150,
   "metadata": {},
   "outputs": [
    {
     "name": "stdout",
     "output_type": "stream",
     "text": [
      " * sqlite:///CourseData2.db\n",
      "Done.\n"
     ]
    },
    {
     "data": {
      "text/html": [
       "<table>\n",
       "    <tr>\n",
       "        <th>COUNT (*)</th>\n",
       "    </tr>\n",
       "    <tr>\n",
       "        <td>7486</td>\n",
       "    </tr>\n",
       "</table>"
      ],
      "text/plain": [
       "[(7486,)]"
      ]
     },
     "execution_count": 150,
     "metadata": {},
     "output_type": "execute_result"
    }
   ],
   "source": [
    "%%sql\n",
    "SELECT COUNT (*)\n",
    "FROM courses"
   ]
  },
  {
   "cell_type": "code",
   "execution_count": 151,
   "metadata": {},
   "outputs": [
    {
     "name": "stdout",
     "output_type": "stream",
     "text": [
      " * sqlite:///CourseData2.db\n",
      "1421 rows affected.\n"
     ]
    },
    {
     "data": {
      "text/plain": [
       "[]"
      ]
     },
     "execution_count": 151,
     "metadata": {},
     "output_type": "execute_result"
    }
   ],
   "source": [
    "%%sql\n",
    "INSERT INTO courses (term,crn,catalog_id,section,credits,title,meetings,timecodes,primary_instructor,cap,act,rem)\n",
    "SELECT term,crn,catalog_id,section,credits,title,meetings,timecodes,primary_instructor,cap,act,rem\n",
    "FROM import_coursesS15"
   ]
  },
  {
   "cell_type": "code",
   "execution_count": 152,
   "metadata": {},
   "outputs": [
    {
     "name": "stdout",
     "output_type": "stream",
     "text": [
      " * sqlite:///CourseData2.db\n",
      "1387 rows affected.\n"
     ]
    },
    {
     "data": {
      "text/plain": [
       "[]"
      ]
     },
     "execution_count": 152,
     "metadata": {},
     "output_type": "execute_result"
    }
   ],
   "source": [
    "%%sql\n",
    "INSERT INTO courses (term,crn,catalog_id,section,credits,title,meetings,timecodes,primary_instructor,cap,act,rem)\n",
    "SELECT term,crn,catalog_id,section,credits,title,meetings,timecodes,primary_instructor,cap,act,rem\n",
    "FROM import_coursesS16"
   ]
  },
  {
   "cell_type": "code",
   "execution_count": 153,
   "metadata": {},
   "outputs": [
    {
     "name": "stdout",
     "output_type": "stream",
     "text": [
      " * sqlite:///CourseData2.db\n",
      "1435 rows affected.\n"
     ]
    },
    {
     "data": {
      "text/plain": [
       "[]"
      ]
     },
     "execution_count": 153,
     "metadata": {},
     "output_type": "execute_result"
    }
   ],
   "source": [
    "%%sql\n",
    "INSERT INTO courses (term,crn,catalog_id,section,credits,title,meetings,timecodes,primary_instructor,cap,act,rem)\n",
    "SELECT term,crn,catalog_id,section,credits,title,meetings,timecodes,primary_instructor,cap,act,rem\n",
    "FROM import_coursesS17"
   ]
  },
  {
   "cell_type": "code",
   "execution_count": 154,
   "metadata": {},
   "outputs": [
    {
     "name": "stdout",
     "output_type": "stream",
     "text": [
      " * sqlite:///CourseData2.db\n",
      "1405 rows affected.\n"
     ]
    },
    {
     "data": {
      "text/plain": [
       "[]"
      ]
     },
     "execution_count": 154,
     "metadata": {},
     "output_type": "execute_result"
    }
   ],
   "source": [
    "%%sql\n",
    "INSERT INTO courses (term,crn,catalog_id,section,credits,title,meetings,timecodes,primary_instructor,cap,act,rem)\n",
    "SELECT term,crn,catalog_id,section,credits,title,meetings,timecodes,primary_instructor,cap,act,rem\n",
    "FROM import_coursesS18"
   ]
  },
  {
   "cell_type": "code",
   "execution_count": 155,
   "metadata": {},
   "outputs": [
    {
     "name": "stdout",
     "output_type": "stream",
     "text": [
      " * sqlite:///CourseData2.db\n",
      "Done.\n"
     ]
    },
    {
     "data": {
      "text/html": [
       "<table>\n",
       "    <tr>\n",
       "        <th>COUNT (*)</th>\n",
       "    </tr>\n",
       "    <tr>\n",
       "        <td>13134</td>\n",
       "    </tr>\n",
       "</table>"
      ],
      "text/plain": [
       "[(13134,)]"
      ]
     },
     "execution_count": 155,
     "metadata": {},
     "output_type": "execute_result"
    }
   ],
   "source": [
    "%%sql\n",
    "SELECT COUNT (*)\n",
    "FROM courses"
   ]
  },
  {
   "cell_type": "code",
   "execution_count": 156,
   "metadata": {},
   "outputs": [
    {
     "name": "stdout",
     "output_type": "stream",
     "text": [
      " * sqlite:///CourseData2.db\n",
      "1473 rows affected.\n"
     ]
    },
    {
     "data": {
      "text/plain": [
       "[]"
      ]
     },
     "execution_count": 156,
     "metadata": {},
     "output_type": "execute_result"
    }
   ],
   "source": [
    "%%sql\n",
    "INSERT INTO courses (term,crn,catalog_id,section,credits,title,meetings,timecodes,primary_instructor,cap,act,rem)\n",
    "SELECT term,crn,catalog_id,section,credits,title,meetings,timecodes,primary_instructor,cap,act,rem\n",
    "FROM import_coursesS19"
   ]
  },
  {
   "cell_type": "code",
   "execution_count": 157,
   "metadata": {},
   "outputs": [
    {
     "name": "stdout",
     "output_type": "stream",
     "text": [
      " * sqlite:///CourseData2.db\n",
      "Done.\n"
     ]
    },
    {
     "data": {
      "text/html": [
       "<table>\n",
       "    <tr>\n",
       "        <th>COUNT (*)</th>\n",
       "    </tr>\n",
       "    <tr>\n",
       "        <td>14607</td>\n",
       "    </tr>\n",
       "</table>"
      ],
      "text/plain": [
       "[(14607,)]"
      ]
     },
     "execution_count": 157,
     "metadata": {},
     "output_type": "execute_result"
    }
   ],
   "source": [
    "%%sql\n",
    "SELECT COUNT (*)\n",
    "FROM courses"
   ]
  },
  {
   "cell_type": "code",
   "execution_count": 158,
   "metadata": {},
   "outputs": [
    {
     "name": "stdout",
     "output_type": "stream",
     "text": [
      " * sqlite:///CourseData2.db\n",
      "1 rows affected.\n"
     ]
    },
    {
     "data": {
      "text/plain": [
       "[]"
      ]
     },
     "execution_count": 158,
     "metadata": {},
     "output_type": "execute_result"
    }
   ],
   "source": [
    "%%sql\n",
    "INSERT INTO courses (term,crn,catalog_id,section,credits,title,meetings,timecodes,primary_instructor,cap,act,rem)\n",
    "SELECT term,crn,catalog_id,section,credits,title,meetings,timecodes,primary_instructor,cap,act,rem\n",
    "FROM import_coursesSB17"
   ]
  },
  {
   "cell_type": "code",
   "execution_count": 159,
   "metadata": {},
   "outputs": [
    {
     "name": "stdout",
     "output_type": "stream",
     "text": [
      " * sqlite:///CourseData2.db\n",
      "316 rows affected.\n"
     ]
    },
    {
     "data": {
      "text/plain": [
       "[]"
      ]
     },
     "execution_count": 159,
     "metadata": {},
     "output_type": "execute_result"
    }
   ],
   "source": [
    "%%sql\n",
    "INSERT INTO courses (term,crn,catalog_id,section,credits,title,meetings,timecodes,primary_instructor,cap,act,rem)\n",
    "SELECT term,crn,catalog_id,section,credits,title,meetings,timecodes,primary_instructor,cap,act,rem\n",
    "FROM import_coursesSU15"
   ]
  },
  {
   "cell_type": "code",
   "execution_count": 160,
   "metadata": {},
   "outputs": [
    {
     "name": "stdout",
     "output_type": "stream",
     "text": [
      " * sqlite:///CourseData2.db\n",
      "310 rows affected.\n"
     ]
    },
    {
     "data": {
      "text/plain": [
       "[]"
      ]
     },
     "execution_count": 160,
     "metadata": {},
     "output_type": "execute_result"
    }
   ],
   "source": [
    "%%sql\n",
    "INSERT INTO courses (term,crn,catalog_id,section,credits,title,meetings,timecodes,primary_instructor,cap,act,rem)\n",
    "SELECT term,crn,catalog_id,section,credits,title,meetings,timecodes,primary_instructor,cap,act,rem\n",
    "FROM import_coursesSU16"
   ]
  },
  {
   "cell_type": "code",
   "execution_count": 161,
   "metadata": {},
   "outputs": [
    {
     "name": "stdout",
     "output_type": "stream",
     "text": [
      " * sqlite:///CourseData2.db\n",
      "285 rows affected.\n"
     ]
    },
    {
     "data": {
      "text/plain": [
       "[]"
      ]
     },
     "execution_count": 161,
     "metadata": {},
     "output_type": "execute_result"
    }
   ],
   "source": [
    "%%sql\n",
    "INSERT INTO courses (term,crn,catalog_id,section,credits,title,meetings,timecodes,primary_instructor,cap,act,rem)\n",
    "SELECT term,crn,catalog_id,section,credits,title,meetings,timecodes,primary_instructor,cap,act,rem\n",
    "FROM import_coursesSU17"
   ]
  },
  {
   "cell_type": "code",
   "execution_count": 162,
   "metadata": {},
   "outputs": [
    {
     "name": "stdout",
     "output_type": "stream",
     "text": [
      " * sqlite:///CourseData2.db\n",
      "313 rows affected.\n"
     ]
    },
    {
     "data": {
      "text/plain": [
       "[]"
      ]
     },
     "execution_count": 162,
     "metadata": {},
     "output_type": "execute_result"
    }
   ],
   "source": [
    "%%sql\n",
    "INSERT INTO courses (term,crn,catalog_id,section,credits,title,meetings,timecodes,primary_instructor,cap,act,rem)\n",
    "SELECT term,crn,catalog_id,section,credits,title,meetings,timecodes,primary_instructor,cap,act,rem\n",
    "FROM import_coursesSU18"
   ]
  },
  {
   "cell_type": "code",
   "execution_count": 163,
   "metadata": {},
   "outputs": [
    {
     "name": "stdout",
     "output_type": "stream",
     "text": [
      " * sqlite:///CourseData2.db\n",
      "Done.\n"
     ]
    },
    {
     "data": {
      "text/html": [
       "<table>\n",
       "    <tr>\n",
       "        <th>COUNT (*)</th>\n",
       "    </tr>\n",
       "    <tr>\n",
       "        <td>15832</td>\n",
       "    </tr>\n",
       "</table>"
      ],
      "text/plain": [
       "[(15832,)]"
      ]
     },
     "execution_count": 163,
     "metadata": {},
     "output_type": "execute_result"
    }
   ],
   "source": [
    "%%sql\n",
    "SELECT COUNT (*)\n",
    "FROM courses"
   ]
  },
  {
   "cell_type": "code",
   "execution_count": 164,
   "metadata": {},
   "outputs": [
    {
     "name": "stdout",
     "output_type": "stream",
     "text": [
      " * sqlite:///CourseData2.db\n",
      "25 rows affected.\n"
     ]
    },
    {
     "data": {
      "text/plain": [
       "[]"
      ]
     },
     "execution_count": 164,
     "metadata": {},
     "output_type": "execute_result"
    }
   ],
   "source": [
    "%%sql\n",
    "INSERT INTO courses (term,crn,catalog_id,section,credits,title,meetings,timecodes,primary_instructor,cap,act,rem)\n",
    "SELECT term,crn,catalog_id,section,credits,title,meetings,timecodes,primary_instructor,cap,act,rem\n",
    "FROM import_coursesW15"
   ]
  },
  {
   "cell_type": "code",
   "execution_count": 165,
   "metadata": {},
   "outputs": [
    {
     "name": "stdout",
     "output_type": "stream",
     "text": [
      " * sqlite:///CourseData2.db\n",
      "28 rows affected.\n"
     ]
    },
    {
     "data": {
      "text/plain": [
       "[]"
      ]
     },
     "execution_count": 165,
     "metadata": {},
     "output_type": "execute_result"
    }
   ],
   "source": [
    "%%sql\n",
    "INSERT INTO courses (term,crn,catalog_id,section,credits,title,meetings,timecodes,primary_instructor,cap,act,rem)\n",
    "SELECT term,crn,catalog_id,section,credits,title,meetings,timecodes,primary_instructor,cap,act,rem\n",
    "FROM import_coursesW16"
   ]
  },
  {
   "cell_type": "code",
   "execution_count": 166,
   "metadata": {},
   "outputs": [
    {
     "name": "stdout",
     "output_type": "stream",
     "text": [
      " * sqlite:///CourseData2.db\n",
      "24 rows affected.\n"
     ]
    },
    {
     "data": {
      "text/plain": [
       "[]"
      ]
     },
     "execution_count": 166,
     "metadata": {},
     "output_type": "execute_result"
    }
   ],
   "source": [
    "%%sql\n",
    "INSERT INTO courses (term,crn,catalog_id,section,credits,title,meetings,timecodes,primary_instructor,cap,act,rem)\n",
    "SELECT term,crn,catalog_id,section,credits,title,meetings,timecodes,primary_instructor,cap,act,rem\n",
    "FROM import_coursesW17"
   ]
  },
  {
   "cell_type": "code",
   "execution_count": 167,
   "metadata": {},
   "outputs": [
    {
     "name": "stdout",
     "output_type": "stream",
     "text": [
      " * sqlite:///CourseData2.db\n",
      "28 rows affected.\n"
     ]
    },
    {
     "data": {
      "text/plain": [
       "[]"
      ]
     },
     "execution_count": 167,
     "metadata": {},
     "output_type": "execute_result"
    }
   ],
   "source": [
    "%%sql\n",
    "INSERT INTO courses (term,crn,catalog_id,section,credits,title,meetings,timecodes,primary_instructor,cap,act,rem)\n",
    "SELECT term,crn,catalog_id,section,credits,title,meetings,timecodes,primary_instructor,cap,act,rem\n",
    "FROM import_coursesW18"
   ]
  },
  {
   "cell_type": "code",
   "execution_count": 168,
   "metadata": {},
   "outputs": [
    {
     "name": "stdout",
     "output_type": "stream",
     "text": [
      " * sqlite:///CourseData2.db\n",
      "Done.\n"
     ]
    },
    {
     "data": {
      "text/html": [
       "<table>\n",
       "    <tr>\n",
       "        <th>COUNT (*)</th>\n",
       "    </tr>\n",
       "    <tr>\n",
       "        <td>15937</td>\n",
       "    </tr>\n",
       "</table>"
      ],
      "text/plain": [
       "[(15937,)]"
      ]
     },
     "execution_count": 168,
     "metadata": {},
     "output_type": "execute_result"
    }
   ],
   "source": [
    "%%sql\n",
    "SELECT COUNT (*)\n",
    "FROM courses"
   ]
  },
  {
   "cell_type": "code",
   "execution_count": 172,
   "metadata": {},
   "outputs": [
    {
     "name": "stdout",
     "output_type": "stream",
     "text": [
      " * sqlite:///CourseData2.db\n",
      "Done.\n",
      "Done.\n"
     ]
    },
    {
     "data": {
      "text/plain": [
       "[]"
      ]
     },
     "execution_count": 172,
     "metadata": {},
     "output_type": "execute_result"
    }
   ],
   "source": [
    "%%sql\n",
    "DROP TABLE coursecatalog;\n",
    "CREATE TABLE coursecatalog (\n",
    "program_code TEXT NOT NULL,\n",
    "program_name TEXT NOT NULL,\n",
    "catalog_id TEXT SURROGATE KEY,\n",
    "course_title TEXT NOT NULL,\n",
    "credits TEXT,\n",
    "prereqs TEXT,\n",
    "coreqs TEXT,\n",
    "fees TEXT,\n",
    "attributes TEXT,\n",
    "description TEXT NOT NULL);"
   ]
  },
  {
   "cell_type": "code",
   "execution_count": 173,
   "metadata": {},
   "outputs": [
    {
     "name": "stdout",
     "output_type": "stream",
     "text": [
      " * sqlite:///CourseData2.db\n",
      "2220 rows affected.\n"
     ]
    },
    {
     "data": {
      "text/plain": [
       "[]"
      ]
     },
     "execution_count": 173,
     "metadata": {},
     "output_type": "execute_result"
    }
   ],
   "source": [
    "%%sql\n",
    "INSERT INTO coursecatalog (program_code, program_name, catalog_id, course_title, credits, prereqs, coreqs, fees, attributes, description)\n",
    "SELECT program_code, program_name, catalog_id, course_title, credits, prereqs, coreqs, fees, attributes, description \n",
    "FROM coursecatalog17_18;"
   ]
  },
  {
   "cell_type": "code",
   "execution_count": 174,
   "metadata": {},
   "outputs": [
    {
     "name": "stdout",
     "output_type": "stream",
     "text": [
      " * sqlite:///CourseData2.db\n",
      "Done.\n"
     ]
    },
    {
     "data": {
      "text/plain": [
       "[]"
      ]
     },
     "execution_count": 174,
     "metadata": {},
     "output_type": "execute_result"
    }
   ],
   "source": [
    "%%sql\n",
    "ALTER TABLE coursecatalog\n",
    "ADD term TEXT;"
   ]
  },
  {
   "cell_type": "code",
   "execution_count": 175,
   "metadata": {},
   "outputs": [
    {
     "name": "stdout",
     "output_type": "stream",
     "text": [
      " * sqlite:///CourseData2.db\n",
      "2220 rows affected.\n"
     ]
    },
    {
     "data": {
      "text/plain": [
       "[]"
      ]
     },
     "execution_count": 175,
     "metadata": {},
     "output_type": "execute_result"
    }
   ],
   "source": [
    "%%sql\n",
    "UPDATE coursecatalog\n",
    "SET term = '2017-2018';"
   ]
  },
  {
   "cell_type": "code",
   "execution_count": 176,
   "metadata": {},
   "outputs": [
    {
     "name": "stdout",
     "output_type": "stream",
     "text": [
      " * sqlite:///CourseData2.db\n",
      "Done.\n"
     ]
    },
    {
     "data": {
      "text/html": [
       "<table>\n",
       "    <tr>\n",
       "        <th>program_code</th>\n",
       "        <th>program_name</th>\n",
       "        <th>catalog_id</th>\n",
       "        <th>course_title</th>\n",
       "        <th>credits</th>\n",
       "        <th>prereqs</th>\n",
       "        <th>coreqs</th>\n",
       "        <th>fees</th>\n",
       "        <th>attributes</th>\n",
       "        <th>description</th>\n",
       "        <th>term</th>\n",
       "    </tr>\n",
       "    <tr>\n",
       "        <td>AN</td>\n",
       "        <td>Asian Studies</td>\n",
       "        <td>AN 0301</td>\n",
       "        <td>Independent Study</td>\n",
       "        <td>1-3 Credits</td>\n",
       "        <td></td>\n",
       "        <td></td>\n",
       "        <td></td>\n",
       "        <td></td>\n",
       "        <td>Students undertake an individualized program of study in consultation with a director from the Asian studies faculty.</td>\n",
       "        <td>2017-2018</td>\n",
       "    </tr>\n",
       "    <tr>\n",
       "        <td>AN</td>\n",
       "        <td>Asian Studies</td>\n",
       "        <td>AN 0310</td>\n",
       "        <td>Asian Studies Seminar</td>\n",
       "        <td>3 Credits</td>\n",
       "        <td></td>\n",
       "        <td></td>\n",
       "        <td></td>\n",
       "        <td></td>\n",
       "        <td>This seminar examines selected topics concerning Asia. This course is taught in conjunction with another 100-300 level course from a rotation of course offerings. Consult the Asian Studies director to identify the conjoined course for a given semester. The seminar concentrates on topics within the parameters of the conjoined course syllabus but adds research emphasis. Students registered for this course must complete a research project, to include 300-level research, in addition to the regular research requirements of the conjoined course, and a 25-50 page term paper in substitution of some portion of the conjoined course requirements, as determined by the instructor. Open to juniors and seniors only.</td>\n",
       "        <td>2017-2018</td>\n",
       "    </tr>\n",
       "    <tr>\n",
       "        <td>BU</td>\n",
       "        <td>Business</td>\n",
       "        <td>BU 0211</td>\n",
       "        <td>Legal Environment of Business</td>\n",
       "        <td>3 Credits</td>\n",
       "        <td>Junior standing.</td>\n",
       "        <td></td>\n",
       "        <td></td>\n",
       "        <td></td>\n",
       "        <td>This course examines the broad philosophical as well as practical nature and function of the legal system, and introduces students to the legal and social responsibilities of business. The course includes an introduction to the legal system, the federal courts, Constitutional law, the United States Supreme Court, the civil process, and regulatory areas such as employment discrimination, protection of the environment, and corporate governance and securities markets.</td>\n",
       "        <td>2017-2018</td>\n",
       "    </tr>\n",
       "    <tr>\n",
       "        <td>BU</td>\n",
       "        <td>Business</td>\n",
       "        <td>BU 0220</td>\n",
       "        <td>Environmental Law and Policy</td>\n",
       "        <td>3 Credits</td>\n",
       "        <td></td>\n",
       "        <td></td>\n",
       "        <td></td>\n",
       "        <td>EVME Environmental Studies Major Elective, EVPE Environmental Studies Elective, EVSS Environmental Studies: Social Science, MGEL Management: General Elective</td>\n",
       "        <td>This course surveys issues arising out of federal laws designed to protect the environment and manage resources. It considers in detail the role of the Environmental Protection Agency in the enforcement of environmental policies arising out of such laws as the National Environmental Policy Act, the Clean Water Act, and the Clear Air Act, among others. The course also considers the impact of Congress, political parties, bureaucracy, and interest groups in shaping environmental policy, giving special attention to the impact of environmental regulation on business and private property rights.</td>\n",
       "        <td>2017-2018</td>\n",
       "    </tr>\n",
       "    <tr>\n",
       "        <td>BU</td>\n",
       "        <td>Business</td>\n",
       "        <td>BU 0311</td>\n",
       "        <td>The Law of Contracts, Sales, and Property</td>\n",
       "        <td>3 Credits</td>\n",
       "        <td>BU 0211.</td>\n",
       "        <td></td>\n",
       "        <td></td>\n",
       "        <td></td>\n",
       "        <td>This course examines the components of common law contracts including the concepts of offer and acceptance, consideration, capacity and legality, assignment of rights and delegation of duties, as well as discharge of contracts. The course covers Articles 2 and 2A of the Uniform Commercial Code relating to leases, sales of goods, and warranties. The course also considers personal and real property, and bailments.</td>\n",
       "        <td>2017-2018</td>\n",
       "    </tr>\n",
       "</table>"
      ],
      "text/plain": [
       "[('AN', 'Asian Studies', 'AN 0301', 'Independent Study', '1-3 Credits', '', '', '', '', 'Students undertake an individualized program of study in consultation with a director from the Asian studies faculty.', '2017-2018'),\n",
       " ('AN', 'Asian Studies', 'AN 0310', 'Asian Studies Seminar', '3 Credits', '', '', '', '', 'This seminar examines selected topics concerning Asia. This course is taught in conjunction with another 100-300 level course from a rotation of cour ... (412 characters truncated) ... e term paper in substitution of some portion of the conjoined course requirements, as determined by the instructor. Open to juniors and seniors only.', '2017-2018'),\n",
       " ('BU', 'Business', 'BU 0211', 'Legal Environment of Business', '3 Credits', 'Junior standing.', '', '', '', 'This course examines the broad philosophical as well as practical nature and function of the legal system, and introduces students to the legal and s ... (171 characters truncated) ... ivil process, and regulatory areas such as employment discrimination, protection of the environment, and corporate governance and securities markets.', '2017-2018'),\n",
       " ('BU', 'Business', 'BU 0220', 'Environmental Law and Policy', '3 Credits', '', '', '', 'EVME Environmental Studies Major Elective, EVPE Environmental Studies Elective, EVSS Environmental Studies: Social Science, MGEL Management: General Elective', 'This course surveys issues arising out of federal laws designed to protect the environment and manage resources. It considers in detail the role of t ... (298 characters truncated) ... t groups in shaping environmental policy, giving special attention to the impact of environmental regulation on business and private property rights.', '2017-2018'),\n",
       " ('BU', 'Business', 'BU 0311', 'The Law of Contracts, Sales, and Property', '3 Credits', 'BU 0211.', '', '', '', 'This course examines the components of common law contracts including the concepts of offer and acceptance, consideration, capacity and legality, ass ... (117 characters truncated) ...  the Uniform Commercial Code relating to leases, sales of goods, and warranties. The course also considers personal and real property, and bailments.', '2017-2018')]"
      ]
     },
     "execution_count": 176,
     "metadata": {},
     "output_type": "execute_result"
    }
   ],
   "source": [
    "%%sql\n",
    "SELECT * \n",
    "FROM coursecatalog\n",
    "LIMIT 5;"
   ]
  },
  {
   "cell_type": "code",
   "execution_count": 177,
   "metadata": {},
   "outputs": [
    {
     "name": "stdout",
     "output_type": "stream",
     "text": [
      " * sqlite:///CourseData2.db\n",
      "2220 rows affected.\n"
     ]
    },
    {
     "data": {
      "text/plain": [
       "[]"
      ]
     },
     "execution_count": 177,
     "metadata": {},
     "output_type": "execute_result"
    }
   ],
   "source": [
    "%%sql\n",
    "INSERT INTO coursecatalog (program_code, program_name, catalog_id, course_title, credits, prereqs, coreqs, fees, attributes, description)\n",
    "SELECT program_code, program_name, catalog_id, course_title, credits, prereqs, coreqs, fees, attributes, description \n",
    "FROM coursecatalog18_19;"
   ]
  },
  {
   "cell_type": "code",
   "execution_count": null,
   "metadata": {},
   "outputs": [],
   "source": []
  },
  {
   "cell_type": "code",
   "execution_count": null,
   "metadata": {},
   "outputs": [],
   "source": []
  }
 ],
 "metadata": {
  "kernelspec": {
   "display_name": "Python 3",
   "language": "python",
   "name": "python3"
  },
  "language_info": {
   "codemirror_mode": {
    "name": "ipython",
    "version": 3
   },
   "file_extension": ".py",
   "mimetype": "text/x-python",
   "name": "python",
   "nbconvert_exporter": "python",
   "pygments_lexer": "ipython3",
   "version": "3.6.5"
  }
 },
 "nbformat": 4,
 "nbformat_minor": 2
}
